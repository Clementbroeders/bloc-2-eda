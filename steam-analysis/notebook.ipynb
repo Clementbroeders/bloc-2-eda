{
 "cells": [
  {
   "cell_type": "markdown",
   "metadata": {
    "application/vnd.databricks.v1+cell": {
     "cellMetadata": {
      "byteLimit": 2048000,
      "rowLimit": 10000
     },
     "inputWidgets": {},
     "nuid": "bf995ff0-5555-4f86-90b0-6131b6a351fd",
     "showTitle": false,
     "title": ""
    }
   },
   "source": [
    "#NOTEBOOK STEAM ANALYSIS (PYSPARK)"
   ]
  },
  {
   "cell_type": "markdown",
   "metadata": {
    "application/vnd.databricks.v1+cell": {
     "cellMetadata": {
      "byteLimit": 2048000,
      "rowLimit": 10000
     },
     "inputWidgets": {},
     "nuid": "6894c637-2846-48eb-a320-f25e92b00b9a",
     "showTitle": false,
     "title": ""
    }
   },
   "source": [
    "<img src=\"https://th.bing.com/th/id/OIG.2dAGDtq6kLNfFrMJgA40?pid=ImgGn\" alt=\"Image\" width=\"30%\" height=\"30%\">"
   ]
  },
  {
   "cell_type": "markdown",
   "metadata": {
    "application/vnd.databricks.v1+cell": {
     "cellMetadata": {
      "byteLimit": 2048000,
      "rowLimit": 10000
     },
     "inputWidgets": {},
     "nuid": "cb0b9b0f-496f-4489-a271-200a347b00ad",
     "showTitle": false,
     "title": ""
    }
   },
   "source": [
    "## IMPORTATION DES LIBRAIRIES ET DU FICHIER"
   ]
  },
  {
   "cell_type": "code",
   "execution_count": 0,
   "metadata": {
    "application/vnd.databricks.v1+cell": {
     "cellMetadata": {
      "byteLimit": 2048000,
      "rowLimit": 10000
     },
     "inputWidgets": {},
     "nuid": "1c698df6-bf9b-43d5-81d5-bd7d2fb85594",
     "showTitle": false,
     "title": ""
    }
   },
   "outputs": [
    {
     "output_type": "execute_result",
     "data": {
      "text/html": [
       "\n",
       "            <div>\n",
       "                <p><b>SparkSession - hive</b></p>\n",
       "                \n",
       "        <div>\n",
       "            <p><b>SparkContext</b></p>\n",
       "\n",
       "            <p><a href=\"/?o=8159538787246508#setting/sparkui/0107-145146-w444mkp1/driver-4025973029302782149\">Spark UI</a></p>\n",
       "\n",
       "            <dl>\n",
       "              <dt>Version</dt>\n",
       "                <dd><code>v3.5.0</code></dd>\n",
       "              <dt>Master</dt>\n",
       "                <dd><code>local[8]</code></dd>\n",
       "              <dt>AppName</dt>\n",
       "                <dd><code>Databricks Shell</code></dd>\n",
       "            </dl>\n",
       "        </div>\n",
       "        \n",
       "            </div>\n",
       "        "
      ],
      "text/plain": [
       "<pyspark.sql.session.SparkSession at 0x7f2810e20c40>"
      ]
     },
     "execution_count": 1,
     "metadata": {},
     "output_type": "execute_result"
    }
   ],
   "source": [
    "# Importation des librairies\n",
    "import pandas as pd\n",
    "from pyspark.sql import SparkSession\n",
    "from pyspark.sql import functions as F\n",
    "from pyspark.sql.window import Window\n",
    "from pyspark.sql.types import IntegerType, BooleanType, DateType, DecimalType\n",
    "spark"
   ]
  },
  {
   "cell_type": "code",
   "execution_count": 0,
   "metadata": {
    "application/vnd.databricks.v1+cell": {
     "cellMetadata": {
      "byteLimit": 2048000,
      "rowLimit": 10000
     },
     "inputWidgets": {},
     "nuid": "256361fc-d07b-4d0b-84bc-a731519eaa42",
     "showTitle": false,
     "title": ""
    }
   },
   "outputs": [
    {
     "output_type": "stream",
     "name": "stdout",
     "output_type": "stream",
     "text": [
      "+--------------------+-------+\n|                data|     id|\n+--------------------+-------+\n|{10, [Multi-playe...|     10|\n|{1000000, [Single...|1000000|\n|{1000010, [Single...|1000010|\n|{1000030, [Multi-...|1000030|\n|{1000040, [Single...|1000040|\n+--------------------+-------+\nonly showing top 5 rows\n\n"
     ]
    }
   ],
   "source": [
    "# Importation du fichier Json\n",
    "\n",
    "filepath = \"s3://full-stack-bigdata-datasets/Big_Data/Project_Steam/steam_game_output.json\"\n",
    "df = spark.read.json(filepath)\n",
    "df_count = df.count()\n",
    "df.show(5)"
   ]
  },
  {
   "cell_type": "code",
   "execution_count": 0,
   "metadata": {
    "application/vnd.databricks.v1+cell": {
     "cellMetadata": {
      "byteLimit": 2048000,
      "rowLimit": 10000
     },
     "inputWidgets": {},
     "nuid": "b30be891-70ac-46cc-b0a2-84c3372465e6",
     "showTitle": false,
     "title": ""
    }
   },
   "outputs": [
    {
     "output_type": "stream",
     "name": "stdout",
     "output_type": "stream",
     "text": [
      "root\n |-- data: struct (nullable = true)\n |    |-- appid: long (nullable = true)\n |    |-- categories: array (nullable = true)\n |    |    |-- element: string (containsNull = true)\n |    |-- ccu: long (nullable = true)\n |    |-- developer: string (nullable = true)\n |    |-- discount: string (nullable = true)\n |    |-- genre: string (nullable = true)\n |    |-- header_image: string (nullable = true)\n |    |-- initialprice: string (nullable = true)\n |    |-- languages: string (nullable = true)\n |    |-- name: string (nullable = true)\n |    |-- negative: long (nullable = true)\n |    |-- owners: string (nullable = true)\n |    |-- platforms: struct (nullable = true)\n |    |    |-- linux: boolean (nullable = true)\n |    |    |-- mac: boolean (nullable = true)\n |    |    |-- windows: boolean (nullable = true)\n |    |-- positive: long (nullable = true)\n |    |-- price: string (nullable = true)\n |    |-- publisher: string (nullable = true)\n |    |-- release_date: string (nullable = true)\n |    |-- required_age: string (nullable = true)\n |    |-- short_description: string (nullable = true)\n |    |-- tags: struct (nullable = true)\n |    |    |-- 1980s: long (nullable = true)\n |    |    |-- 1990's: long (nullable = true)\n |    |    |-- 2.5D: long (nullable = true)\n |    |    |-- 2D: long (nullable = true)\n |    |    |-- 2D Fighter: long (nullable = true)\n |    |    |-- 2D Platformer: long (nullable = true)\n |    |    |-- 360 Video: long (nullable = true)\n |    |    |-- 3D: long (nullable = true)\n |    |    |-- 3D Fighter: long (nullable = true)\n |    |    |-- 3D Platformer: long (nullable = true)\n |    |    |-- 3D Vision: long (nullable = true)\n |    |    |-- 4 Player Local: long (nullable = true)\n |    |    |-- 4X: long (nullable = true)\n |    |    |-- 6DOF: long (nullable = true)\n |    |    |-- 8-bit Music: long (nullable = true)\n |    |    |-- ATV: long (nullable = true)\n |    |    |-- Abstract: long (nullable = true)\n |    |    |-- Action: long (nullable = true)\n |    |    |-- Action RPG: long (nullable = true)\n |    |    |-- Action RTS: long (nullable = true)\n |    |    |-- Action Roguelike: long (nullable = true)\n |    |    |-- Action-Adventure: long (nullable = true)\n |    |    |-- Addictive: long (nullable = true)\n |    |    |-- Adventure: long (nullable = true)\n |    |    |-- Agriculture: long (nullable = true)\n |    |    |-- Aliens: long (nullable = true)\n |    |    |-- Alternate History: long (nullable = true)\n |    |    |-- Ambient: long (nullable = true)\n |    |    |-- America: long (nullable = true)\n |    |    |-- Animation & Modeling: long (nullable = true)\n |    |    |-- Anime: long (nullable = true)\n |    |    |-- Arcade: long (nullable = true)\n |    |    |-- Archery: long (nullable = true)\n |    |    |-- Arena Shooter: long (nullable = true)\n |    |    |-- Artificial Intelligence: long (nullable = true)\n |    |    |-- Assassin: long (nullable = true)\n |    |    |-- Asymmetric VR: long (nullable = true)\n |    |    |-- Asynchronous Multiplayer: long (nullable = true)\n |    |    |-- Atmospheric: long (nullable = true)\n |    |    |-- Audio Production: long (nullable = true)\n |    |    |-- Auto Battler: long (nullable = true)\n |    |    |-- Automation: long (nullable = true)\n |    |    |-- Automobile Sim: long (nullable = true)\n |    |    |-- BMX: long (nullable = true)\n |    |    |-- Base-Building: long (nullable = true)\n |    |    |-- Baseball: long (nullable = true)\n |    |    |-- Based On A Novel: long (nullable = true)\n |    |    |-- Basketball: long (nullable = true)\n |    |    |-- Battle Royale: long (nullable = true)\n |    |    |-- Beat 'em up: long (nullable = true)\n |    |    |-- Beautiful: long (nullable = true)\n |    |    |-- Benchmark: long (nullable = true)\n |    |    |-- Bikes: long (nullable = true)\n |    |    |-- Blood: long (nullable = true)\n |    |    |-- Board Game: long (nullable = true)\n |    |    |-- Boss Rush: long (nullable = true)\n |    |    |-- Bowling: long (nullable = true)\n |    |    |-- Boxing: long (nullable = true)\n |    |    |-- Building: long (nullable = true)\n |    |    |-- Bullet Hell: long (nullable = true)\n |    |    |-- Bullet Time: long (nullable = true)\n |    |    |-- CRPG: long (nullable = true)\n |    |    |-- Capitalism: long (nullable = true)\n |    |    |-- Card Battler: long (nullable = true)\n |    |    |-- Card Game: long (nullable = true)\n |    |    |-- Cartoon: long (nullable = true)\n |    |    |-- Cartoony: long (nullable = true)\n |    |    |-- Casual: long (nullable = true)\n |    |    |-- Cats: long (nullable = true)\n |    |    |-- Character Action Game: long (nullable = true)\n |    |    |-- Character Customization: long (nullable = true)\n |    |    |-- Chess: long (nullable = true)\n |    |    |-- Choices Matter: long (nullable = true)\n |    |    |-- Choose Your Own Adventure: long (nullable = true)\n |    |    |-- Cinematic: long (nullable = true)\n |    |    |-- City Builder: long (nullable = true)\n |    |    |-- Class-Based: long (nullable = true)\n |    |    |-- Classic: long (nullable = true)\n |    |    |-- Clicker: long (nullable = true)\n |    |    |-- Co-op: long (nullable = true)\n |    |    |-- Co-op Campaign: long (nullable = true)\n |    |    |-- Coding: long (nullable = true)\n |    |    |-- Cold War: long (nullable = true)\n |    |    |-- Collectathon: long (nullable = true)\n |    |    |-- Colony Sim: long (nullable = true)\n |    |    |-- Colorful: long (nullable = true)\n |    |    |-- Combat: long (nullable = true)\n |    |    |-- Combat Racing: long (nullable = true)\n |    |    |-- Comedy: long (nullable = true)\n |    |    |-- Comic Book: long (nullable = true)\n |    |    |-- Competitive: long (nullable = true)\n |    |    |-- Conspiracy: long (nullable = true)\n |    |    |-- Controller: long (nullable = true)\n |    |    |-- Conversation: long (nullable = true)\n |    |    |-- Cooking: long (nullable = true)\n |    |    |-- Cozy: long (nullable = true)\n |    |    |-- Crafting: long (nullable = true)\n |    |    |-- Creature Collector: long (nullable = true)\n |    |    |-- Cricket: long (nullable = true)\n |    |    |-- Crime: long (nullable = true)\n |    |    |-- Crowdfunded: long (nullable = true)\n |    |    |-- Cult Classic: long (nullable = true)\n |    |    |-- Cute: long (nullable = true)\n |    |    |-- Cyberpunk: long (nullable = true)\n |    |    |-- Cycling: long (nullable = true)\n |    |    |-- Dark: long (nullable = true)\n |    |    |-- Dark Comedy: long (nullable = true)\n |    |    |-- Dark Fantasy: long (nullable = true)\n |    |    |-- Dark Humor: long (nullable = true)\n |    |    |-- Dating Sim: long (nullable = true)\n |    |    |-- Deckbuilding: long (nullable = true)\n |    |    |-- Demons: long (nullable = true)\n |    |    |-- Design & Illustration: long (nullable = true)\n |    |    |-- Destruction: long (nullable = true)\n |    |    |-- Detective: long (nullable = true)\n |    |    |-- Difficult: long (nullable = true)\n |    |    |-- Dinosaurs: long (nullable = true)\n |    |    |-- Diplomacy: long (nullable = true)\n |    |    |-- Documentary: long (nullable = true)\n |    |    |-- Dog: long (nullable = true)\n |    |    |-- Dragons: long (nullable = true)\n |    |    |-- Drama: long (nullable = true)\n |    |    |-- Driving: long (nullable = true)\n |    |    |-- Dungeon Crawler: long (nullable = true)\n |    |    |-- Dungeons & Dragons: long (nullable = true)\n |    |    |-- Dynamic Narration: long (nullable = true)\n |    |    |-- Dystopian : long (nullable = true)\n |    |    |-- Early Access: long (nullable = true)\n |    |    |-- Economy: long (nullable = true)\n |    |    |-- Education: long (nullable = true)\n |    |    |-- Electronic: long (nullable = true)\n |    |    |-- Electronic Music: long (nullable = true)\n |    |    |-- Emotional: long (nullable = true)\n |    |    |-- Epic: long (nullable = true)\n |    |    |-- Episodic: long (nullable = true)\n |    |    |-- Escape Room: long (nullable = true)\n |    |    |-- Experience: long (nullable = true)\n |    |    |-- Experimental: long (nullable = true)\n |    |    |-- Exploration: long (nullable = true)\n |    |    |-- FMV: long (nullable = true)\n |    |    |-- FPS: long (nullable = true)\n |    |    |-- Faith: long (nullable = true)\n |    |    |-- Family Friendly: long (nullable = true)\n |    |    |-- Fantasy: long (nullable = true)\n |    |    |-- Farming: long (nullable = true)\n |    |    |-- Farming Sim: long (nullable = true)\n |    |    |-- Fast-Paced: long (nullable = true)\n |    |    |-- Feature Film: long (nullable = true)\n |    |    |-- Female Protagonist: long (nullable = true)\n |    |    |-- Fighting: long (nullable = true)\n |    |    |-- First-Person: long (nullable = true)\n |    |    |-- Fishing: long (nullable = true)\n |    |    |-- Flight: long (nullable = true)\n |    |    |-- Football: long (nullable = true)\n |    |    |-- Foreign: long (nullable = true)\n |    |    |-- Free to Play: long (nullable = true)\n |    |    |-- Funny: long (nullable = true)\n |    |    |-- Futuristic: long (nullable = true)\n |    |    |-- Gambling: long (nullable = true)\n |    |    |-- Game Development: long (nullable = true)\n |    |    |-- GameMaker: long (nullable = true)\n |    |    |-- Games Workshop: long (nullable = true)\n |    |    |-- Gaming: long (nullable = true)\n |    |    |-- God Game: long (nullable = true)\n |    |    |-- Golf: long (nullable = true)\n |    |    |-- Gore: long (nullable = true)\n |    |    |-- Gothic: long (nullable = true)\n |    |    |-- Grand Strategy: long (nullable = true)\n |    |    |-- Great Soundtrack: long (nullable = true)\n |    |    |-- Grid-Based Movement: long (nullable = true)\n |    |    |-- Gun Customization: long (nullable = true)\n |    |    |-- Hack and Slash: long (nullable = true)\n |    |    |-- Hacking: long (nullable = true)\n |    |    |-- Hand-drawn: long (nullable = true)\n |    |    |-- Hardware: long (nullable = true)\n |    |    |-- Heist: long (nullable = true)\n |    |    |-- Hentai: long (nullable = true)\n |    |    |-- Hero Shooter: long (nullable = true)\n |    |    |-- Hex Grid: long (nullable = true)\n |    |    |-- Hidden Object: long (nullable = true)\n |    |    |-- Historical: long (nullable = true)\n |    |    |-- Hockey: long (nullable = true)\n |    |    |-- Horror: long (nullable = true)\n |    |    |-- Horses: long (nullable = true)\n |    |    |-- Hunting: long (nullable = true)\n |    |    |-- Idler: long (nullable = true)\n |    |    |-- Illuminati: long (nullable = true)\n |    |    |-- Immersive: long (nullable = true)\n |    |    |-- Immersive Sim: long (nullable = true)\n |    |    |-- Indie: long (nullable = true)\n |    |    |-- Instrumental Music: long (nullable = true)\n |    |    |-- Intentionally Awkward Controls: long (nullable = true)\n |    |    |-- Interactive Fiction: long (nullable = true)\n |    |    |-- Inventory Management: long (nullable = true)\n |    |    |-- Investigation: long (nullable = true)\n |    |    |-- Isometric: long (nullable = true)\n |    |    |-- JRPG: long (nullable = true)\n |    |    |-- Jet: long (nullable = true)\n |    |    |-- Job Simulator: long (nullable = true)\n |    |    |-- Jump Scare: long (nullable = true)\n |    |    |-- Kickstarter: long (nullable = true)\n |    |    |-- LEGO: long (nullable = true)\n |    |    |-- LGBTQ+: long (nullable = true)\n |    |    |-- Lemmings: long (nullable = true)\n |    |    |-- Level Editor: long (nullable = true)\n |    |    |-- Life Sim: long (nullable = true)\n |    |    |-- Linear: long (nullable = true)\n |    |    |-- Local Co-Op: long (nullable = true)\n |    |    |-- Local Multiplayer: long (nullable = true)\n |    |    |-- Logic: long (nullable = true)\n |    |    |-- Loot: long (nullable = true)\n |    |    |-- Looter Shooter: long (nullable = true)\n |    |    |-- Lore-Rich: long (nullable = true)\n |    |    |-- Lovecraftian: long (nullable = true)\n |    |    |-- MMORPG: long (nullable = true)\n |    |    |-- MOBA: long (nullable = true)\n |    |    |-- Magic: long (nullable = true)\n |    |    |-- Mahjong: long (nullable = true)\n |    |    |-- Management: long (nullable = true)\n |    |    |-- Mars: long (nullable = true)\n |    |    |-- Martial Arts: long (nullable = true)\n |    |    |-- Massively Multiplayer: long (nullable = true)\n |    |    |-- Masterpiece: long (nullable = true)\n |    |    |-- Match 3: long (nullable = true)\n |    |    |-- Mature: long (nullable = true)\n |    |    |-- Mechs: long (nullable = true)\n |    |    |-- Medical Sim: long (nullable = true)\n |    |    |-- Medieval: long (nullable = true)\n |    |    |-- Memes: long (nullable = true)\n |    |    |-- Metroidvania: long (nullable = true)\n |    |    |-- Military: long (nullable = true)\n |    |    |-- Mini Golf: long (nullable = true)\n |    |    |-- Minigames: long (nullable = true)\n |    |    |-- Minimalist: long (nullable = true)\n |    |    |-- Mining: long (nullable = true)\n |    |    |-- Mod: long (nullable = true)\n |    |    |-- Moddable: long (nullable = true)\n |    |    |-- Modern: long (nullable = true)\n |    |    |-- Motocross: long (nullable = true)\n |    |    |-- Motorbike: long (nullable = true)\n |    |    |-- Mouse only: long (nullable = true)\n |    |    |-- Movie: long (nullable = true)\n |    |    |-- Multiplayer: long (nullable = true)\n |    |    |-- Multiple Endings: long (nullable = true)\n |    |    |-- Music: long (nullable = true)\n |    |    |-- Music-Based Procedural Generation: long (nullable = true)\n |    |    |-- Musou: long (nullable = true)\n |    |    |-- Mystery: long (nullable = true)\n |    |    |-- Mystery Dungeon: long (nullable = true)\n |    |    |-- Mythology: long (nullable = true)\n |    |    |-- NSFW: long (nullable = true)\n |    |    |-- Narration: long (nullable = true)\n |    |    |-- Narrative: long (nullable = true)\n |    |    |-- Nature: long (nullable = true)\n |    |    |-- Naval: long (nullable = true)\n |    |    |-- Naval Combat: long (nullable = true)\n |    |    |-- Ninja: long (nullable = true)\n |    |    |-- Noir: long (nullable = true)\n |    |    |-- Nonlinear: long (nullable = true)\n |    |    |-- Nostalgia: long (nullable = true)\n |    |    |-- Nudity: long (nullable = true)\n |    |    |-- Offroad: long (nullable = true)\n |    |    |-- Old School: long (nullable = true)\n |    |    |-- On-Rails Shooter: long (nullable = true)\n |    |    |-- Online Co-Op: long (nullable = true)\n |    |    |-- Open World: long (nullable = true)\n |    |    |-- Open World Survival Craft: long (nullable = true)\n |    |    |-- Otome: long (nullable = true)\n |    |    |-- Outbreak Sim: long (nullable = true)\n |    |    |-- Parkour: long (nullable = true)\n |    |    |-- Parody : long (nullable = true)\n |    |    |-- Party: long (nullable = true)\n |    |    |-- Party Game: long (nullable = true)\n |    |    |-- Party-Based RPG: long (nullable = true)\n |    |    |-- Perma Death: long (nullable = true)\n |    |    |-- Philosophical: long (nullable = true)\n |    |    |-- Photo Editing: long (nullable = true)\n |    |    |-- Physics: long (nullable = true)\n |    |    |-- Pinball: long (nullable = true)\n |    |    |-- Pirates: long (nullable = true)\n |    |    |-- Pixel Graphics: long (nullable = true)\n |    |    |-- Platformer: long (nullable = true)\n |    |    |-- Point & Click: long (nullable = true)\n |    |    |-- Political: long (nullable = true)\n |    |    |-- Political Sim: long (nullable = true)\n |    |    |-- Politics: long (nullable = true)\n |    |    |-- Pool: long (nullable = true)\n |    |    |-- Post-apocalyptic: long (nullable = true)\n |    |    |-- Precision Platformer: long (nullable = true)\n |    |    |-- Procedural Generation: long (nullable = true)\n |    |    |-- Programming: long (nullable = true)\n |    |    |-- Psychedelic: long (nullable = true)\n |    |    |-- Psychological: long (nullable = true)\n |    |    |-- Psychological Horror: long (nullable = true)\n |    |    |-- Puzzle: long (nullable = true)\n |    |    |-- Puzzle-Platformer: long (nullable = true)\n |    |    |-- PvE: long (nullable = true)\n |    |    |-- PvP: long (nullable = true)\n |    |    |-- Quick-Time Events: long (nullable = true)\n |    |    |-- RPG: long (nullable = true)\n |    |    |-- RPGMaker: long (nullable = true)\n |    |    |-- RTS: long (nullable = true)\n |    |    |-- Racing: long (nullable = true)\n |    |    |-- Real Time Tactics: long (nullable = true)\n |    |    |-- Real-Time: long (nullable = true)\n |    |    |-- Real-Time with Pause: long (nullable = true)\n |    |    |-- Realistic: long (nullable = true)\n |    |    |-- Reboot: long (nullable = true)\n |    |    |-- Relaxing: long (nullable = true)\n |    |    |-- Remake: long (nullable = true)\n |    |    |-- Replay Value: long (nullable = true)\n |    |    |-- Resource Management: long (nullable = true)\n |    |    |-- Retro: long (nullable = true)\n |    |    |-- Rhythm: long (nullable = true)\n |    |    |-- Robots: long (nullable = true)\n |    |    |-- Rock Music: long (nullable = true)\n |    |    |-- Rogue-like: long (nullable = true)\n |    |    |-- Rogue-lite: long (nullable = true)\n |    |    |-- Roguelike Deckbuilder: long (nullable = true)\n |    |    |-- Roguevania: long (nullable = true)\n |    |    |-- Romance: long (nullable = true)\n |    |    |-- Rome: long (nullable = true)\n |    |    |-- Rugby: long (nullable = true)\n |    |    |-- Runner: long (nullable = true)\n |    |    |-- Sailing: long (nullable = true)\n |    |    |-- Sandbox: long (nullable = true)\n |    |    |-- Satire: long (nullable = true)\n |    |    |-- Sci-fi: long (nullable = true)\n |    |    |-- Science: long (nullable = true)\n |    |    |-- Score Attack: long (nullable = true)\n |    |    |-- Sequel: long (nullable = true)\n |    |    |-- Sexual Content: long (nullable = true)\n |    |    |-- Shoot 'Em Up: long (nullable = true)\n |    |    |-- Shooter: long (nullable = true)\n |    |    |-- Shop Keeper: long (nullable = true)\n |    |    |-- Short: long (nullable = true)\n |    |    |-- Side Scroller: long (nullable = true)\n |    |    |-- Silent Protagonist: long (nullable = true)\n |    |    |-- Simulation: long (nullable = true)\n |    |    |-- Singleplayer: long (nullable = true)\n |    |    |-- Skateboarding: long (nullable = true)\n |    |    |-- Skating: long (nullable = true)\n |    |    |-- Skiing: long (nullable = true)\n |    |    |-- Sniper: long (nullable = true)\n |    |    |-- Snooker: long (nullable = true)\n |    |    |-- Snow: long (nullable = true)\n |    |    |-- Snowboarding: long (nullable = true)\n |    |    |-- Soccer: long (nullable = true)\n |    |    |-- Social Deduction: long (nullable = true)\n |    |    |-- Software: long (nullable = true)\n |    |    |-- Software Training: long (nullable = true)\n |    |    |-- Sokoban: long (nullable = true)\n |    |    |-- Solitaire: long (nullable = true)\n |    |    |-- Souls-like: long (nullable = true)\n |    |    |-- Soundtrack: long (nullable = true)\n |    |    |-- Space: long (nullable = true)\n |    |    |-- Space Sim: long (nullable = true)\n |    |    |-- Spaceships: long (nullable = true)\n |    |    |-- Spectacle fighter: long (nullable = true)\n |    |    |-- Spelling: long (nullable = true)\n |    |    |-- Split Screen: long (nullable = true)\n |    |    |-- Sports: long (nullable = true)\n |    |    |-- Stealth: long (nullable = true)\n |    |    |-- Steam Machine: long (nullable = true)\n |    |    |-- Steampunk: long (nullable = true)\n |    |    |-- Story Rich: long (nullable = true)\n |    |    |-- Strategy: long (nullable = true)\n |    |    |-- Strategy RPG: long (nullable = true)\n |    |    |-- Stylized: long (nullable = true)\n |    |    |-- Submarine: long (nullable = true)\n |    |    |-- Superhero: long (nullable = true)\n |    |    |-- Supernatural: long (nullable = true)\n |    |    |-- Surreal: long (nullable = true)\n |    |    |-- Survival: long (nullable = true)\n |    |    |-- Survival Horror: long (nullable = true)\n |    |    |-- Swordplay: long (nullable = true)\n |    |    |-- Tabletop: long (nullable = true)\n |    |    |-- Tactical: long (nullable = true)\n |    |    |-- Tactical RPG: long (nullable = true)\n |    |    |-- Tanks: long (nullable = true)\n |    |    |-- Team-Based: long (nullable = true)\n |    |    |-- Tennis: long (nullable = true)\n |    |    |-- Text-Based: long (nullable = true)\n |    |    |-- Third Person: long (nullable = true)\n |    |    |-- Third-Person Shooter: long (nullable = true)\n |    |    |-- Thriller: long (nullable = true)\n |    |    |-- Tile-Matching: long (nullable = true)\n |    |    |-- Time Attack: long (nullable = true)\n |    |    |-- Time Management: long (nullable = true)\n |    |    |-- Time Manipulation: long (nullable = true)\n |    |    |-- Time Travel: long (nullable = true)\n |    |    |-- Top-Down: long (nullable = true)\n |    |    |-- Top-Down Shooter: long (nullable = true)\n |    |    |-- Touch-Friendly: long (nullable = true)\n |    |    |-- Tower Defense: long (nullable = true)\n |    |    |-- TrackIR: long (nullable = true)\n |    |    |-- Trading: long (nullable = true)\n |    |    |-- Trading Card Game: long (nullable = true)\n |    |    |-- Traditional Roguelike: long (nullable = true)\n |    |    |-- Trains: long (nullable = true)\n |    |    |-- Transhumanism: long (nullable = true)\n |    |    |-- Transportation: long (nullable = true)\n |    |    |-- Trivia: long (nullable = true)\n |    |    |-- Turn-Based: long (nullable = true)\n |    |    |-- Turn-Based Combat: long (nullable = true)\n |    |    |-- Turn-Based Strategy: long (nullable = true)\n |    |    |-- Turn-Based Tactics: long (nullable = true)\n |    |    |-- Tutorial: long (nullable = true)\n |    |    |-- Twin Stick Shooter: long (nullable = true)\n |    |    |-- Typing: long (nullable = true)\n |    |    |-- Underground: long (nullable = true)\n |    |    |-- Underwater: long (nullable = true)\n |    |    |-- Unforgiving: long (nullable = true)\n |    |    |-- Utilities: long (nullable = true)\n |    |    |-- VR: long (nullable = true)\n |    |    |-- VR Only: long (nullable = true)\n |    |    |-- Vampire: long (nullable = true)\n |    |    |-- Vehicular Combat: long (nullable = true)\n |    |    |-- Video Production: long (nullable = true)\n |    |    |-- Vikings: long (nullable = true)\n |    |    |-- Villain Protagonist: long (nullable = true)\n |    |    |-- Violent: long (nullable = true)\n |    |    |-- Visual Novel: long (nullable = true)\n |    |    |-- Voice Control: long (nullable = true)\n |    |    |-- Volleyball: long (nullable = true)\n |    |    |-- Voxel: long (nullable = true)\n |    |    |-- Walking Simulator: long (nullable = true)\n |    |    |-- War: long (nullable = true)\n |    |    |-- Wargame: long (nullable = true)\n |    |    |-- Warhammer 40K: long (nullable = true)\n |    |    |-- Web Publishing: long (nullable = true)\n |    |    |-- Well-Written: long (nullable = true)\n |    |    |-- Werewolves: long (nullable = true)\n |    |    |-- Western: long (nullable = true)\n |    |    |-- Wholesome: long (nullable = true)\n |    |    |-- Word Game: long (nullable = true)\n |    |    |-- World War I: long (nullable = true)\n |    |    |-- World War II: long (nullable = true)\n |    |    |-- Wrestling: long (nullable = true)\n |    |    |-- Zombies: long (nullable = true)\n |    |    |-- e-sports: long (nullable = true)\n |    |-- type: string (nullable = true)\n |    |-- website: string (nullable = true)\n |-- id: string (nullable = true)\n\n"
     ]
    }
   ],
   "source": [
    "# Affichage du schéma\n",
    "\n",
    "df.printSchema()"
   ]
  },
  {
   "cell_type": "markdown",
   "metadata": {
    "application/vnd.databricks.v1+cell": {
     "cellMetadata": {
      "byteLimit": 2048000,
      "rowLimit": 10000
     },
     "inputWidgets": {},
     "nuid": "413a6468-6b40-4d23-82d0-d8e01a299fb6",
     "showTitle": false,
     "title": ""
    }
   },
   "source": [
    "## SOMMAIRE\n",
    "\n",
    "<h5>PARTIE 1 : ANALYSE MACRO</h5>\n",
    "\n",
    "A) Editeurs ayant le plus publié\n",
    "\n",
    "B) Les jeux les mieux notés\n",
    "\n",
    "C) Evolution des sorties dans le temps\n",
    "\n",
    "D) Distrubtion des prix de vente\n",
    "\n",
    "E) Les jeux en promotion\n",
    "\n",
    "F) Les langues les plus représentées\n",
    "\n",
    "G) Les jeux réservés aux personnes de 16 ans et plus\n",
    "\n",
    "\n",
    "<h5>PARTIE 2 : ANALYSE PAR CATEGORIE</h5>\n",
    "\n",
    "A) Les catégories les plus représentées\n",
    "\n",
    "B) Les catégories les mieux notés\n",
    "\n",
    "C) Les catégories préférés des éditeurs\n",
    "\n",
    "D) Les catégories les plus rentables\n",
    "\n",
    "<h5>PARTIE 3 : ANALYSE PAR PLATEFORME</h5>\n",
    "\n",
    "A) Les disponiblités des jeux selon les systèmes d'exploitation\n",
    "\n",
    "B) L'influence des catégories sur le choix des plateformes"
   ]
  },
  {
   "cell_type": "markdown",
   "metadata": {
    "application/vnd.databricks.v1+cell": {
     "cellMetadata": {
      "byteLimit": 2048000,
      "rowLimit": 10000
     },
     "inputWidgets": {},
     "nuid": "9d8fc227-7bf9-42a2-9493-38c4c68dad28",
     "showTitle": false,
     "title": ""
    }
   },
   "source": [
    "## PARTIE 1 : ANALYSE MACRO"
   ]
  },
  {
   "cell_type": "markdown",
   "metadata": {
    "application/vnd.databricks.v1+cell": {
     "cellMetadata": {
      "byteLimit": 2048000,
      "rowLimit": 10000
     },
     "inputWidgets": {},
     "nuid": "208ab76a-a825-44f5-b03d-79feec24f5b1",
     "showTitle": false,
     "title": ""
    }
   },
   "source": [
    "### A) Editeurs ayant le plus publié"
   ]
  },
  {
   "cell_type": "code",
   "execution_count": 0,
   "metadata": {
    "application/vnd.databricks.v1+cell": {
     "cellMetadata": {
      "byteLimit": 2048000,
      "rowLimit": 10000
     },
     "inputWidgets": {},
     "nuid": "293737ee-fc4f-4d70-8e88-5ef3e67a0fc5",
     "showTitle": false,
     "title": ""
    }
   },
   "outputs": [
    {
     "output_type": "display_data",
     "data": {
      "text/html": [
       "<style scoped>\n",
       "  .table-result-container {\n",
       "    max-height: 300px;\n",
       "    overflow: auto;\n",
       "  }\n",
       "  table, th, td {\n",
       "    border: 1px solid black;\n",
       "    border-collapse: collapse;\n",
       "  }\n",
       "  th, td {\n",
       "    padding: 5px;\n",
       "  }\n",
       "  th {\n",
       "    text-align: left;\n",
       "  }\n",
       "</style><div class='table-result-container'><table class='table-result'><thead style='background-color: white'><tr><th>publisher</th><th>count</th></tr></thead><tbody><tr><td>Big Fish Games</td><td>422</td></tr><tr><td>8floor</td><td>202</td></tr><tr><td>SEGA</td><td>165</td></tr><tr><td>Strategy First</td><td>151</td></tr><tr><td>Square Enix</td><td>141</td></tr><tr><td>Choice of Games</td><td>140</td></tr><tr><td>Sekai Project</td><td>132</td></tr><tr><td>HH-Games</td><td>132</td></tr><tr><td>Ubisoft</td><td>127</td></tr><tr><td>Laush Studio</td><td>126</td></tr></tbody></table></div>"
      ]
     },
     "metadata": {
      "application/vnd.databricks.v1+output": {
       "addedWidgets": {},
       "aggData": [],
       "aggError": "",
       "aggOverflow": false,
       "aggSchema": [],
       "aggSeriesLimitReached": false,
       "aggType": "",
       "arguments": {},
       "columnCustomDisplayInfos": {},
       "data": [
        [
         "Big Fish Games",
         422
        ],
        [
         "8floor",
         202
        ],
        [
         "SEGA",
         165
        ],
        [
         "Strategy First",
         151
        ],
        [
         "Square Enix",
         141
        ],
        [
         "Choice of Games",
         140
        ],
        [
         "Sekai Project",
         132
        ],
        [
         "HH-Games",
         132
        ],
        [
         "Ubisoft",
         127
        ],
        [
         "Laush Studio",
         126
        ]
       ],
       "datasetInfos": [],
       "dbfsResultPath": null,
       "isJsonSchema": true,
       "metadata": {},
       "overflow": false,
       "plotOptions": {
        "customPlotOptions": {},
        "displayType": "table",
        "pivotAggregation": null,
        "pivotColumns": null,
        "xColumns": null,
        "yColumns": null
       },
       "removedWidgets": [],
       "schema": [
        {
         "metadata": "{}",
         "name": "publisher",
         "type": "\"string\""
        },
        {
         "metadata": "{}",
         "name": "count",
         "type": "\"long\""
        }
       ],
       "type": "table"
      }
     },
     "output_type": "display_data"
    },
    {
     "output_type": "display_data",
     "data": {
      "text/plain": [
       "Databricks visualization. Run in Databricks to view."
      ]
     },
     "metadata": {
      "application/vnd.databricks.v1.subcommand+json": {
       "bindings": {},
       "collapsed": false,
       "command": "%python\n__backend_agg_display_orig = display\n__backend_agg_dfs = []\ndef __backend_agg_display_new(df):\n    __backend_agg_df_modules = [\"pandas.core.frame\", \"databricks.koalas.frame\", \"pyspark.sql.dataframe\", \"pyspark.pandas.frame\", \"pyspark.sql.connect.dataframe\"]\n    if (type(df).__module__ in __backend_agg_df_modules and type(df).__name__ == 'DataFrame') or isinstance(df, list):\n        __backend_agg_dfs.append(df)\n\ndisplay = __backend_agg_display_new\n\ndef __backend_agg_user_code_fn():\n    import base64\n    exec(base64.standard_b64decode(\"ZGZfcHVibGlzaGVyID0gZGYuZ3JvdXBCeSgnZGF0YS5wdWJsaXNoZXInKVwKICAgIC5jb3VudCgpXAogICAgLnNvcnQoJ2NvdW50JywgYXNjZW5kaW5nPUZhbHNlKVwKICAgIC5maWx0ZXIoRi5jb2woJ3B1Ymxpc2hlcicpICE9ICcnKVwKICAgIC5saW1pdCgxMCkKCmRpc3BsYXkoZGZfcHVibGlzaGVyKQ==\").decode())\n\ntry:\n    # run user code\n    __backend_agg_user_code_fn()\n\n    #reset display function\n    display = __backend_agg_display_orig\n\n    if len(__backend_agg_dfs) > 0:\n        # create a temp view\n        if type(__backend_agg_dfs[0]).__module__ == \"databricks.koalas.frame\":\n            # koalas dataframe\n            __backend_agg_dfs[0].to_spark().createOrReplaceTempView(\"DatabricksView6615f1c\")\n        elif type(__backend_agg_dfs[0]).__module__ == \"pandas.core.frame\" or isinstance(__backend_agg_dfs[0], list):\n            # pandas dataframe\n            spark.createDataFrame(__backend_agg_dfs[0]).createOrReplaceTempView(\"DatabricksView6615f1c\")\n        else:\n            __backend_agg_dfs[0].createOrReplaceTempView(\"DatabricksView6615f1c\")\n        #run backend agg\n        display(spark.sql(\"\"\"WITH q AS (select * from DatabricksView6615f1c) SELECT `publisher`,SUM(`count`) `column_d3463cd625` FROM q GROUP BY `publisher`\"\"\"))\n    else:\n        displayHTML(\"dataframe no longer exists. If you're using dataframe.display(), use display(dataframe) instead.\")\n\n\nfinally:\n    spark.sql(\"drop view if exists DatabricksView6615f1c\")\n    display = __backend_agg_display_orig\n    del __backend_agg_display_new\n    del __backend_agg_display_orig\n    del __backend_agg_dfs\n    del __backend_agg_user_code_fn\n\n",
       "commandTitle": "Top 10 des éditeurs (par nombre de jeux)",
       "commandType": "auto",
       "commandVersion": 0,
       "commentThread": [],
       "commentsVisible": false,
       "contentSha256Hex": null,
       "customPlotOptions": {
        "redashChart": [
         {
          "key": "type",
          "value": "CHART"
         },
         {
          "key": "options",
          "value": {
           "alignYAxesAtZero": true,
           "coefficient": 1,
           "columnConfigurationMap": {
            "x": {
             "column": "publisher",
             "id": "column_d3463cd624"
            },
            "y": [
             {
              "column": "count",
              "id": "column_d3463cd625",
              "transform": "SUM"
             }
            ]
           },
           "dateTimeFormat": "DD/MM/YYYY HH:mm",
           "direction": {
            "type": "counterclockwise"
           },
           "error_y": {
            "type": "data",
            "visible": true
           },
           "globalSeriesType": "column",
           "hideXAxis": false,
           "isAggregationOn": true,
           "legend": {
            "traceorder": "normal"
           },
           "missingValuesAsZero": true,
           "numberFormat": "0,0[.]00000",
           "percentFormat": "0[.]00%",
           "reverseX": false,
           "series": {
            "error_y": {
             "type": "data",
             "visible": true
            },
            "stacking": null
           },
           "seriesOptions": {
            "column_d3463cd625": {
             "color": null,
             "name": "count",
             "yAxis": 0
            }
           },
           "showDataLabels": true,
           "sizemode": "diameter",
           "sortX": false,
           "sortY": true,
           "swappedAxes": false,
           "textFormat": "",
           "useAggregationsUi": true,
           "valuesOptions": {},
           "version": 2,
           "xAxis": {
            "labels": {
             "enabled": true
            },
            "type": "-"
           },
           "yAxis": [
            {
             "type": "-"
            },
            {
             "opposite": true,
             "type": "-"
            }
           ]
          }
         }
        ]
       },
       "datasetPreviewNameToCmdIdMap": {},
       "diffDeletes": [],
       "diffInserts": [],
       "displayType": "redashChart",
       "error": null,
       "errorDetails": null,
       "errorSummary": null,
       "errorTraceType": null,
       "finishTime": 0,
       "globalVars": {},
       "guid": "",
       "height": "553",
       "hideCommandCode": false,
       "hideCommandResult": false,
       "iPythonMetadata": null,
       "inputWidgets": {},
       "isLockedInExamMode": false,
       "latestUser": "a user",
       "latestUserId": null,
       "listResultMetadata": null,
       "metadata": {
        "byteLimit": 2048000,
        "rowLimit": 10000
       },
       "nuid": "0d3440cb-befe-4985-a910-519d56f0cc37",
       "origId": 0,
       "parentHierarchy": [],
       "pivotAggregation": null,
       "pivotColumns": null,
       "position": 1.0,
       "resultDbfsErrorMessage": null,
       "resultDbfsStatus": "INLINED_IN_TREE",
       "results": null,
       "showCommandTitle": false,
       "startTime": 0,
       "state": "finished",
       "streamStates": {},
       "subcommandOptions": {
        "queryPlan": {
         "groups": [
          {
           "column": "publisher",
           "type": "column"
          }
         ],
         "selects": [
          {
           "column": "publisher",
           "type": "column"
          },
          {
           "alias": "column_d3463cd625",
           "args": [
            {
             "column": "count",
             "type": "column"
            }
           ],
           "function": "SUM",
           "type": "function"
          }
         ]
        }
       },
       "submitTime": 0,
       "subtype": "tableResultSubCmd.visualization",
       "tableResultIndex": 0,
       "useConsistentColors": false,
       "version": "CommandV1",
       "width": "972",
       "workflows": [],
       "xColumns": null,
       "yColumns": null
      }
     },
     "output_type": "display_data"
    }
   ],
   "source": [
    "df_publisher = df.groupBy('data.publisher')\\\n",
    "    .count()\\\n",
    "    .sort('count', ascending=False)\\\n",
    "    .filter(F.col('publisher') != '')\\\n",
    "    .limit(10)\n",
    "\n",
    "display(df_publisher)"
   ]
  },
  {
   "cell_type": "markdown",
   "metadata": {
    "application/vnd.databricks.v1+cell": {
     "cellMetadata": {
      "byteLimit": 2048000,
      "rowLimit": 10000
     },
     "inputWidgets": {},
     "nuid": "4d610710-4050-4878-87ab-0c4dd7c960db",
     "showTitle": false,
     "title": ""
    }
   },
   "source": [
    "> Editeurs ayant le plus publié\n",
    "\n",
    "Si on se réfère au top 10 des éditeurs ayant le plus grand nombre de jeux publiés, Big Fish Games est l'éditeur le plus prolifique sur la plateforme Steam, avec un total de 422 jeux publiés.\n",
    "\n",
    "Il est loin devant l'éditeur 8floor qui se place à la seconde place avec 202 jeux.\n",
    "\n",
    "À partir de la troisième place, les éditeurs, tels que SEGA, Square Enix, et Ubisoft, sont au coude à coude en termes de nombre de jeux publiés, avec des chiffres relativement proches, variant entre 126 et 165 jeux. Cette compétition serrée souligne l'importante contribution de plusieurs éditeurs majeurs à la diversité de la bibliothèque de jeux sur la plateforme Steam.\n",
    "\n",
    "On va conserver ce top 10 des éditeurs, ce qui nous permettra d'analyser leurs catégories de jeux préférées."
   ]
  },
  {
   "cell_type": "markdown",
   "metadata": {
    "application/vnd.databricks.v1+cell": {
     "cellMetadata": {
      "byteLimit": 2048000,
      "rowLimit": 10000
     },
     "inputWidgets": {},
     "nuid": "1011badb-6385-4b56-a1e4-0695d41b19a9",
     "showTitle": false,
     "title": ""
    }
   },
   "source": [
    "### B) Les jeux les mieux notés"
   ]
  },
  {
   "cell_type": "code",
   "execution_count": 0,
   "metadata": {
    "application/vnd.databricks.v1+cell": {
     "cellMetadata": {
      "byteLimit": 2048000,
      "rowLimit": 10000
     },
     "inputWidgets": {},
     "nuid": "053e7ab2-fec3-4a58-bd57-961c287eb51a",
     "showTitle": false,
     "title": ""
    }
   },
   "outputs": [
    {
     "output_type": "display_data",
     "data": {
      "text/html": [
       "<style scoped>\n",
       "  .table-result-container {\n",
       "    max-height: 300px;\n",
       "    overflow: auto;\n",
       "  }\n",
       "  table, th, td {\n",
       "    border: 1px solid black;\n",
       "    border-collapse: collapse;\n",
       "  }\n",
       "  th, td {\n",
       "    padding: 5px;\n",
       "  }\n",
       "  th {\n",
       "    text-align: left;\n",
       "  }\n",
       "</style><div class='table-result-container'><table class='table-result'><thead style='background-color: white'><tr><th>name</th><th>publisher</th><th>positive</th><th>negative</th><th>total_reviews</th><th>positive_ratio</th></tr></thead><tbody><tr><td>Portal 2</td><td>Valve</td><td>305671</td><td>3770</td><td>309441</td><td>0.9878167405094994</td></tr><tr><td>Stardew Valley</td><td>ConcernedApe</td><td>497558</td><td>9283</td><td>506841</td><td>0.9816845914201889</td></tr><tr><td>Wallpaper Engine</td><td>Wallpaper Engine Team</td><td>561096</td><td>11031</td><td>572127</td><td>0.9807193158162436</td></tr><tr><td>Terraria</td><td>Re-Logic</td><td>1014711</td><td>22380</td><td>1037091</td><td>0.978420408623737</td></tr><tr><td>Left 4 Dead 2</td><td>Valve</td><td>643836</td><td>16828</td><td>660664</td><td>0.9745286560187932</td></tr><tr><td>Euro Truck Simulator 2</td><td>SCS Software</td><td>572368</td><td>15615</td><td>587983</td><td>0.9734431097497717</td></tr><tr><td>Hollow Knight</td><td>Team Cherry</td><td>246135</td><td>7193</td><td>253328</td><td>0.9716059811785511</td></tr><tr><td>Phasmophobia</td><td>Kinetic Games</td><td>475555</td><td>15543</td><td>491098</td><td>0.968350512524995</td></tr><tr><td>Garry's Mod</td><td>Valve</td><td>861240</td><td>29998</td><td>891238</td><td>0.9663412017889722</td></tr><tr><td>The Witcher 3: Wild Hunt</td><td>CD PROJEKT RED</td><td>632627</td><td>25245</td><td>657872</td><td>0.9616262738040227</td></tr></tbody></table></div>"
      ]
     },
     "metadata": {
      "application/vnd.databricks.v1+output": {
       "addedWidgets": {},
       "aggData": [],
       "aggError": "",
       "aggOverflow": false,
       "aggSchema": [],
       "aggSeriesLimitReached": false,
       "aggType": "",
       "arguments": {},
       "columnCustomDisplayInfos": {},
       "data": [
        [
         "Portal 2",
         "Valve",
         305671,
         3770,
         309441,
         0.9878167405094994
        ],
        [
         "Stardew Valley",
         "ConcernedApe",
         497558,
         9283,
         506841,
         0.9816845914201889
        ],
        [
         "Wallpaper Engine",
         "Wallpaper Engine Team",
         561096,
         11031,
         572127,
         0.9807193158162436
        ],
        [
         "Terraria",
         "Re-Logic",
         1014711,
         22380,
         1037091,
         0.978420408623737
        ],
        [
         "Left 4 Dead 2",
         "Valve",
         643836,
         16828,
         660664,
         0.9745286560187932
        ],
        [
         "Euro Truck Simulator 2",
         "SCS Software",
         572368,
         15615,
         587983,
         0.9734431097497717
        ],
        [
         "Hollow Knight",
         "Team Cherry",
         246135,
         7193,
         253328,
         0.9716059811785511
        ],
        [
         "Phasmophobia",
         "Kinetic Games",
         475555,
         15543,
         491098,
         0.968350512524995
        ],
        [
         "Garry's Mod",
         "Valve",
         861240,
         29998,
         891238,
         0.9663412017889722
        ],
        [
         "The Witcher 3: Wild Hunt",
         "CD PROJEKT RED",
         632627,
         25245,
         657872,
         0.9616262738040227
        ]
       ],
       "datasetInfos": [],
       "dbfsResultPath": null,
       "isJsonSchema": true,
       "metadata": {},
       "overflow": false,
       "plotOptions": {
        "customPlotOptions": {},
        "displayType": "table",
        "pivotAggregation": null,
        "pivotColumns": null,
        "xColumns": null,
        "yColumns": null
       },
       "removedWidgets": [],
       "schema": [
        {
         "metadata": "{}",
         "name": "name",
         "type": "\"string\""
        },
        {
         "metadata": "{}",
         "name": "publisher",
         "type": "\"string\""
        },
        {
         "metadata": "{}",
         "name": "positive",
         "type": "\"long\""
        },
        {
         "metadata": "{}",
         "name": "negative",
         "type": "\"long\""
        },
        {
         "metadata": "{}",
         "name": "total_reviews",
         "type": "\"long\""
        },
        {
         "metadata": "{}",
         "name": "positive_ratio",
         "type": "\"double\""
        }
       ],
       "type": "table"
      }
     },
     "output_type": "display_data"
    },
    {
     "output_type": "display_data",
     "data": {
      "text/plain": [
       "Databricks visualization. Run in Databricks to view."
      ]
     },
     "metadata": {
      "application/vnd.databricks.v1.subcommand+json": {
       "bindings": {},
       "collapsed": false,
       "command": "%python\n__backend_agg_display_orig = display\n__backend_agg_dfs = []\ndef __backend_agg_display_new(df):\n    __backend_agg_df_modules = [\"pandas.core.frame\", \"databricks.koalas.frame\", \"pyspark.sql.dataframe\", \"pyspark.pandas.frame\", \"pyspark.sql.connect.dataframe\"]\n    if (type(df).__module__ in __backend_agg_df_modules and type(df).__name__ == 'DataFrame') or isinstance(df, list):\n        __backend_agg_dfs.append(df)\n\ndisplay = __backend_agg_display_new\n\ndef __backend_agg_user_code_fn():\n    import base64\n    exec(base64.standard_b64decode(\"IyBGaWx0cmUgYXZlYyB1biBub21icmUgZGUgdm90ZXMgPiA1MDAuMDAwCgpkZl9nYW1lcyA9IGRmLnNlbGVjdCgnZGF0YS5uYW1lJywgJ2RhdGEucG9zaXRpdmUnLCAnZGF0YS5uZWdhdGl2ZScpXAogICAgLndpdGhDb2x1bW4oJ3RvdGFsX3Jldmlld3MnLCBGLmNvbCgncG9zaXRpdmUnKSArIEYuY29sKCduZWdhdGl2ZScpKVwKICAgIC53aXRoQ29sdW1uKCdwb3NpdGl2ZV9yYXRpbycsIEYuY29sKCdwb3NpdGl2ZScpIC8gRi5jb2woJ3RvdGFsX3Jldmlld3MnKSlcCiAgICAuZmlsdGVyKEYuY29sKCd0b3RhbF9yZXZpZXdzJykgPj0gNTAwMDAwKVwKICAgIC5vcmRlckJ5KCdwb3NpdGl2ZV9yYXRpbycsIGFzY2VuZGluZz1GYWxzZSlcCiAgICAubGltaXQoMTApCgpkaXNwbGF5KGRmX2dhbWVzKQ==\").decode())\n\ntry:\n    # run user code\n    __backend_agg_user_code_fn()\n\n    #reset display function\n    display = __backend_agg_display_orig\n\n    if len(__backend_agg_dfs) > 0:\n        # create a temp view\n        if type(__backend_agg_dfs[0]).__module__ == \"databricks.koalas.frame\":\n            # koalas dataframe\n            __backend_agg_dfs[0].to_spark().createOrReplaceTempView(\"DatabricksViewa5594a4\")\n        elif type(__backend_agg_dfs[0]).__module__ == \"pandas.core.frame\" or isinstance(__backend_agg_dfs[0], list):\n            # pandas dataframe\n            spark.createDataFrame(__backend_agg_dfs[0]).createOrReplaceTempView(\"DatabricksViewa5594a4\")\n        else:\n            __backend_agg_dfs[0].createOrReplaceTempView(\"DatabricksViewa5594a4\")\n        #run backend agg\n        display(spark.sql(\"\"\"WITH q AS (select * from DatabricksViewa5594a4) SELECT `name`,SUM(`positive_ratio`) `column_d3463cd685` FROM q GROUP BY `name`\"\"\"))\n    else:\n        displayHTML(\"dataframe no longer exists. If you're using dataframe.display(), use display(dataframe) instead.\")\n\n\nfinally:\n    spark.sql(\"drop view if exists DatabricksViewa5594a4\")\n    display = __backend_agg_display_orig\n    del __backend_agg_display_new\n    del __backend_agg_display_orig\n    del __backend_agg_dfs\n    del __backend_agg_user_code_fn\n\n",
       "commandTitle": "Top 10 des jeux les mieux notés",
       "commandType": "auto",
       "commandVersion": 0,
       "commentThread": [],
       "commentsVisible": false,
       "contentSha256Hex": null,
       "customPlotOptions": {
        "redashChart": [
         {
          "key": "type",
          "value": "CHART"
         },
         {
          "key": "options",
          "value": {
           "alignYAxesAtZero": false,
           "coefficient": 1,
           "columnConfigurationMap": {
            "x": {
             "column": "name",
             "id": "column_d3463cd678"
            },
            "y": [
             {
              "column": "positive_ratio",
              "id": "column_d3463cd685",
              "transform": "SUM"
             }
            ]
           },
           "dateTimeFormat": "DD/MM/YYYY HH:mm",
           "direction": {
            "type": "counterclockwise"
           },
           "error_y": {
            "type": "data",
            "visible": true
           },
           "globalSeriesType": "column",
           "hideYAxes": false,
           "isAggregationOn": true,
           "legend": {
            "traceorder": "normal"
           },
           "missingValuesAsZero": true,
           "numberFormat": "0.000",
           "percentFormat": "0[.]00%",
           "series": {
            "error_y": {
             "type": "data",
             "visible": true
            },
            "percentValues": false,
            "stacking": null
           },
           "seriesOptions": {
            "column_d3463cd6119": {
             "type": "column",
             "yAxis": 0
            },
            "column_d3463cd681": {
             "type": "column",
             "yAxis": 0
            },
            "column_d3463cd683": {
             "type": "column",
             "yAxis": 0
            },
            "column_d3463cd685": {
             "type": "column",
             "yAxis": 0
            }
           },
           "showDataLabels": true,
           "sizemode": "diameter",
           "sortX": false,
           "sortY": true,
           "swappedAxes": true,
           "textFormat": "{{@@y}}",
           "useAggregationsUi": true,
           "valuesOptions": {},
           "version": 2,
           "xAxis": {
            "labels": {
             "enabled": true
            },
            "title": {
             "text": "Name of the games"
            },
            "type": "-"
           },
           "yAxis": [
            {
             "rangeMax": 1,
             "rangeMin": 0.7,
             "title": {
              "text": "Positive ratio"
             },
             "type": "linear"
            },
            {
             "opposite": true,
             "title": {
              "text": null
             },
             "type": "-"
            }
           ]
          }
         }
        ]
       },
       "datasetPreviewNameToCmdIdMap": {},
       "diffDeletes": [],
       "diffInserts": [],
       "displayType": "redashChart",
       "error": null,
       "errorDetails": null,
       "errorSummary": null,
       "errorTraceType": null,
       "finishTime": 0,
       "globalVars": {},
       "guid": "",
       "height": "594",
       "hideCommandCode": false,
       "hideCommandResult": false,
       "iPythonMetadata": null,
       "inputWidgets": {},
       "isLockedInExamMode": false,
       "latestUser": "a user",
       "latestUserId": null,
       "listResultMetadata": null,
       "metadata": {
        "byteLimit": 2048000,
        "rowLimit": 10000
       },
       "nuid": "e748daea-c9ad-4f26-bbe0-d80f5ed99dc7",
       "origId": 0,
       "parentHierarchy": [],
       "pivotAggregation": null,
       "pivotColumns": null,
       "position": 7.0,
       "resultDbfsErrorMessage": null,
       "resultDbfsStatus": "INLINED_IN_TREE",
       "results": null,
       "showCommandTitle": false,
       "startTime": 0,
       "state": "input",
       "streamStates": {},
       "subcommandOptions": {
        "queryPlan": {
         "groups": [
          {
           "column": "name",
           "type": "column"
          }
         ],
         "selects": [
          {
           "column": "name",
           "type": "column"
          },
          {
           "alias": "column_d3463cd685",
           "args": [
            {
             "column": "positive_ratio",
             "type": "column"
            }
           ],
           "function": "SUM",
           "type": "function"
          }
         ]
        }
       },
       "submitTime": 0,
       "subtype": "tableResultSubCmd.visualization",
       "tableResultIndex": 0,
       "useConsistentColors": false,
       "version": "CommandV1",
       "width": "auto",
       "workflows": [],
       "xColumns": null,
       "yColumns": null
      }
     },
     "output_type": "display_data"
    }
   ],
   "source": [
    "# Filtre avec un nombre de votes > 500.000\n",
    "\n",
    "df_games = df.select('data.name', 'data.publisher', 'data.positive', 'data.negative')\\\n",
    "    .withColumn('total_reviews', F.col('positive') + F.col('negative'))\\\n",
    "    .withColumn('positive_ratio', F.col('positive') / F.col('total_reviews'))\\\n",
    "    .filter(F.col('total_reviews') >= 250000)\\\n",
    "    .orderBy('positive_ratio', ascending=False)\\\n",
    "    .limit(10)\n",
    "\n",
    "display(df_games)"
   ]
  },
  {
   "cell_type": "markdown",
   "metadata": {
    "application/vnd.databricks.v1+cell": {
     "cellMetadata": {
      "byteLimit": 2048000,
      "rowLimit": 10000
     },
     "inputWidgets": {},
     "nuid": "6df88ba3-166e-4b77-894a-5de5c466bee6",
     "showTitle": false,
     "title": ""
    }
   },
   "source": [
    "> Les jeux les mieux notés\n",
    "\n",
    "Il a été nécessaire de filtrer sur les jeux ayant un minimum de votes afin d'éviter les jeux très peu notés avec un ratio de 100% (et non connu du grand public). Une base de 250.000 votes m'est apparu comme raisonnable pour avoir un résultat cohérent. On pourrait bien évidemment revoir ce nombre pour élargir à des jeux moins connus.\n",
    "\n",
    "Dans l'ensemble, le top 10 des jeux affiche des performances notables avec des ratios de critiques positives très élevés, oscillant entre 96.2 % et 98.8 %. Les différences entre ces ratios sont très minimes, soulignant une satisfaction globale des utilisateurs pour l'ensemble des jeux examinés, y compris des titres populaires tels que Portal 2, Stardew Valley, et Terraria. \n",
    "\n",
    "Il est à noter qu'aucun jeu de ce top 10 ne fait partie des éditeurs qui publient le plus sur la plateforme."
   ]
  },
  {
   "cell_type": "markdown",
   "metadata": {
    "application/vnd.databricks.v1+cell": {
     "cellMetadata": {
      "byteLimit": 2048000,
      "rowLimit": 10000
     },
     "inputWidgets": {},
     "nuid": "44f307e8-3eb1-48e9-b293-2ec0e8ebe470",
     "showTitle": false,
     "title": ""
    }
   },
   "source": [
    "### C) Evolution des sorties dans le temps"
   ]
  },
  {
   "cell_type": "code",
   "execution_count": 0,
   "metadata": {
    "application/vnd.databricks.v1+cell": {
     "cellMetadata": {
      "byteLimit": 2048000,
      "rowLimit": 10000
     },
     "inputWidgets": {},
     "nuid": "b6835e02-04a3-49b7-8a5d-429fd4eaa3f5",
     "showTitle": false,
     "title": ""
    }
   },
   "outputs": [
    {
     "output_type": "display_data",
     "data": {
      "text/html": [
       "<style scoped>\n",
       "  .table-result-container {\n",
       "    max-height: 300px;\n",
       "    overflow: auto;\n",
       "  }\n",
       "  table, th, td {\n",
       "    border: 1px solid black;\n",
       "    border-collapse: collapse;\n",
       "  }\n",
       "  th, td {\n",
       "    padding: 5px;\n",
       "  }\n",
       "  th {\n",
       "    text-align: left;\n",
       "  }\n",
       "</style><div class='table-result-container'><table class='table-result'><thead style='background-color: white'><tr><th>year_release</th><th>count</th></tr></thead><tbody><tr><td>2022</td><td>7455</td></tr><tr><td>2021</td><td>8823</td></tr><tr><td>2020</td><td>8305</td></tr><tr><td>2019</td><td>6968</td></tr><tr><td>2018</td><td>7678</td></tr><tr><td>2017</td><td>6017</td></tr><tr><td>2016</td><td>4185</td></tr><tr><td>2015</td><td>2576</td></tr><tr><td>2014</td><td>1557</td></tr><tr><td>2013</td><td>471</td></tr><tr><td>2012</td><td>345</td></tr><tr><td>2011</td><td>267</td></tr><tr><td>2010</td><td>288</td></tr><tr><td>2009</td><td>311</td></tr><tr><td>2008</td><td>159</td></tr><tr><td>2007</td><td>98</td></tr><tr><td>2006</td><td>61</td></tr><tr><td>2005</td><td>6</td></tr><tr><td>2004</td><td>6</td></tr><tr><td>2003</td><td>3</td></tr></tbody></table></div>"
      ]
     },
     "metadata": {
      "application/vnd.databricks.v1+output": {
       "addedWidgets": {},
       "aggData": [],
       "aggError": "",
       "aggOverflow": false,
       "aggSchema": [],
       "aggSeriesLimitReached": false,
       "aggType": "",
       "arguments": {},
       "columnCustomDisplayInfos": {},
       "data": [
        [
         "2022",
         7455
        ],
        [
         "2021",
         8823
        ],
        [
         "2020",
         8305
        ],
        [
         "2019",
         6968
        ],
        [
         "2018",
         7678
        ],
        [
         "2017",
         6017
        ],
        [
         "2016",
         4185
        ],
        [
         "2015",
         2576
        ],
        [
         "2014",
         1557
        ],
        [
         "2013",
         471
        ],
        [
         "2012",
         345
        ],
        [
         "2011",
         267
        ],
        [
         "2010",
         288
        ],
        [
         "2009",
         311
        ],
        [
         "2008",
         159
        ],
        [
         "2007",
         98
        ],
        [
         "2006",
         61
        ],
        [
         "2005",
         6
        ],
        [
         "2004",
         6
        ],
        [
         "2003",
         3
        ]
       ],
       "datasetInfos": [],
       "dbfsResultPath": null,
       "isJsonSchema": true,
       "metadata": {},
       "overflow": false,
       "plotOptions": {
        "customPlotOptions": {},
        "displayType": "table",
        "pivotAggregation": null,
        "pivotColumns": null,
        "xColumns": null,
        "yColumns": null
       },
       "removedWidgets": [],
       "schema": [
        {
         "metadata": "{}",
         "name": "year_release",
         "type": "\"string\""
        },
        {
         "metadata": "{}",
         "name": "count",
         "type": "\"long\""
        }
       ],
       "type": "table"
      }
     },
     "output_type": "display_data"
    },
    {
     "output_type": "display_data",
     "data": {
      "text/plain": [
       "Databricks visualization. Run in Databricks to view."
      ]
     },
     "metadata": {
      "application/vnd.databricks.v1.subcommand+json": {
       "bindings": {},
       "collapsed": false,
       "command": "%python\n__backend_agg_display_orig = display\n__backend_agg_dfs = []\ndef __backend_agg_display_new(df):\n    __backend_agg_df_modules = [\"pandas.core.frame\", \"databricks.koalas.frame\", \"pyspark.sql.dataframe\", \"pyspark.pandas.frame\", \"pyspark.sql.connect.dataframe\"]\n    if (type(df).__module__ in __backend_agg_df_modules and type(df).__name__ == 'DataFrame') or isinstance(df, list):\n        __backend_agg_dfs.append(df)\n\ndisplay = __backend_agg_display_new\n\ndef __backend_agg_user_code_fn():\n    import base64\n    exec(base64.standard_b64decode(\"ZGZfcmVsZWFzZV95ZWFyID0gZGYud2l0aENvbHVtbigneWVhcl9yZWxlYXNlJywgRi5zdWJzdHJpbmcoRi5jb2woJ2RhdGEucmVsZWFzZV9kYXRlJyksIDEsIDQpKVwKICAgIC5ncm91cEJ5KCd5ZWFyX3JlbGVhc2UnKVwKICAgIC5jb3VudCgpXAogICAgLm9yZGVyQnkoJ3llYXJfcmVsZWFzZScsIGFzY2VuZGluZz1GYWxzZSlcCiAgICAubGltaXQoMjApCgpkaXNwbGF5KGRmX3JlbGVhc2VfeWVhcik=\").decode())\n\ntry:\n    # run user code\n    __backend_agg_user_code_fn()\n\n    #reset display function\n    display = __backend_agg_display_orig\n\n    if len(__backend_agg_dfs) > 0:\n        # create a temp view\n        if type(__backend_agg_dfs[0]).__module__ == \"databricks.koalas.frame\":\n            # koalas dataframe\n            __backend_agg_dfs[0].to_spark().createOrReplaceTempView(\"DatabricksViewdc993b1\")\n        elif type(__backend_agg_dfs[0]).__module__ == \"pandas.core.frame\" or isinstance(__backend_agg_dfs[0], list):\n            # pandas dataframe\n            spark.createDataFrame(__backend_agg_dfs[0]).createOrReplaceTempView(\"DatabricksViewdc993b1\")\n        else:\n            __backend_agg_dfs[0].createOrReplaceTempView(\"DatabricksViewdc993b1\")\n        #run backend agg\n        display(spark.sql(\"\"\"WITH q AS (select * from DatabricksViewdc993b1) SELECT `year_release`,SUM(`count`) `column_d3463cd6162` FROM q GROUP BY `year_release`\"\"\"))\n    else:\n        displayHTML(\"dataframe no longer exists. If you're using dataframe.display(), use display(dataframe) instead.\")\n\n\nfinally:\n    spark.sql(\"drop view if exists DatabricksViewdc993b1\")\n    display = __backend_agg_display_orig\n    del __backend_agg_display_new\n    del __backend_agg_display_orig\n    del __backend_agg_dfs\n    del __backend_agg_user_code_fn\n\n",
       "commandTitle": "Nombre de sorties par an",
       "commandType": "auto",
       "commandVersion": 0,
       "commentThread": [],
       "commentsVisible": false,
       "contentSha256Hex": null,
       "customPlotOptions": {
        "redashChart": [
         {
          "key": "type",
          "value": "CHART"
         },
         {
          "key": "options",
          "value": {
           "alignYAxesAtZero": true,
           "coefficient": 1,
           "columnConfigurationMap": {
            "x": {
             "column": "year_release",
             "id": "column_d3463cd6160"
            },
            "y": [
             {
              "column": "count",
              "id": "column_d3463cd6162",
              "transform": "SUM"
             }
            ]
           },
           "dateTimeFormat": "DD/MM/YYYY HH:mm",
           "direction": {
            "type": "counterclockwise"
           },
           "error_y": {
            "type": "data",
            "visible": true
           },
           "globalSeriesType": "line",
           "hideXAxis": false,
           "isAggregationOn": true,
           "legend": {
            "traceorder": "normal"
           },
           "missingValuesAsZero": true,
           "numberFormat": "0.0 a",
           "percentFormat": "0[.]00%",
           "reverseX": false,
           "series": {
            "error_y": {
             "type": "data",
             "visible": true
            },
            "stacking": null
           },
           "seriesOptions": {
            "column_d3463cd6162": {
             "type": "line",
             "yAxis": 0
            }
           },
           "showDataLabels": true,
           "sizemode": "diameter",
           "sortX": true,
           "sortY": true,
           "swappedAxes": false,
           "textFormat": "",
           "useAggregationsUi": true,
           "valuesOptions": {},
           "version": 2,
           "xAxis": {
            "labels": {
             "enabled": true
            },
            "type": "-"
           },
           "yAxis": [
            {
             "type": "-"
            },
            {
             "opposite": true,
             "type": "-"
            }
           ]
          }
         }
        ]
       },
       "datasetPreviewNameToCmdIdMap": {},
       "diffDeletes": [],
       "diffInserts": [],
       "displayType": "redashChart",
       "error": null,
       "errorDetails": null,
       "errorSummary": null,
       "errorTraceType": null,
       "finishTime": 0,
       "globalVars": {},
       "guid": "",
       "height": "auto",
       "hideCommandCode": false,
       "hideCommandResult": false,
       "iPythonMetadata": null,
       "inputWidgets": {},
       "isLockedInExamMode": false,
       "latestUser": "a user",
       "latestUserId": null,
       "listResultMetadata": null,
       "metadata": {
        "byteLimit": 2048000,
        "rowLimit": 10000
       },
       "nuid": "1eaed23a-72ec-4632-b305-7d4f2cffa8fb",
       "origId": 0,
       "parentHierarchy": [],
       "pivotAggregation": null,
       "pivotColumns": null,
       "position": 7.5,
       "resultDbfsErrorMessage": null,
       "resultDbfsStatus": "INLINED_IN_TREE",
       "results": null,
       "showCommandTitle": false,
       "startTime": 0,
       "state": "finished",
       "streamStates": {},
       "subcommandOptions": {
        "queryPlan": {
         "groups": [
          {
           "column": "year_release",
           "type": "column"
          }
         ],
         "selects": [
          {
           "column": "year_release",
           "type": "column"
          },
          {
           "alias": "column_d3463cd6162",
           "args": [
            {
             "column": "count",
             "type": "column"
            }
           ],
           "function": "SUM",
           "type": "function"
          }
         ]
        }
       },
       "submitTime": 0,
       "subtype": "tableResultSubCmd.visualization",
       "tableResultIndex": 0,
       "useConsistentColors": false,
       "version": "CommandV1",
       "width": "auto",
       "workflows": [],
       "xColumns": null,
       "yColumns": null
      }
     },
     "output_type": "display_data"
    }
   ],
   "source": [
    "df_release_year = df.withColumn('year_release', F.substring(F.col('data.release_date'), 1, 4))\\\n",
    "    .groupBy('year_release')\\\n",
    "    .count()\\\n",
    "    .orderBy('year_release', ascending=False)\\\n",
    "    .limit(20)\n",
    "\n",
    "display(df_release_year)"
   ]
  },
  {
   "cell_type": "markdown",
   "metadata": {
    "application/vnd.databricks.v1+cell": {
     "cellMetadata": {
      "byteLimit": 2048000,
      "rowLimit": 10000
     },
     "inputWidgets": {},
     "nuid": "a612218f-d880-41f3-b826-2e95e723eff8",
     "showTitle": false,
     "title": ""
    }
   },
   "source": [
    "> Evolution des sorties dans le temps\n",
    "\n",
    "Depuis sa création, Steam a eu plusieurs phases de sorties de jeux.\n",
    "\n",
    "A partir de 2003, on constate un premier essort des sorties sur la plateforme, jusqu'à atteindre 471 sorties en 2013.\n",
    "\n",
    "Les sorties de jeux vidéo se sont grandement intensifiés dès 2014, et augmenté progressivement chaque année avant de se stabiliser en 2018 aux alentours de 7500 sorties.\n",
    "\n",
    "Le Covid n'a pas eu d'impact négatif sur les sorties, au contraire même on constate une évolution positive de 18.6 % entre 2019 et 2020"
   ]
  },
  {
   "cell_type": "markdown",
   "metadata": {
    "application/vnd.databricks.v1+cell": {
     "cellMetadata": {
      "byteLimit": 2048000,
      "rowLimit": 10000
     },
     "inputWidgets": {},
     "nuid": "a5b3cd13-f6da-4d45-a7f4-be16e4870633",
     "showTitle": false,
     "title": ""
    }
   },
   "source": [
    "### D) Distribution des prix de vente"
   ]
  },
  {
   "cell_type": "code",
   "execution_count": 0,
   "metadata": {
    "application/vnd.databricks.v1+cell": {
     "cellMetadata": {
      "byteLimit": 2048000,
      "rowLimit": 10000
     },
     "inputWidgets": {},
     "nuid": "5c20e770-4a0b-4d54-979c-64984cd31aa9",
     "showTitle": false,
     "title": ""
    }
   },
   "outputs": [
    {
     "output_type": "display_data",
     "data": {
      "text/html": [
       "<style scoped>\n",
       "  .table-result-container {\n",
       "    max-height: 300px;\n",
       "    overflow: auto;\n",
       "  }\n",
       "  table, th, td {\n",
       "    border: 1px solid black;\n",
       "    border-collapse: collapse;\n",
       "  }\n",
       "  th, td {\n",
       "    padding: 5px;\n",
       "  }\n",
       "  th {\n",
       "    text-align: left;\n",
       "  }\n",
       "</style><div class='table-result-container'><table class='table-result'><thead style='background-color: white'><tr><th>price</th><th>count</th><th>price_distribution</th></tr></thead><tbody><tr><td>0.0</td><td>8168</td><td>0.14698842880023033</td></tr><tr><td>1.0</td><td>5856</td><td>0.10538249743562057</td></tr><tr><td>2.0</td><td>4492</td><td>0.08083643758210513</td></tr><tr><td>3.0</td><td>3779</td><td>0.0680055426586766</td></tr><tr><td>4.0</td><td>2678</td><td>0.04819233745433605</td></tr><tr><td>5.0</td><td>6340</td><td>0.1140923896417067</td></tr><tr><td>6.0</td><td>1919</td><td>0.03453364285842826</td></tr><tr><td>7.0</td><td>1931</td><td>0.03474959059907502</td></tr><tr><td>8.0</td><td>1614</td><td>0.029044971116989688</td></tr><tr><td>9.0</td><td>768</td><td>0.013820655401392863</td></tr><tr><td>10.0</td><td>6193</td><td>0.11144702981878385</td></tr><tr><td>11.0</td><td>446</td><td>0.008026057694038042</td></tr><tr><td>12.0</td><td>849</td><td>0.015278302650758517</td></tr><tr><td>13.0</td><td>823</td><td>0.014810415879357195</td></tr><tr><td>14.0</td><td>282</td><td>0.0050747719051989415</td></tr><tr><td>15.0</td><td>2896</td><td>0.05211538807608559</td></tr><tr><td>16.0</td><td>238</td><td>0.004282963522827476</td></tr><tr><td>17.0</td><td>194</td><td>0.00349115514045601</td></tr><tr><td>18.0</td><td>287</td><td>0.005164750130468427</td></tr><tr><td>19.0</td><td>148</td><td>0.0026633554679767494</td></tr><tr><td>20.0</td><td>2836</td><td>0.05103564937285177</td></tr><tr><td>21.0</td><td>7</td><td>1.259695153772787E-4</td></tr><tr><td>22.0</td><td>13</td><td>2.3394338570066045E-4</td></tr><tr><td>23.0</td><td>8</td><td>1.4396516043117566E-4</td></tr><tr><td>24.0</td><td>11</td><td>1.979520955928665E-4</td></tr><tr><td>25.0</td><td>867</td><td>0.015602224261728661</td></tr><tr><td>26.0</td><td>2</td><td>3.5991290107793916E-5</td></tr><tr><td>27.0</td><td>6</td><td>1.0797387032338174E-4</td></tr><tr><td>28.0</td><td>2</td><td>3.5991290107793916E-5</td></tr><tr><td>29.0</td><td>2</td><td>3.5991290107793916E-5</td></tr><tr><td>30.0</td><td>870</td><td>0.01565621119689035</td></tr><tr><td>32.0</td><td>4</td><td>7.198258021558783E-5</td></tr><tr><td>33.0</td><td>1</td><td>1.7995645053896958E-5</td></tr><tr><td>34.0</td><td>1</td><td>1.7995645053896958E-5</td></tr><tr><td>35.0</td><td>156</td><td>0.0028073206284079254</td></tr><tr><td>36.0</td><td>5</td><td>8.997822526948479E-5</td></tr><tr><td>37.0</td><td>1</td><td>1.7995645053896958E-5</td></tr><tr><td>39.0</td><td>2</td><td>3.5991290107793916E-5</td></tr><tr><td>40.0</td><td>430</td><td>0.007738127373175692</td></tr><tr><td>45.0</td><td>47</td><td>8.45795317533157E-4</td></tr><tr><td>50.0</td><td>191</td><td>0.003437168205294319</td></tr><tr><td>53.0</td><td>1</td><td>1.7995645053896958E-5</td></tr><tr><td>55.0</td><td>15</td><td>2.6993467580845433E-4</td></tr><tr><td>56.0</td><td>1</td><td>1.7995645053896958E-5</td></tr><tr><td>58.0</td><td>1</td><td>1.7995645053896958E-5</td></tr><tr><td>60.0</td><td>188</td><td>0.003383181270132628</td></tr></tbody></table></div>"
      ]
     },
     "metadata": {
      "application/vnd.databricks.v1+output": {
       "addedWidgets": {},
       "aggData": [],
       "aggError": "",
       "aggOverflow": false,
       "aggSchema": [],
       "aggSeriesLimitReached": false,
       "aggType": "",
       "arguments": {},
       "columnCustomDisplayInfos": {},
       "data": [
        [
         0.0,
         8168,
         0.14698842880023033
        ],
        [
         1.0,
         5856,
         0.10538249743562057
        ],
        [
         2.0,
         4492,
         0.08083643758210513
        ],
        [
         3.0,
         3779,
         0.0680055426586766
        ],
        [
         4.0,
         2678,
         0.04819233745433605
        ],
        [
         5.0,
         6340,
         0.1140923896417067
        ],
        [
         6.0,
         1919,
         0.03453364285842826
        ],
        [
         7.0,
         1931,
         0.03474959059907502
        ],
        [
         8.0,
         1614,
         0.029044971116989688
        ],
        [
         9.0,
         768,
         0.013820655401392863
        ],
        [
         10.0,
         6193,
         0.11144702981878385
        ],
        [
         11.0,
         446,
         0.008026057694038042
        ],
        [
         12.0,
         849,
         0.015278302650758517
        ],
        [
         13.0,
         823,
         0.014810415879357195
        ],
        [
         14.0,
         282,
         0.0050747719051989415
        ],
        [
         15.0,
         2896,
         0.05211538807608559
        ],
        [
         16.0,
         238,
         0.004282963522827476
        ],
        [
         17.0,
         194,
         0.00349115514045601
        ],
        [
         18.0,
         287,
         0.005164750130468427
        ],
        [
         19.0,
         148,
         0.0026633554679767494
        ],
        [
         20.0,
         2836,
         0.05103564937285177
        ],
        [
         21.0,
         7,
         1.259695153772787E-4
        ],
        [
         22.0,
         13,
         2.3394338570066045E-4
        ],
        [
         23.0,
         8,
         1.4396516043117566E-4
        ],
        [
         24.0,
         11,
         1.979520955928665E-4
        ],
        [
         25.0,
         867,
         0.015602224261728661
        ],
        [
         26.0,
         2,
         3.5991290107793916E-5
        ],
        [
         27.0,
         6,
         1.0797387032338174E-4
        ],
        [
         28.0,
         2,
         3.5991290107793916E-5
        ],
        [
         29.0,
         2,
         3.5991290107793916E-5
        ],
        [
         30.0,
         870,
         0.01565621119689035
        ],
        [
         32.0,
         4,
         7.198258021558783E-5
        ],
        [
         33.0,
         1,
         1.7995645053896958E-5
        ],
        [
         34.0,
         1,
         1.7995645053896958E-5
        ],
        [
         35.0,
         156,
         0.0028073206284079254
        ],
        [
         36.0,
         5,
         8.997822526948479E-5
        ],
        [
         37.0,
         1,
         1.7995645053896958E-5
        ],
        [
         39.0,
         2,
         3.5991290107793916E-5
        ],
        [
         40.0,
         430,
         0.007738127373175692
        ],
        [
         45.0,
         47,
         8.45795317533157E-4
        ],
        [
         50.0,
         191,
         0.003437168205294319
        ],
        [
         53.0,
         1,
         1.7995645053896958E-5
        ],
        [
         55.0,
         15,
         2.6993467580845433E-4
        ],
        [
         56.0,
         1,
         1.7995645053896958E-5
        ],
        [
         58.0,
         1,
         1.7995645053896958E-5
        ],
        [
         60.0,
         188,
         0.003383181270132628
        ]
       ],
       "datasetInfos": [],
       "dbfsResultPath": null,
       "isJsonSchema": true,
       "metadata": {},
       "overflow": false,
       "plotOptions": {
        "customPlotOptions": {},
        "displayType": "table",
        "pivotAggregation": null,
        "pivotColumns": null,
        "xColumns": null,
        "yColumns": null
       },
       "removedWidgets": [],
       "schema": [
        {
         "metadata": "{}",
         "name": "price",
         "type": "\"double\""
        },
        {
         "metadata": "{}",
         "name": "count",
         "type": "\"long\""
        },
        {
         "metadata": "{}",
         "name": "price_distribution",
         "type": "\"double\""
        }
       ],
       "type": "table"
      }
     },
     "output_type": "display_data"
    },
    {
     "output_type": "display_data",
     "data": {
      "text/plain": [
       "Databricks visualization. Run in Databricks to view."
      ]
     },
     "metadata": {
      "application/vnd.databricks.v1.subcommand+json": {
       "bindings": {},
       "collapsed": false,
       "command": "%python\n__backend_agg_display_orig = display\n__backend_agg_dfs = []\ndef __backend_agg_display_new(df):\n    __backend_agg_df_modules = [\"pandas.core.frame\", \"databricks.koalas.frame\", \"pyspark.sql.dataframe\", \"pyspark.pandas.frame\", \"pyspark.sql.connect.dataframe\"]\n    if (type(df).__module__ in __backend_agg_df_modules and type(df).__name__ == 'DataFrame') or isinstance(df, list):\n        __backend_agg_dfs.append(df)\n\ndisplay = __backend_agg_display_new\n\ndef __backend_agg_user_code_fn():\n    import base64\n    exec(base64.standard_b64decode(\"d2luZG93X3NwZWMgPSBXaW5kb3cub3JkZXJCeSgpCgpkZl9wcmljZSA9IGRmLnNlbGVjdChGLmNvbCgnZGF0YS5wcmljZScpLmNhc3QoJ2Zsb2F0JykuYWxpYXMoJ3ByaWNlJykpXAogICAgLndpdGhDb2x1bW4oJ3ByaWNlJywgRi5yb3VuZChGLmNvbCgncHJpY2UnKS8xMDApKVwKICAgIC5maWx0ZXIoRi5jb2woJ3ByaWNlJykgPD0gNjApXAogICAgLmdyb3VwQnkoJ3ByaWNlJylcCiAgICAuY291bnQoKVwKICAgIC5vcmRlckJ5KCdwcmljZScpXAogICAgLndpdGhDb2x1bW4oJ3ByaWNlX2Rpc3RyaWJ1dGlvbicsIEYuY29sKCdjb3VudCcpIC8gRi5zdW0oJ2NvdW50Jykub3Zlcih3aW5kb3dfc3BlYykpCgpkaXNwbGF5KGRmX3ByaWNlKQ==\").decode())\n\ntry:\n    # run user code\n    __backend_agg_user_code_fn()\n\n    #reset display function\n    display = __backend_agg_display_orig\n\n    if len(__backend_agg_dfs) > 0:\n        # create a temp view\n        if type(__backend_agg_dfs[0]).__module__ == \"databricks.koalas.frame\":\n            # koalas dataframe\n            __backend_agg_dfs[0].to_spark().createOrReplaceTempView(\"DatabricksView158dc3c\")\n        elif type(__backend_agg_dfs[0]).__module__ == \"pandas.core.frame\" or isinstance(__backend_agg_dfs[0], list):\n            # pandas dataframe\n            spark.createDataFrame(__backend_agg_dfs[0]).createOrReplaceTempView(\"DatabricksView158dc3c\")\n        else:\n            __backend_agg_dfs[0].createOrReplaceTempView(\"DatabricksView158dc3c\")\n        #run backend agg\n        display(spark.sql(\"\"\"WITH q AS (select * from DatabricksView158dc3c) SELECT `price`,SUM(`price_distribution`) `column_e31a3248161` FROM q GROUP BY `price`\"\"\"))\n    else:\n        displayHTML(\"dataframe no longer exists. If you're using dataframe.display(), use display(dataframe) instead.\")\n\n\nfinally:\n    spark.sql(\"drop view if exists DatabricksView158dc3c\")\n    display = __backend_agg_display_orig\n    del __backend_agg_display_new\n    del __backend_agg_display_orig\n    del __backend_agg_dfs\n    del __backend_agg_user_code_fn\n\n",
       "commandTitle": "Distribution des prix",
       "commandType": "auto",
       "commandVersion": 0,
       "commentThread": [],
       "commentsVisible": false,
       "contentSha256Hex": null,
       "customPlotOptions": {
        "redashChart": [
         {
          "key": "type",
          "value": "CHART"
         },
         {
          "key": "options",
          "value": {
           "alignYAxesAtZero": true,
           "coefficient": 1,
           "columnConfigurationMap": {
            "x": {
             "column": "price",
             "id": "column_8db9362d57"
            },
            "y": [
             {
              "column": "price_distribution",
              "id": "column_e31a3248161",
              "transform": "SUM"
             }
            ]
           },
           "dateTimeFormat": "DD/MM/YYYY HH:mm",
           "direction": {
            "type": "counterclockwise"
           },
           "error_y": {
            "type": "data",
            "visible": true
           },
           "globalSeriesType": "column",
           "isAggregationOn": true,
           "legend": {
            "traceorder": "normal"
           },
           "missingValuesAsZero": true,
           "numBins": 100,
           "numberFormat": "0,0[.]00000",
           "percentFormat": "0[.]00%",
           "series": {
            "error_y": {
             "type": "data",
             "visible": true
            },
            "percentValues": false,
            "stacking": ""
           },
           "seriesOptions": {
            "column_8db9362d59": {
             "type": "column",
             "yAxis": 0
            },
            "column_e31a3248161": {
             "type": "column",
             "yAxis": 0
            }
           },
           "showDataLabels": false,
           "sizemode": "diameter",
           "sortX": true,
           "sortY": true,
           "swappedAxes": false,
           "textFormat": "",
           "useAggregationsUi": true,
           "valuesOptions": {},
           "version": 2,
           "xAxis": {
            "labels": {
             "enabled": true
            },
            "type": "-"
           },
           "yAxis": [
            {
             "type": "-"
            },
            {
             "opposite": true,
             "type": "-"
            }
           ]
          }
         }
        ]
       },
       "datasetPreviewNameToCmdIdMap": {},
       "diffDeletes": [],
       "diffInserts": [],
       "displayType": "redashChart",
       "error": null,
       "errorDetails": null,
       "errorSummary": null,
       "errorTraceType": null,
       "finishTime": 0,
       "globalVars": {},
       "guid": "",
       "height": "615",
       "hideCommandCode": false,
       "hideCommandResult": false,
       "iPythonMetadata": null,
       "inputWidgets": {},
       "isLockedInExamMode": false,
       "latestUser": "a user",
       "latestUserId": null,
       "listResultMetadata": null,
       "metadata": {
        "byteLimit": 2048000,
        "rowLimit": 10000
       },
       "nuid": "499770ac-fdc3-43e6-acb8-b69204974cc5",
       "origId": 0,
       "parentHierarchy": [],
       "pivotAggregation": null,
       "pivotColumns": null,
       "position": 1.0,
       "resultDbfsErrorMessage": null,
       "resultDbfsStatus": "INLINED_IN_TREE",
       "results": null,
       "showCommandTitle": false,
       "startTime": 0,
       "state": "finished",
       "streamStates": {},
       "subcommandOptions": {
        "queryPlan": {
         "groups": [
          {
           "column": "price",
           "type": "column"
          }
         ],
         "selects": [
          {
           "column": "price",
           "type": "column"
          },
          {
           "alias": "column_e31a3248161",
           "args": [
            {
             "column": "price_distribution",
             "type": "column"
            }
           ],
           "function": "SUM",
           "type": "function"
          }
         ]
        }
       },
       "submitTime": 0,
       "subtype": "tableResultSubCmd.visualization",
       "tableResultIndex": 0,
       "useConsistentColors": false,
       "version": "CommandV1",
       "width": "1013",
       "workflows": [],
       "xColumns": null,
       "yColumns": null
      }
     },
     "output_type": "display_data"
    }
   ],
   "source": [
    "window_spec = Window.orderBy()\n",
    "\n",
    "df_price = df.select(F.col('data.price').cast('float').alias('price'))\\\n",
    "    .withColumn('price', F.round(F.col('price')/100))\\\n",
    "    .filter(F.col('price') <= 60)\\\n",
    "    .groupBy('price')\\\n",
    "    .count()\\\n",
    "    .orderBy('price')\\\n",
    "    .withColumn('price_distribution', F.col('count') / F.sum('count').over(window_spec))\n",
    "\n",
    "display(df_price)"
   ]
  },
  {
   "cell_type": "markdown",
   "metadata": {
    "application/vnd.databricks.v1+cell": {
     "cellMetadata": {
      "byteLimit": 2048000,
      "rowLimit": 10000
     },
     "inputWidgets": {},
     "nuid": "a0cf6b2f-f87c-4e38-b508-af7a307b0fe4",
     "showTitle": false,
     "title": ""
    }
   },
   "source": [
    "> Distribution du prix des jeux sur STEAM\n",
    "\n",
    "On peut déduire plusieurs paliers de prix sur steam :\n",
    "1) Les jeux gratuits <b>(15%)</b>\n",
    "2) Les jeux de 1 à 4 € <b>(30%)</b>\n",
    "3) Les jeux entre 5 et 9 € <b>(23%)</b>\n",
    "4) Les jeux à 10 et 14 € <b>(15%)</b>\n",
    "5) Les jeux supérieurs à 15€, par palier de 5€ <b>(17%)</b>\n",
    "\n",
    "Steam est une plateforme où plus de 80% des jeux qui se vendent sont à moins de 15€"
   ]
  },
  {
   "cell_type": "markdown",
   "metadata": {
    "application/vnd.databricks.v1+cell": {
     "cellMetadata": {
      "byteLimit": 2048000,
      "rowLimit": 10000
     },
     "inputWidgets": {},
     "nuid": "7c7865c0-8a62-404b-9d45-66b9def29028",
     "showTitle": false,
     "title": ""
    }
   },
   "source": [
    "### E) Les jeux en promotion"
   ]
  },
  {
   "cell_type": "code",
   "execution_count": 0,
   "metadata": {
    "application/vnd.databricks.v1+cell": {
     "cellMetadata": {
      "byteLimit": 2048000,
      "rowLimit": 10000
     },
     "inputWidgets": {},
     "nuid": "ad8d0fe9-7431-43df-b033-a0a43c5fd5f4",
     "showTitle": false,
     "title": ""
    }
   },
   "outputs": [
    {
     "output_type": "stream",
     "name": "stdout",
     "output_type": "stream",
     "text": [
      "Nombre de jeux en promo : 2518\nNombre de jeux total : 55691\nRatio promo/total : 4.52%\n"
     ]
    }
   ],
   "source": [
    "df_discount = df.select(F.col('data.discount').alias('discount'))\\\n",
    "    .filter(F.col('discount') > 0)\\\n",
    "    .count()\n",
    "\n",
    "print(f'Nombre de jeux en promo : {df_discount}')\n",
    "print(f'Nombre de jeux total : {df_count}')\n",
    "print(f'Ratio promo/total : {df_discount/df_count*100:.2f}%')"
   ]
  },
  {
   "cell_type": "markdown",
   "metadata": {
    "application/vnd.databricks.v1+cell": {
     "cellMetadata": {
      "byteLimit": 2048000,
      "rowLimit": 10000
     },
     "inputWidgets": {},
     "nuid": "a1bc8c84-032f-4b12-b976-2e9b89727dcf",
     "showTitle": false,
     "title": ""
    }
   },
   "source": [
    "> Les jeux en promotion\n",
    "\n",
    "On retrouve peu de jeux en promotion sur la plateforme, seulement 4.52 %. \n",
    "\n",
    "Il aurait été intéressant de voir le même jeu de données sur d'autres périodes (plus ou moins commerciales) pour estimer la tendance des promotions et les ventes associées."
   ]
  },
  {
   "cell_type": "markdown",
   "metadata": {
    "application/vnd.databricks.v1+cell": {
     "cellMetadata": {
      "byteLimit": 2048000,
      "rowLimit": 10000
     },
     "inputWidgets": {},
     "nuid": "a4d5cc7f-6772-4b18-8fde-8313d59cc434",
     "showTitle": false,
     "title": ""
    }
   },
   "source": [
    "### F) Les langues les plus représentés"
   ]
  },
  {
   "cell_type": "code",
   "execution_count": 0,
   "metadata": {
    "application/vnd.databricks.v1+cell": {
     "cellMetadata": {
      "byteLimit": 2048000,
      "rowLimit": 10000
     },
     "inputWidgets": {},
     "nuid": "84241436-71f9-474c-bdd7-9da215a25b2c",
     "showTitle": false,
     "title": ""
    }
   },
   "outputs": [
    {
     "output_type": "display_data",
     "data": {
      "text/html": [
       "<style scoped>\n",
       "  .table-result-container {\n",
       "    max-height: 300px;\n",
       "    overflow: auto;\n",
       "  }\n",
       "  table, th, td {\n",
       "    border: 1px solid black;\n",
       "    border-collapse: collapse;\n",
       "  }\n",
       "  th, td {\n",
       "    padding: 5px;\n",
       "  }\n",
       "  th {\n",
       "    text-align: left;\n",
       "  }\n",
       "</style><div class='table-result-container'><table class='table-result'><thead style='background-color: white'><tr><th>languages</th><th>count</th><th>language_distribution</th></tr></thead><tbody><tr><td>English</td><td>55116</td><td>0.9896751719308327</td></tr><tr><td>German</td><td>14019</td><td>0.251728286437665</td></tr><tr><td>French</td><td>13426</td><td>0.24108024635937583</td></tr><tr><td>Russian</td><td>12922</td><td>0.23203031010396652</td></tr><tr><td>Simplified Chinese</td><td>12782</td><td>0.2295164389219084</td></tr><tr><td>Spanish - Spain</td><td>12233</td><td>0.21965847264369467</td></tr><tr><td>Japanese</td><td>10368</td><td>0.18617011725413443</td></tr><tr><td>Italian</td><td>9304</td><td>0.16706469627049253</td></tr><tr><td>Portuguese - Brazil</td><td>6750</td><td>0.12120450342066043</td></tr><tr><td>Korean</td><td>6599</td><td>0.11849311378858343</td></tr></tbody></table></div>"
      ]
     },
     "metadata": {
      "application/vnd.databricks.v1+output": {
       "addedWidgets": {},
       "aggData": [],
       "aggError": "",
       "aggOverflow": false,
       "aggSchema": [],
       "aggSeriesLimitReached": false,
       "aggType": "",
       "arguments": {},
       "columnCustomDisplayInfos": {},
       "data": [
        [
         "English",
         55116,
         0.9896751719308327
        ],
        [
         "German",
         14019,
         0.251728286437665
        ],
        [
         "French",
         13426,
         0.24108024635937583
        ],
        [
         "Russian",
         12922,
         0.23203031010396652
        ],
        [
         "Simplified Chinese",
         12782,
         0.2295164389219084
        ],
        [
         "Spanish - Spain",
         12233,
         0.21965847264369467
        ],
        [
         "Japanese",
         10368,
         0.18617011725413443
        ],
        [
         "Italian",
         9304,
         0.16706469627049253
        ],
        [
         "Portuguese - Brazil",
         6750,
         0.12120450342066043
        ],
        [
         "Korean",
         6599,
         0.11849311378858343
        ]
       ],
       "datasetInfos": [],
       "dbfsResultPath": null,
       "isJsonSchema": true,
       "metadata": {},
       "overflow": false,
       "plotOptions": {
        "customPlotOptions": {},
        "displayType": "table",
        "pivotAggregation": null,
        "pivotColumns": null,
        "xColumns": null,
        "yColumns": null
       },
       "removedWidgets": [],
       "schema": [
        {
         "metadata": "{}",
         "name": "languages",
         "type": "\"string\""
        },
        {
         "metadata": "{}",
         "name": "count",
         "type": "\"long\""
        },
        {
         "metadata": "{}",
         "name": "language_distribution",
         "type": "\"double\""
        }
       ],
       "type": "table"
      }
     },
     "output_type": "display_data"
    },
    {
     "output_type": "display_data",
     "data": {
      "text/plain": [
       "Databricks visualization. Run in Databricks to view."
      ]
     },
     "metadata": {
      "application/vnd.databricks.v1.subcommand+json": {
       "bindings": {},
       "collapsed": false,
       "command": "%python\n__backend_agg_display_orig = display\n__backend_agg_dfs = []\ndef __backend_agg_display_new(df):\n    __backend_agg_df_modules = [\"pandas.core.frame\", \"databricks.koalas.frame\", \"pyspark.sql.dataframe\", \"pyspark.pandas.frame\", \"pyspark.sql.connect.dataframe\"]\n    if (type(df).__module__ in __backend_agg_df_modules and type(df).__name__ == 'DataFrame') or isinstance(df, list):\n        __backend_agg_dfs.append(df)\n\ndisplay = __backend_agg_display_new\n\ndef __backend_agg_user_code_fn():\n    import base64\n    exec(base64.standard_b64decode(\"ZGZfbGFuZ3VhZ2VzID0gZGYuZ3JvdXBCeSgnZGF0YS5sYW5ndWFnZXMnKVwKICAgIC5jb3VudCgpXAogICAgLndpdGhDb2x1bW4oJ2xhbmd1YWdlcycsIEYuZXhwbG9kZShGLnNwbGl0KEYuY29sKCdsYW5ndWFnZXMnKSwgJywgJykpKVwKICAgIC5ncm91cEJ5KCdsYW5ndWFnZXMnKVwKICAgIC5zdW0oJ2NvdW50JylcCiAgICAud2l0aENvbHVtblJlbmFtZWQoJ3N1bShjb3VudCknLCAnY291bnQnKVwKICAgIC5zb3J0KCdjb3VudCcsIGFzY2VuZGluZz1GYWxzZSlcCiAgICAubGltaXQoMTApXAogICAgLndpdGhDb2x1bW4oJ2xhbmd1YWdlX2Rpc3RyaWJ1dGlvbicsIEYuY29sKCdjb3VudCcpIC8gZGZfY291bnQpCgpkaXNwbGF5KGRmX2xhbmd1YWdlcyk=\").decode())\n\ntry:\n    # run user code\n    __backend_agg_user_code_fn()\n\n    #reset display function\n    display = __backend_agg_display_orig\n\n    if len(__backend_agg_dfs) > 0:\n        # create a temp view\n        if type(__backend_agg_dfs[0]).__module__ == \"databricks.koalas.frame\":\n            # koalas dataframe\n            __backend_agg_dfs[0].to_spark().createOrReplaceTempView(\"DatabricksView3a4cd3c\")\n        elif type(__backend_agg_dfs[0]).__module__ == \"pandas.core.frame\" or isinstance(__backend_agg_dfs[0], list):\n            # pandas dataframe\n            spark.createDataFrame(__backend_agg_dfs[0]).createOrReplaceTempView(\"DatabricksView3a4cd3c\")\n        else:\n            __backend_agg_dfs[0].createOrReplaceTempView(\"DatabricksView3a4cd3c\")\n        #run backend agg\n        display(spark.sql(\"\"\"WITH q AS (select * from DatabricksView3a4cd3c) SELECT `languages`,SUM(`count`) `column_aee0978f73` FROM q GROUP BY `languages`\"\"\"))\n    else:\n        displayHTML(\"dataframe no longer exists. If you're using dataframe.display(), use display(dataframe) instead.\")\n\n\nfinally:\n    spark.sql(\"drop view if exists DatabricksView3a4cd3c\")\n    display = __backend_agg_display_orig\n    del __backend_agg_display_new\n    del __backend_agg_display_orig\n    del __backend_agg_dfs\n    del __backend_agg_user_code_fn\n\n",
       "commandTitle": "Top 10 des langues les plus représentées",
       "commandType": "auto",
       "commandVersion": 0,
       "commentThread": [],
       "commentsVisible": false,
       "contentSha256Hex": null,
       "customPlotOptions": {
        "redashChart": [
         {
          "key": "type",
          "value": "CHART"
         },
         {
          "key": "options",
          "value": {
           "alignYAxesAtZero": true,
           "coefficient": 1,
           "columnConfigurationMap": {
            "x": {
             "column": "languages",
             "id": "column_aee0978f72"
            },
            "y": [
             {
              "column": "count",
              "id": "column_aee0978f73",
              "transform": "SUM"
             }
            ]
           },
           "dateTimeFormat": "DD/MM/YYYY HH:mm",
           "direction": {
            "type": "counterclockwise"
           },
           "error_y": {
            "type": "data",
            "visible": true
           },
           "globalSeriesType": "column",
           "isAggregationOn": true,
           "legend": {
            "traceorder": "normal"
           },
           "missingValuesAsZero": true,
           "numberFormat": "'0. a'",
           "percentFormat": "0[.]00%",
           "series": {
            "error_y": {
             "type": "data",
             "visible": true
            },
            "stacking": null
           },
           "seriesOptions": {
            "column_aee0978f73": {
             "name": "count",
             "yAxis": 0
            }
           },
           "showDataLabels": true,
           "sizemode": "diameter",
           "sortX": false,
           "sortY": true,
           "swappedAxes": true,
           "textFormat": "",
           "useAggregationsUi": true,
           "valuesOptions": {},
           "version": 2,
           "xAxis": {
            "labels": {
             "enabled": true
            },
            "type": "-"
           },
           "yAxis": [
            {
             "type": "-"
            },
            {
             "opposite": true,
             "type": "-"
            }
           ]
          }
         }
        ]
       },
       "datasetPreviewNameToCmdIdMap": {},
       "diffDeletes": [],
       "diffInserts": [],
       "displayType": "redashChart",
       "error": null,
       "errorDetails": null,
       "errorSummary": null,
       "errorTraceType": null,
       "finishTime": 0,
       "globalVars": {},
       "guid": "",
       "height": "auto",
       "hideCommandCode": false,
       "hideCommandResult": false,
       "iPythonMetadata": null,
       "inputWidgets": {},
       "isLockedInExamMode": false,
       "latestUser": "a user",
       "latestUserId": null,
       "listResultMetadata": null,
       "metadata": {
        "byteLimit": 2048000,
        "rowLimit": 10000
       },
       "nuid": "f23f5cab-a0d2-4792-8cbc-3865743f2a06",
       "origId": 0,
       "parentHierarchy": [],
       "pivotAggregation": null,
       "pivotColumns": null,
       "position": 9.5,
       "resultDbfsErrorMessage": null,
       "resultDbfsStatus": "INLINED_IN_TREE",
       "results": null,
       "showCommandTitle": false,
       "startTime": 0,
       "state": "finished",
       "streamStates": {},
       "subcommandOptions": {
        "queryPlan": {
         "groups": [
          {
           "column": "languages",
           "type": "column"
          }
         ],
         "selects": [
          {
           "column": "languages",
           "type": "column"
          },
          {
           "alias": "column_aee0978f73",
           "args": [
            {
             "column": "count",
             "type": "column"
            }
           ],
           "function": "SUM",
           "type": "function"
          }
         ]
        }
       },
       "submitTime": 0,
       "subtype": "tableResultSubCmd.visualization",
       "tableResultIndex": 0,
       "useConsistentColors": false,
       "version": "CommandV1",
       "width": "auto",
       "workflows": [],
       "xColumns": null,
       "yColumns": null
      }
     },
     "output_type": "display_data"
    }
   ],
   "source": [
    "df_languages = df.groupBy('data.languages')\\\n",
    "    .count()\\\n",
    "    .withColumn('languages', F.explode(F.split(F.col('languages'), ', ')))\\\n",
    "    .groupBy('languages')\\\n",
    "    .sum('count')\\\n",
    "    .withColumnRenamed('sum(count)', 'count')\\\n",
    "    .sort('count', ascending=False)\\\n",
    "    .limit(10)\\\n",
    "    .withColumn('language_distribution', F.col('count') / df_count)\n",
    "\n",
    "display(df_languages)"
   ]
  },
  {
   "cell_type": "code",
   "execution_count": 0,
   "metadata": {
    "application/vnd.databricks.v1+cell": {
     "cellMetadata": {
      "byteLimit": 2048000,
      "rowLimit": 10000
     },
     "inputWidgets": {},
     "nuid": "67a59532-d917-44cf-9cf2-2418cb068aa6",
     "showTitle": false,
     "title": ""
    }
   },
   "outputs": [
    {
     "output_type": "stream",
     "name": "stdout",
     "output_type": "stream",
     "text": [
      "Ratio jeux en anglais / nombre de jeux sur Steam = 98.97 %\n"
     ]
    }
   ],
   "source": [
    "language_english = df_languages.select('language_distribution').collect()[0][0]\n",
    "\n",
    "print(f'Ratio jeux en anglais / nombre de jeux sur Steam = {language_english * 100:.2f} %')"
   ]
  },
  {
   "cell_type": "markdown",
   "metadata": {
    "application/vnd.databricks.v1+cell": {
     "cellMetadata": {
      "byteLimit": 2048000,
      "rowLimit": 10000
     },
     "inputWidgets": {},
     "nuid": "7c7456c5-a42d-4ff7-a021-d69ce5f93e71",
     "showTitle": false,
     "title": ""
    }
   },
   "source": [
    "> Les langues les plus représentées\n",
    "\n",
    "L'anglais est incontestablement le langage le plus représenté sur Steam, présent dans quasiment 99 % des jeux. Il semble donc crucial, lors de la création d'un jeu vidéo, de le rendre accessible en anglais tant au niveau du texte que des sons.\n",
    "\n",
    "D'autres langues sont également bien représentées, comme l'allemand, le français, le chinois, l'espagnol etc."
   ]
  },
  {
   "cell_type": "markdown",
   "metadata": {
    "application/vnd.databricks.v1+cell": {
     "cellMetadata": {
      "byteLimit": 2048000,
      "rowLimit": 10000
     },
     "inputWidgets": {},
     "nuid": "40d24c7e-6a15-4bd0-96e6-408c16ab2df9",
     "showTitle": false,
     "title": ""
    }
   },
   "source": [
    "### G) Les jeux réservés aux personnes de 16 ans et plus"
   ]
  },
  {
   "cell_type": "code",
   "execution_count": 0,
   "metadata": {
    "application/vnd.databricks.v1+cell": {
     "cellMetadata": {
      "byteLimit": 2048000,
      "rowLimit": 10000
     },
     "inputWidgets": {},
     "nuid": "6e156e22-8e3c-461f-be8f-af91f9c3d8e6",
     "showTitle": false,
     "title": ""
    }
   },
   "outputs": [
    {
     "output_type": "stream",
     "name": "stdout",
     "output_type": "stream",
     "text": [
      "299 jeux interdits au moins de 16 ans, 0.54 % des jeux de la plateforme\n"
     ]
    }
   ],
   "source": [
    "df_required_age = df.filter(F.col('data.required_age').cast('int') >= 16)\\\n",
    "    .groupBy('data.required_age')\\\n",
    "    .count()\\\n",
    "    .sort('count', ascending=False)\\\n",
    "    .limit(3)\n",
    "\n",
    "required_age_sum = df_required_age.agg({'count': 'sum'}).collect()[0][0]\n",
    "\n",
    "print(f'{required_age_sum} jeux interdits au moins de 16 ans, {required_age_sum / df_count * 100:.2f} % des jeux de la plateforme')"
   ]
  },
  {
   "cell_type": "markdown",
   "metadata": {
    "application/vnd.databricks.v1+cell": {
     "cellMetadata": {
      "byteLimit": 2048000,
      "rowLimit": 10000
     },
     "inputWidgets": {},
     "nuid": "14d0a783-61d2-4d02-986a-759585ec8a34",
     "showTitle": false,
     "title": ""
    }
   },
   "source": [
    "> Les jeux réservés aux personnes de 16 ans et plus\n",
    "\n",
    "Au global, on voit que la plateforme ne possède que 299 jeux interdits au moins de 16 ans. Cela représente la faible proportion de 0.54 %. \n",
    "\n",
    "Ce n'est pas un élément qui sera très important dans notre analyse."
   ]
  },
  {
   "cell_type": "markdown",
   "metadata": {
    "application/vnd.databricks.v1+cell": {
     "cellMetadata": {
      "byteLimit": 2048000,
      "rowLimit": 10000
     },
     "inputWidgets": {},
     "nuid": "1b5ff91f-2338-4726-88b5-b4e6d71a475f",
     "showTitle": false,
     "title": ""
    }
   },
   "source": [
    "## PARTIE 2 : ANALYSE PAR CATEGORIE"
   ]
  },
  {
   "cell_type": "markdown",
   "metadata": {
    "application/vnd.databricks.v1+cell": {
     "cellMetadata": {
      "byteLimit": 2048000,
      "rowLimit": 10000
     },
     "inputWidgets": {},
     "nuid": "4e543f77-ad69-46f4-995e-03547e20bc65",
     "showTitle": false,
     "title": ""
    }
   },
   "source": [
    "### A) Les catégories les plus représentées"
   ]
  },
  {
   "cell_type": "code",
   "execution_count": 0,
   "metadata": {
    "application/vnd.databricks.v1+cell": {
     "cellMetadata": {
      "byteLimit": 2048000,
      "rowLimit": 10000
     },
     "inputWidgets": {},
     "nuid": "bed5f984-f5b4-4746-98ae-e10785b2b9f4",
     "showTitle": false,
     "title": ""
    }
   },
   "outputs": [
    {
     "output_type": "display_data",
     "data": {
      "text/html": [
       "<style scoped>\n",
       "  .table-result-container {\n",
       "    max-height: 300px;\n",
       "    overflow: auto;\n",
       "  }\n",
       "  table, th, td {\n",
       "    border: 1px solid black;\n",
       "    border-collapse: collapse;\n",
       "  }\n",
       "  th, td {\n",
       "    padding: 5px;\n",
       "  }\n",
       "  th {\n",
       "    text-align: left;\n",
       "  }\n",
       "</style><div class='table-result-container'><table class='table-result'><thead style='background-color: white'><tr><th>genre</th><th>count</th><th>genre_distribution</th></tr></thead><tbody><tr><td>Indie</td><td>39681</td><td>0.7125208741089224</td></tr><tr><td>Action</td><td>23759</td><td>0.4266218958179957</td></tr><tr><td>Casual</td><td>22086</td><td>0.3965811351924009</td></tr><tr><td>Adventure</td><td>21431</td><td>0.3848198093049146</td></tr><tr><td>Strategy</td><td>10895</td><td>0.19563304663231043</td></tr><tr><td>Simulation</td><td>10836</td><td>0.19457362949130022</td></tr><tr><td>RPG</td><td>9534</td><td>0.17119462749815947</td></tr><tr><td>Early Access</td><td>6145</td><td>0.11034098866962345</td></tr><tr><td>Free to Play</td><td>3393</td><td>0.060925463719451976</td></tr><tr><td>Sports</td><td>2666</td><td>0.047871289795478625</td></tr></tbody></table></div>"
      ]
     },
     "metadata": {
      "application/vnd.databricks.v1+output": {
       "addedWidgets": {},
       "aggData": [],
       "aggError": "",
       "aggOverflow": false,
       "aggSchema": [],
       "aggSeriesLimitReached": false,
       "aggType": "",
       "arguments": {},
       "columnCustomDisplayInfos": {},
       "data": [
        [
         "Indie",
         39681,
         0.7125208741089224
        ],
        [
         "Action",
         23759,
         0.4266218958179957
        ],
        [
         "Casual",
         22086,
         0.3965811351924009
        ],
        [
         "Adventure",
         21431,
         0.3848198093049146
        ],
        [
         "Strategy",
         10895,
         0.19563304663231043
        ],
        [
         "Simulation",
         10836,
         0.19457362949130022
        ],
        [
         "RPG",
         9534,
         0.17119462749815947
        ],
        [
         "Early Access",
         6145,
         0.11034098866962345
        ],
        [
         "Free to Play",
         3393,
         0.060925463719451976
        ],
        [
         "Sports",
         2666,
         0.047871289795478625
        ]
       ],
       "datasetInfos": [],
       "dbfsResultPath": null,
       "isJsonSchema": true,
       "metadata": {},
       "overflow": false,
       "plotOptions": {
        "customPlotOptions": {},
        "displayType": "table",
        "pivotAggregation": null,
        "pivotColumns": null,
        "xColumns": null,
        "yColumns": null
       },
       "removedWidgets": [],
       "schema": [
        {
         "metadata": "{}",
         "name": "genre",
         "type": "\"string\""
        },
        {
         "metadata": "{}",
         "name": "count",
         "type": "\"long\""
        },
        {
         "metadata": "{}",
         "name": "genre_distribution",
         "type": "\"double\""
        }
       ],
       "type": "table"
      }
     },
     "output_type": "display_data"
    },
    {
     "output_type": "display_data",
     "data": {
      "text/plain": [
       "Databricks visualization. Run in Databricks to view."
      ]
     },
     "metadata": {
      "application/vnd.databricks.v1.subcommand+json": {
       "bindings": {},
       "collapsed": false,
       "command": "%python\n__backend_agg_display_orig = display\n__backend_agg_dfs = []\ndef __backend_agg_display_new(df):\n    __backend_agg_df_modules = [\"pandas.core.frame\", \"databricks.koalas.frame\", \"pyspark.sql.dataframe\", \"pyspark.pandas.frame\", \"pyspark.sql.connect.dataframe\"]\n    if (type(df).__module__ in __backend_agg_df_modules and type(df).__name__ == 'DataFrame') or isinstance(df, list):\n        __backend_agg_dfs.append(df)\n\ndisplay = __backend_agg_display_new\n\ndef __backend_agg_user_code_fn():\n    import base64\n    exec(base64.standard_b64decode(\"ZGZfZ2VucmVzID0gZGYuZ3JvdXBCeSgnZGF0YS5nZW5yZScpXAogICAgLmNvdW50KClcCiAgICAud2l0aENvbHVtbignZ2VucmUnLCBGLmV4cGxvZGUoRi5zcGxpdChGLmNvbCgnZ2VucmUnKSwgJywgJykpKVwKICAgIC5ncm91cEJ5KCdnZW5yZScpXAogICAgLnN1bSgnY291bnQnKVwKICAgIC53aXRoQ29sdW1uUmVuYW1lZCgnc3VtKGNvdW50KScsICdjb3VudCcpXAogICAgLnNvcnQoJ2NvdW50JywgYXNjZW5kaW5nPUZhbHNlKVwKICAgIC5saW1pdCgxMClcCiAgICAud2l0aENvbHVtbignZ2VucmVfZGlzdHJpYnV0aW9uJywgRi5jb2woJ2NvdW50JykgLyBkZl9jb3VudCkKCmRpc3BsYXkoZGZfZ2VucmVzKQ==\").decode())\n\ntry:\n    # run user code\n    __backend_agg_user_code_fn()\n\n    #reset display function\n    display = __backend_agg_display_orig\n\n    if len(__backend_agg_dfs) > 0:\n        # create a temp view\n        if type(__backend_agg_dfs[0]).__module__ == \"databricks.koalas.frame\":\n            # koalas dataframe\n            __backend_agg_dfs[0].to_spark().createOrReplaceTempView(\"DatabricksViewac13589\")\n        elif type(__backend_agg_dfs[0]).__module__ == \"pandas.core.frame\" or isinstance(__backend_agg_dfs[0], list):\n            # pandas dataframe\n            spark.createDataFrame(__backend_agg_dfs[0]).createOrReplaceTempView(\"DatabricksViewac13589\")\n        else:\n            __backend_agg_dfs[0].createOrReplaceTempView(\"DatabricksViewac13589\")\n        #run backend agg\n        display(spark.sql(\"\"\"WITH q AS (select * from DatabricksViewac13589) SELECT `genre`,SUM(`count`) `column_aee0978f156` FROM q GROUP BY `genre`\"\"\"))\n    else:\n        displayHTML(\"dataframe no longer exists. If you're using dataframe.display(), use display(dataframe) instead.\")\n\n\nfinally:\n    spark.sql(\"drop view if exists DatabricksViewac13589\")\n    display = __backend_agg_display_orig\n    del __backend_agg_display_new\n    del __backend_agg_display_orig\n    del __backend_agg_dfs\n    del __backend_agg_user_code_fn\n\n",
       "commandTitle": "Top 10 des catégories (par nombre de jeux)",
       "commandType": "auto",
       "commandVersion": 0,
       "commentThread": [],
       "commentsVisible": false,
       "contentSha256Hex": null,
       "customPlotOptions": {
        "redashChart": [
         {
          "key": "type",
          "value": "CHART"
         },
         {
          "key": "options",
          "value": {
           "alignYAxesAtZero": true,
           "coefficient": 1,
           "columnConfigurationMap": {
            "x": {
             "column": "genre",
             "id": "column_aee0978f154"
            },
            "y": [
             {
              "column": "count",
              "id": "column_aee0978f156",
              "transform": "SUM"
             }
            ]
           },
           "dateTimeFormat": "DD/MM/YYYY HH:mm",
           "direction": {
            "type": "counterclockwise"
           },
           "error_y": {
            "type": "data",
            "visible": true
           },
           "globalSeriesType": "column",
           "isAggregationOn": true,
           "legend": {
            "traceorder": "normal"
           },
           "missingValuesAsZero": true,
           "numBins": 10,
           "numberFormat": "0",
           "percentFormat": "0[.]00%",
           "series": {
            "error_y": {
             "type": "data",
             "visible": true
            },
            "stacking": null
           },
           "seriesOptions": {
            "column_aee0978f152": {
             "name": "genre_distribution",
             "type": "column",
             "yAxis": 0
            },
            "column_aee0978f156": {
             "type": "column",
             "yAxis": 0
            }
           },
           "showDataLabels": true,
           "sizemode": "diameter",
           "sortX": false,
           "sortY": true,
           "swappedAxes": false,
           "textFormat": "",
           "useAggregationsUi": true,
           "valuesOptions": {},
           "version": 2,
           "xAxis": {
            "labels": {
             "enabled": true
            },
            "type": "-"
           },
           "yAxis": [
            {
             "type": "-"
            },
            {
             "opposite": true,
             "type": "-"
            }
           ]
          }
         }
        ]
       },
       "datasetPreviewNameToCmdIdMap": {},
       "diffDeletes": [],
       "diffInserts": [],
       "displayType": "redashChart",
       "error": null,
       "errorDetails": null,
       "errorSummary": null,
       "errorTraceType": null,
       "finishTime": 0,
       "globalVars": {},
       "guid": "",
       "height": "598",
       "hideCommandCode": false,
       "hideCommandResult": false,
       "iPythonMetadata": null,
       "inputWidgets": {},
       "isLockedInExamMode": false,
       "latestUser": "a user",
       "latestUserId": null,
       "listResultMetadata": null,
       "metadata": {
        "byteLimit": 2048000,
        "rowLimit": 10000
       },
       "nuid": "05c8100f-ad82-4e26-807e-ee81bf2e3fa1",
       "origId": 0,
       "parentHierarchy": [],
       "pivotAggregation": null,
       "pivotColumns": null,
       "position": 12.375,
       "resultDbfsErrorMessage": null,
       "resultDbfsStatus": "INLINED_IN_TREE",
       "results": null,
       "showCommandTitle": false,
       "startTime": 0,
       "state": "finished",
       "streamStates": {},
       "subcommandOptions": {
        "queryPlan": {
         "groups": [
          {
           "column": "genre",
           "type": "column"
          }
         ],
         "selects": [
          {
           "column": "genre",
           "type": "column"
          },
          {
           "alias": "column_aee0978f156",
           "args": [
            {
             "column": "count",
             "type": "column"
            }
           ],
           "function": "SUM",
           "type": "function"
          }
         ]
        }
       },
       "submitTime": 0,
       "subtype": "tableResultSubCmd.visualization",
       "tableResultIndex": 0,
       "useConsistentColors": false,
       "version": "CommandV1",
       "width": "993",
       "workflows": [],
       "xColumns": null,
       "yColumns": null
      }
     },
     "output_type": "display_data"
    }
   ],
   "source": [
    "df_genres = df.groupBy('data.genre')\\\n",
    "    .count()\\\n",
    "    .withColumn('genre', F.explode(F.split(F.col('genre'), ', ')))\\\n",
    "    .groupBy('genre')\\\n",
    "    .sum('count')\\\n",
    "    .withColumnRenamed('sum(count)', 'count')\\\n",
    "    .sort('count', ascending=False)\\\n",
    "    .limit(10)\\\n",
    "    .withColumn('genre_distribution', F.col('count') / df_count)\n",
    "\n",
    "display(df_genres)"
   ]
  },
  {
   "cell_type": "markdown",
   "metadata": {
    "application/vnd.databricks.v1+cell": {
     "cellMetadata": {
      "byteLimit": 2048000,
      "rowLimit": 10000
     },
     "inputWidgets": {},
     "nuid": "89d5b864-bccb-43e7-9b13-0aeafde6412b",
     "showTitle": false,
     "title": ""
    }
   },
   "source": [
    "> Quels sont les genres les plus représentés ?\n",
    "\n",
    "On voit que les jeux indépendants sont les jeux les plus représentés avec un taux de 71.25 %. Un résultat qui semble logique quand on compare avec le fait que plus de 80% des jeux sont à un prix de moins de 15 €\n",
    "\n",
    "Les jeux d'actions, grand public (casual) et d'aventures sont également bien représentés à plus de 38% chacun."
   ]
  },
  {
   "cell_type": "markdown",
   "metadata": {
    "application/vnd.databricks.v1+cell": {
     "cellMetadata": {
      "byteLimit": 2048000,
      "rowLimit": 10000
     },
     "inputWidgets": {},
     "nuid": "f831b127-02d9-4922-b53b-d1be83e3f4cf",
     "showTitle": false,
     "title": ""
    }
   },
   "source": [
    "### B) Les catégories les mieux notés"
   ]
  },
  {
   "cell_type": "code",
   "execution_count": 0,
   "metadata": {
    "application/vnd.databricks.v1+cell": {
     "cellMetadata": {
      "byteLimit": 2048000,
      "rowLimit": 10000
     },
     "inputWidgets": {},
     "nuid": "d3f2a175-0238-4cb9-9663-249c3585745f",
     "showTitle": false,
     "title": ""
    }
   },
   "outputs": [
    {
     "output_type": "display_data",
     "data": {
      "text/html": [
       "<style scoped>\n",
       "  .table-result-container {\n",
       "    max-height: 300px;\n",
       "    overflow: auto;\n",
       "  }\n",
       "  table, th, td {\n",
       "    border: 1px solid black;\n",
       "    border-collapse: collapse;\n",
       "  }\n",
       "  th, td {\n",
       "    padding: 5px;\n",
       "  }\n",
       "  th {\n",
       "    text-align: left;\n",
       "  }\n",
       "</style><div class='table-result-container'><table class='table-result'><thead style='background-color: white'><tr><th>genre</th><th>positive</th><th>negative</th><th>total_reviews</th><th>positive_ratio</th></tr></thead><tbody><tr><td>Indie</td><td>32531023</td><td>4241234</td><td>36772257</td><td>0.8846621244923857</td></tr><tr><td>Casual</td><td>10034967</td><td>1537296</td><td>11572263</td><td>0.8671568387272222</td></tr><tr><td>Simulation</td><td>15572390</td><td>2400512</td><td>17972902</td><td>0.8664371507728691</td></tr><tr><td>Racing</td><td>2340353</td><td>383691</td><td>2724044</td><td>0.8591465482936399</td></tr><tr><td>RPG</td><td>19425528</td><td>3274328</td><td>22699856</td><td>0.855755560740121</td></tr><tr><td>Action</td><td>54858618</td><td>9687659</td><td>64546277</td><td>0.8499114209174295</td></tr><tr><td>Strategy</td><td>13402870</td><td>2393425</td><td>15796295</td><td>0.8484818750219593</td></tr><tr><td>Adventure</td><td>29689445</td><td>5653153</td><td>35342598</td><td>0.8400470446456709</td></tr><tr><td>Early Access</td><td>4334595</td><td>936191</td><td>5270786</td><td>0.8223811401183808</td></tr><tr><td>Free to Play</td><td>18722246</td><td>4280807</td><td>23003053</td><td>0.8139026589209701</td></tr></tbody></table></div>"
      ]
     },
     "metadata": {
      "application/vnd.databricks.v1+output": {
       "addedWidgets": {},
       "aggData": [],
       "aggError": "",
       "aggOverflow": false,
       "aggSchema": [],
       "aggSeriesLimitReached": false,
       "aggType": "",
       "arguments": {},
       "columnCustomDisplayInfos": {},
       "data": [
        [
         "Indie",
         32531023,
         4241234,
         36772257,
         0.8846621244923857
        ],
        [
         "Casual",
         10034967,
         1537296,
         11572263,
         0.8671568387272222
        ],
        [
         "Simulation",
         15572390,
         2400512,
         17972902,
         0.8664371507728691
        ],
        [
         "Racing",
         2340353,
         383691,
         2724044,
         0.8591465482936399
        ],
        [
         "RPG",
         19425528,
         3274328,
         22699856,
         0.855755560740121
        ],
        [
         "Action",
         54858618,
         9687659,
         64546277,
         0.8499114209174295
        ],
        [
         "Strategy",
         13402870,
         2393425,
         15796295,
         0.8484818750219593
        ],
        [
         "Adventure",
         29689445,
         5653153,
         35342598,
         0.8400470446456709
        ],
        [
         "Early Access",
         4334595,
         936191,
         5270786,
         0.8223811401183808
        ],
        [
         "Free to Play",
         18722246,
         4280807,
         23003053,
         0.8139026589209701
        ]
       ],
       "datasetInfos": [],
       "dbfsResultPath": null,
       "isJsonSchema": true,
       "metadata": {},
       "overflow": false,
       "plotOptions": {
        "customPlotOptions": {},
        "displayType": "table",
        "pivotAggregation": null,
        "pivotColumns": null,
        "xColumns": null,
        "yColumns": null
       },
       "removedWidgets": [],
       "schema": [
        {
         "metadata": "{}",
         "name": "genre",
         "type": "\"string\""
        },
        {
         "metadata": "{}",
         "name": "positive",
         "type": "\"long\""
        },
        {
         "metadata": "{}",
         "name": "negative",
         "type": "\"long\""
        },
        {
         "metadata": "{}",
         "name": "total_reviews",
         "type": "\"long\""
        },
        {
         "metadata": "{}",
         "name": "positive_ratio",
         "type": "\"double\""
        }
       ],
       "type": "table"
      }
     },
     "output_type": "display_data"
    },
    {
     "output_type": "display_data",
     "data": {
      "text/plain": [
       "Databricks visualization. Run in Databricks to view."
      ]
     },
     "metadata": {
      "application/vnd.databricks.v1.subcommand+json": {
       "bindings": {},
       "collapsed": false,
       "command": "%python\n__backend_agg_display_orig = display\n__backend_agg_dfs = []\ndef __backend_agg_display_new(df):\n    __backend_agg_df_modules = [\"pandas.core.frame\", \"databricks.koalas.frame\", \"pyspark.sql.dataframe\", \"pyspark.pandas.frame\", \"pyspark.sql.connect.dataframe\"]\n    if (type(df).__module__ in __backend_agg_df_modules and type(df).__name__ == 'DataFrame') or isinstance(df, list):\n        __backend_agg_dfs.append(df)\n\ndisplay = __backend_agg_display_new\n\ndef __backend_agg_user_code_fn():\n    import base64\n    exec(base64.standard_b64decode(\"IyBGaWx0cmUgc3VyIGxlIG5vbWJyZSBkZSB2b3RlcyA+PSAxLjAwMC4wMDAKCmRmX2dlbnJlc19yYXRpbyA9IGRmLnNlbGVjdCgnZGF0YS5nZW5yZScsICdkYXRhLnBvc2l0aXZlJywgJ2RhdGEubmVnYXRpdmUnKVwKICAgIC53aXRoQ29sdW1uKCdnZW5yZScsIEYuZXhwbG9kZShGLnNwbGl0KEYuY29sKCdnZW5yZScpLCAnLCAnKSkpXAogICAgLmdyb3VwQnkoJ2dlbnJlJylcCiAgICAuYWdnKAogICAgICAgIEYuc3VtKEYuY29sKCdwb3NpdGl2ZScpKS5hbGlhcygncG9zaXRpdmUnKSwKICAgICAgICBGLnN1bShGLmNvbCgnbmVnYXRpdmUnKSkuYWxpYXMoJ25lZ2F0aXZlJykKICAgIClcCiAgICAud2l0aENvbHVtbigndG90YWxfcmV2aWV3cycsIEYuY29sKCdwb3NpdGl2ZScpICsgRi5jb2woJ25lZ2F0aXZlJykpXAogICAgLndpdGhDb2x1bW4oJ3Bvc2l0aXZlX3JhdGlvJywgRi5jb2woJ3Bvc2l0aXZlJykgLyBGLmNvbCgndG90YWxfcmV2aWV3cycpKVwKICAgIC5maWx0ZXIoRi5jb2woJ2dlbnJlJykgIT0gJycpXAogICAgLmZpbHRlcihGLmNvbCgndG90YWxfcmV2aWV3cycpID49IDEwMDAwMDApXAogICAgLm9yZGVyQnkoJ3Bvc2l0aXZlX3JhdGlvJywgYXNjZW5kaW5nPUZhbHNlKVwKICAgIC5saW1pdCgxMCkKCmRpc3BsYXkoZGZfZ2VucmVzX3JhdGlvKQ==\").decode())\n\ntry:\n    # run user code\n    __backend_agg_user_code_fn()\n\n    #reset display function\n    display = __backend_agg_display_orig\n\n    if len(__backend_agg_dfs) > 0:\n        # create a temp view\n        if type(__backend_agg_dfs[0]).__module__ == \"databricks.koalas.frame\":\n            # koalas dataframe\n            __backend_agg_dfs[0].to_spark().createOrReplaceTempView(\"DatabricksView5288a2e\")\n        elif type(__backend_agg_dfs[0]).__module__ == \"pandas.core.frame\" or isinstance(__backend_agg_dfs[0], list):\n            # pandas dataframe\n            spark.createDataFrame(__backend_agg_dfs[0]).createOrReplaceTempView(\"DatabricksView5288a2e\")\n        else:\n            __backend_agg_dfs[0].createOrReplaceTempView(\"DatabricksView5288a2e\")\n        #run backend agg\n        display(spark.sql(\"\"\"WITH q AS (select * from DatabricksView5288a2e) SELECT `genre`,SUM(`positive_ratio`) `column_e293c995172` FROM q GROUP BY `genre`\"\"\"))\n    else:\n        displayHTML(\"dataframe no longer exists. If you're using dataframe.display(), use display(dataframe) instead.\")\n\n\nfinally:\n    spark.sql(\"drop view if exists DatabricksView5288a2e\")\n    display = __backend_agg_display_orig\n    del __backend_agg_display_new\n    del __backend_agg_display_orig\n    del __backend_agg_dfs\n    del __backend_agg_user_code_fn\n\n",
       "commandTitle": "Top 10 des catégories les mieux notées",
       "commandType": "auto",
       "commandVersion": 0,
       "commentThread": [],
       "commentsVisible": false,
       "contentSha256Hex": null,
       "customPlotOptions": {
        "redashChart": [
         {
          "key": "type",
          "value": "CHART"
         },
         {
          "key": "options",
          "value": {
           "alignYAxesAtZero": false,
           "coefficient": 1,
           "columnConfigurationMap": {
            "x": {
             "column": "genre",
             "id": "column_e293c995170"
            },
            "y": [
             {
              "column": "positive_ratio",
              "id": "column_e293c995172",
              "transform": "SUM"
             }
            ]
           },
           "dateTimeFormat": "DD/MM/YYYY HH:mm",
           "direction": {
            "type": "counterclockwise"
           },
           "error_y": {
            "type": "data",
            "visible": true
           },
           "globalSeriesType": "column",
           "hideXAxis": false,
           "hideYAxes": false,
           "isAggregationOn": true,
           "legend": {
            "traceorder": "normal"
           },
           "missingValuesAsZero": true,
           "numberFormat": "0.000",
           "percentFormat": "0[.]00%",
           "reverseX": false,
           "series": {
            "error_y": {
             "type": "data",
             "visible": true
            },
            "stacking": null
           },
           "seriesOptions": {
            "column_e293c995172": {
             "type": "column",
             "yAxis": 0
            }
           },
           "showDataLabels": true,
           "sizemode": "diameter",
           "sortX": false,
           "sortY": true,
           "swappedAxes": false,
           "textFormat": "",
           "useAggregationsUi": true,
           "valuesOptions": {},
           "version": 2,
           "xAxis": {
            "labels": {
             "enabled": true
            },
            "type": "-"
           },
           "yAxis": [
            {
             "rangeMax": 1,
             "rangeMin": 0.5,
             "type": "-"
            },
            {
             "opposite": true,
             "type": "-"
            }
           ]
          }
         }
        ]
       },
       "datasetPreviewNameToCmdIdMap": {},
       "diffDeletes": [],
       "diffInserts": [],
       "displayType": "redashChart",
       "error": null,
       "errorDetails": null,
       "errorSummary": null,
       "errorTraceType": null,
       "finishTime": 0,
       "globalVars": {},
       "guid": "",
       "height": "554",
       "hideCommandCode": false,
       "hideCommandResult": false,
       "iPythonMetadata": null,
       "inputWidgets": {},
       "isLockedInExamMode": false,
       "latestUser": "a user",
       "latestUserId": null,
       "listResultMetadata": null,
       "metadata": {
        "byteLimit": 2048000,
        "rowLimit": 10000
       },
       "nuid": "3dd88136-4530-411f-8850-c4add89f6679",
       "origId": 0,
       "parentHierarchy": [],
       "pivotAggregation": null,
       "pivotColumns": null,
       "position": 12.5,
       "resultDbfsErrorMessage": null,
       "resultDbfsStatus": "INLINED_IN_TREE",
       "results": null,
       "showCommandTitle": false,
       "startTime": 0,
       "state": "finished",
       "streamStates": {},
       "subcommandOptions": {
        "queryPlan": {
         "groups": [
          {
           "column": "genre",
           "type": "column"
          }
         ],
         "selects": [
          {
           "column": "genre",
           "type": "column"
          },
          {
           "alias": "column_e293c995172",
           "args": [
            {
             "column": "positive_ratio",
             "type": "column"
            }
           ],
           "function": "SUM",
           "type": "function"
          }
         ]
        }
       },
       "submitTime": 0,
       "subtype": "tableResultSubCmd.visualization",
       "tableResultIndex": 0,
       "useConsistentColors": false,
       "version": "CommandV1",
       "width": "892",
       "workflows": [],
       "xColumns": null,
       "yColumns": null
      }
     },
     "output_type": "display_data"
    }
   ],
   "source": [
    "# Filtre sur le nombre de votes >= 1.000.000\n",
    "\n",
    "df_genres_ratio = df.select('data.genre', 'data.positive', 'data.negative')\\\n",
    "    .withColumn('genre', F.explode(F.split(F.col('genre'), ', ')))\\\n",
    "    .groupBy('genre')\\\n",
    "    .agg(\n",
    "        F.sum(F.col('positive')).alias('positive'),\n",
    "        F.sum(F.col('negative')).alias('negative')\n",
    "    )\\\n",
    "    .withColumn('total_reviews', F.col('positive') + F.col('negative'))\\\n",
    "    .withColumn('positive_ratio', F.col('positive') / F.col('total_reviews'))\\\n",
    "    .filter(F.col('genre') != '')\\\n",
    "    .filter(F.col('total_reviews') >= 1000000)\\\n",
    "    .orderBy('positive_ratio', ascending=False)\\\n",
    "    .limit(10)\n",
    "\n",
    "display(df_genres_ratio)"
   ]
  },
  {
   "cell_type": "markdown",
   "metadata": {
    "application/vnd.databricks.v1+cell": {
     "cellMetadata": {
      "byteLimit": 2048000,
      "rowLimit": 10000
     },
     "inputWidgets": {},
     "nuid": "f4d5b32f-29c5-4f7f-88a8-8a4305c4d56a",
     "showTitle": false,
     "title": ""
    }
   },
   "source": [
    "> Quels sont les genres avec le meilleur ratio d'avis positif/négatif ?\n",
    "\n",
    "Les ratios d'avis positif/negatif sont assez proches les uns des autres selon les genres. Les jeux indépendants sont très légèrement en tête, suivi des jeux grand publics et des simulations. \n",
    "\n",
    "Un filtre a volontairement été appliqué pour n'afficher que les genres qui ont eu un minimum d'1 million d'avis, pour éviter d'avoir des catégories de niches avec très peu d'avis."
   ]
  },
  {
   "cell_type": "markdown",
   "metadata": {
    "application/vnd.databricks.v1+cell": {
     "cellMetadata": {
      "byteLimit": 2048000,
      "rowLimit": 10000
     },
     "inputWidgets": {},
     "nuid": "48de2e45-45f6-4c57-bd16-4f32193ba9f4",
     "showTitle": false,
     "title": ""
    }
   },
   "source": [
    "### C) Les catégories préférées des éditeurs"
   ]
  },
  {
   "cell_type": "code",
   "execution_count": 0,
   "metadata": {
    "application/vnd.databricks.v1+cell": {
     "cellMetadata": {
      "byteLimit": 2048000,
      "rowLimit": 10000
     },
     "inputWidgets": {},
     "nuid": "b719a617-df49-4081-8498-8159999114b0",
     "showTitle": false,
     "title": ""
    }
   },
   "outputs": [
    {
     "output_type": "display_data",
     "data": {
      "text/html": [
       "<style scoped>\n",
       "  .table-result-container {\n",
       "    max-height: 300px;\n",
       "    overflow: auto;\n",
       "  }\n",
       "  table, th, td {\n",
       "    border: 1px solid black;\n",
       "    border-collapse: collapse;\n",
       "  }\n",
       "  th, td {\n",
       "    padding: 5px;\n",
       "  }\n",
       "  th {\n",
       "    text-align: left;\n",
       "  }\n",
       "</style><div class='table-result-container'><table class='table-result'><thead style='background-color: white'><tr><th>publisher</th><th>genre</th><th>count</th></tr></thead><tbody><tr><td>HH-Games</td><td>Indie</td><td>69</td></tr><tr><td>Ubisoft</td><td>Racing</td><td>14</td></tr><tr><td>8floor</td><td>Strategy</td><td>22</td></tr><tr><td>HH-Games</td><td>Adventure</td><td>39</td></tr><tr><td>Choice of Games</td><td>Casual</td><td>28</td></tr><tr><td>Big Fish Games</td><td>Casual</td><td>418</td></tr><tr><td>Ubisoft</td><td>Strategy</td><td>22</td></tr><tr><td>HH-Games</td><td>Simulation</td><td>12</td></tr><tr><td>Strategy First</td><td>Simulation</td><td>25</td></tr><tr><td>Square Enix</td><td>Strategy</td><td>13</td></tr><tr><td>SEGA</td><td>Strategy</td><td>32</td></tr><tr><td>Strategy First</td><td>Racing</td><td>11</td></tr><tr><td>Choice of Games</td><td>Indie</td><td>136</td></tr><tr><td>SEGA</td><td>RPG</td><td>25</td></tr><tr><td>Sekai Project</td><td>Casual</td><td>99</td></tr><tr><td>Laush Studio</td><td>Casual</td><td>87</td></tr><tr><td>Ubisoft</td><td>Casual</td><td>11</td></tr><tr><td>Sekai Project</td><td>Simulation</td><td>24</td></tr><tr><td>Big Fish Games</td><td>Adventure</td><td>392</td></tr><tr><td>Laush Studio</td><td>Simulation</td><td>18</td></tr><tr><td>Sekai Project</td><td>Adventure</td><td>51</td></tr><tr><td>Ubisoft</td><td>Action</td><td>70</td></tr><tr><td>Sekai Project</td><td>RPG</td><td>16</td></tr><tr><td>Strategy First</td><td>Strategy</td><td>52</td></tr><tr><td>SEGA</td><td>Indie</td><td>12</td></tr><tr><td>Strategy First</td><td>Adventure</td><td>42</td></tr><tr><td>HH-Games</td><td>Action</td><td>38</td></tr><tr><td>Choice of Games</td><td>Action</td><td>13</td></tr><tr><td>Strategy First</td><td>Action</td><td>28</td></tr><tr><td>Choice of Games</td><td>Adventure</td><td>112</td></tr><tr><td>8floor</td><td>Casual</td><td>202</td></tr><tr><td>Laush Studio</td><td>Adventure</td><td>14</td></tr><tr><td>Sekai Project</td><td>Action</td><td>21</td></tr><tr><td>SEGA</td><td>Casual</td><td>13</td></tr><tr><td>8floor</td><td>Simulation</td><td>10</td></tr><tr><td>Laush Studio</td><td>Indie</td><td>124</td></tr><tr><td>HH-Games</td><td>Strategy</td><td>48</td></tr><tr><td>SEGA</td><td>Adventure</td><td>33</td></tr><tr><td>HH-Games</td><td>Casual</td><td>132</td></tr><tr><td>Ubisoft</td><td>Adventure</td><td>45</td></tr><tr><td>Laush Studio</td><td>Action</td><td>20</td></tr><tr><td>SEGA</td><td>Sports</td><td>17</td></tr><tr><td>Ubisoft</td><td>Simulation</td><td>18</td></tr><tr><td>Strategy First</td><td>Indie</td><td>33</td></tr><tr><td>Ubisoft</td><td>RPG</td><td>19</td></tr><tr><td>Strategy First</td><td>Casual</td><td>25</td></tr><tr><td>Choice of Games</td><td>RPG</td><td>139</td></tr><tr><td>SEGA</td><td>Action</td><td>80</td></tr><tr><td>Square Enix</td><td>RPG</td><td>71</td></tr><tr><td>SEGA</td><td>Simulation</td><td>17</td></tr><tr><td>Sekai Project</td><td>Indie</td><td>88</td></tr><tr><td>Square Enix</td><td>Action</td><td>75</td></tr><tr><td>Square Enix</td><td>Adventure</td><td>43</td></tr></tbody></table></div>"
      ]
     },
     "metadata": {
      "application/vnd.databricks.v1+output": {
       "addedWidgets": {},
       "aggData": [],
       "aggError": "",
       "aggOverflow": false,
       "aggSchema": [],
       "aggSeriesLimitReached": false,
       "aggType": "",
       "arguments": {},
       "columnCustomDisplayInfos": {},
       "data": [
        [
         "HH-Games",
         "Indie",
         69
        ],
        [
         "Ubisoft",
         "Racing",
         14
        ],
        [
         "8floor",
         "Strategy",
         22
        ],
        [
         "HH-Games",
         "Adventure",
         39
        ],
        [
         "Choice of Games",
         "Casual",
         28
        ],
        [
         "Big Fish Games",
         "Casual",
         418
        ],
        [
         "Ubisoft",
         "Strategy",
         22
        ],
        [
         "HH-Games",
         "Simulation",
         12
        ],
        [
         "Strategy First",
         "Simulation",
         25
        ],
        [
         "Square Enix",
         "Strategy",
         13
        ],
        [
         "SEGA",
         "Strategy",
         32
        ],
        [
         "Strategy First",
         "Racing",
         11
        ],
        [
         "Choice of Games",
         "Indie",
         136
        ],
        [
         "SEGA",
         "RPG",
         25
        ],
        [
         "Sekai Project",
         "Casual",
         99
        ],
        [
         "Laush Studio",
         "Casual",
         87
        ],
        [
         "Ubisoft",
         "Casual",
         11
        ],
        [
         "Sekai Project",
         "Simulation",
         24
        ],
        [
         "Big Fish Games",
         "Adventure",
         392
        ],
        [
         "Laush Studio",
         "Simulation",
         18
        ],
        [
         "Sekai Project",
         "Adventure",
         51
        ],
        [
         "Ubisoft",
         "Action",
         70
        ],
        [
         "Sekai Project",
         "RPG",
         16
        ],
        [
         "Strategy First",
         "Strategy",
         52
        ],
        [
         "SEGA",
         "Indie",
         12
        ],
        [
         "Strategy First",
         "Adventure",
         42
        ],
        [
         "HH-Games",
         "Action",
         38
        ],
        [
         "Choice of Games",
         "Action",
         13
        ],
        [
         "Strategy First",
         "Action",
         28
        ],
        [
         "Choice of Games",
         "Adventure",
         112
        ],
        [
         "8floor",
         "Casual",
         202
        ],
        [
         "Laush Studio",
         "Adventure",
         14
        ],
        [
         "Sekai Project",
         "Action",
         21
        ],
        [
         "SEGA",
         "Casual",
         13
        ],
        [
         "8floor",
         "Simulation",
         10
        ],
        [
         "Laush Studio",
         "Indie",
         124
        ],
        [
         "HH-Games",
         "Strategy",
         48
        ],
        [
         "SEGA",
         "Adventure",
         33
        ],
        [
         "HH-Games",
         "Casual",
         132
        ],
        [
         "Ubisoft",
         "Adventure",
         45
        ],
        [
         "Laush Studio",
         "Action",
         20
        ],
        [
         "SEGA",
         "Sports",
         17
        ],
        [
         "Ubisoft",
         "Simulation",
         18
        ],
        [
         "Strategy First",
         "Indie",
         33
        ],
        [
         "Ubisoft",
         "RPG",
         19
        ],
        [
         "Strategy First",
         "Casual",
         25
        ],
        [
         "Choice of Games",
         "RPG",
         139
        ],
        [
         "SEGA",
         "Action",
         80
        ],
        [
         "Square Enix",
         "RPG",
         71
        ],
        [
         "SEGA",
         "Simulation",
         17
        ],
        [
         "Sekai Project",
         "Indie",
         88
        ],
        [
         "Square Enix",
         "Action",
         75
        ],
        [
         "Square Enix",
         "Adventure",
         43
        ]
       ],
       "datasetInfos": [],
       "dbfsResultPath": null,
       "isJsonSchema": true,
       "metadata": {},
       "overflow": false,
       "plotOptions": {
        "customPlotOptions": {},
        "displayType": "table",
        "pivotAggregation": null,
        "pivotColumns": null,
        "xColumns": null,
        "yColumns": null
       },
       "removedWidgets": [],
       "schema": [
        {
         "metadata": "{}",
         "name": "publisher",
         "type": "\"string\""
        },
        {
         "metadata": "{}",
         "name": "genre",
         "type": "\"string\""
        },
        {
         "metadata": "{}",
         "name": "count",
         "type": "\"long\""
        }
       ],
       "type": "table"
      }
     },
     "output_type": "display_data"
    },
    {
     "output_type": "display_data",
     "data": {
      "text/plain": [
       "Databricks visualization. Run in Databricks to view."
      ]
     },
     "metadata": {
      "application/vnd.databricks.v1.subcommand+json": {
       "bindings": {},
       "collapsed": false,
       "command": "%python\n__backend_agg_display_orig = display\n__backend_agg_dfs = []\ndef __backend_agg_display_new(df):\n    __backend_agg_df_modules = [\"pandas.core.frame\", \"databricks.koalas.frame\", \"pyspark.sql.dataframe\", \"pyspark.pandas.frame\", \"pyspark.sql.connect.dataframe\"]\n    if (type(df).__module__ in __backend_agg_df_modules and type(df).__name__ == 'DataFrame') or isinstance(df, list):\n        __backend_agg_dfs.append(df)\n\ndisplay = __backend_agg_display_new\n\ndef __backend_agg_user_code_fn():\n    import base64\n    exec(base64.standard_b64decode(\"CmRmX2dlbnJlc19wdWJsaXNoZXIgPSBkZi5zZWxlY3QoJ2RhdGEucHVibGlzaGVyJywgJ2RhdGEuZ2VucmUnKVwKICAud2l0aENvbHVtbignZ2VucmUnLCBGLmV4cGxvZGUoRi5zcGxpdChGLmNvbCgnZ2VucmUnKSwgJywgJykpKVwKICAuZ3JvdXBCeSgncHVibGlzaGVyJywgJ2dlbnJlJylcCiAgLmNvdW50KClcCiAgLmZpbHRlcihGLmNvbCgncHVibGlzaGVyJykgIT0gJycpXAogIC5maWx0ZXIoRi5jb2woJ2dlbnJlJykgIT0gJycpXAogIC5vcmRlckJ5KCdjb3VudCcsIGFzY2VuZGluZz1GYWxzZSlcCgp0b3BfMTBfcHVibGlzaGVycyA9IGRmX3B1Ymxpc2hlci5zZWxlY3QoJ3B1Ymxpc2hlcicpCgpkZl9nZW5yZXNfcHVibGlzaGVyID0gZGZfZ2VucmVzX3B1Ymxpc2hlci5qb2luKHRvcF8xMF9wdWJsaXNoZXJzLCAncHVibGlzaGVyJywgJ2lubmVyJylcCiAgLmZpbHRlcihGLmNvbCgnY291bnQnKSA+PSAxMCkKCmRpc3BsYXkoZGZfZ2VucmVzX3B1Ymxpc2hlcik=\").decode())\n\ntry:\n    # run user code\n    __backend_agg_user_code_fn()\n\n    #reset display function\n    display = __backend_agg_display_orig\n\n    if len(__backend_agg_dfs) > 0:\n        # create a temp view\n        if type(__backend_agg_dfs[0]).__module__ == \"databricks.koalas.frame\":\n            # koalas dataframe\n            __backend_agg_dfs[0].to_spark().createOrReplaceTempView(\"DatabricksView9edb255\")\n        elif type(__backend_agg_dfs[0]).__module__ == \"pandas.core.frame\" or isinstance(__backend_agg_dfs[0], list):\n            # pandas dataframe\n            spark.createDataFrame(__backend_agg_dfs[0]).createOrReplaceTempView(\"DatabricksView9edb255\")\n        else:\n            __backend_agg_dfs[0].createOrReplaceTempView(\"DatabricksView9edb255\")\n        #run backend agg\n        display(spark.sql(\"\"\"WITH q AS (select * from DatabricksView9edb255) SELECT `publisher`,`genre`,SUM(`count`) `column_e293c995237` FROM q GROUP BY `genre`,`publisher`\"\"\"))\n    else:\n        displayHTML(\"dataframe no longer exists. If you're using dataframe.display(), use display(dataframe) instead.\")\n\n\nfinally:\n    spark.sql(\"drop view if exists DatabricksView9edb255\")\n    display = __backend_agg_display_orig\n    del __backend_agg_display_new\n    del __backend_agg_display_orig\n    del __backend_agg_dfs\n    del __backend_agg_user_code_fn\n\n",
       "commandTitle": "Représentativité des catégories parmi le top 10 des éditeurs",
       "commandType": "auto",
       "commandVersion": 0,
       "commentThread": [],
       "commentsVisible": false,
       "contentSha256Hex": null,
       "customPlotOptions": {
        "redashChart": [
         {
          "key": "type",
          "value": "CHART"
         },
         {
          "key": "options",
          "value": {
           "alignYAxesAtZero": true,
           "coefficient": 1,
           "columnConfigurationMap": {
            "series": {
             "column": "genre",
             "id": "column_e293c995236"
            },
            "x": {
             "column": "publisher",
             "id": "column_e293c995235"
            },
            "y": [
             {
              "column": "count",
              "id": "column_e293c995237",
              "transform": "SUM"
             }
            ]
           },
           "dateTimeFormat": "DD/MM/YYYY HH:mm",
           "direction": {
            "type": "counterclockwise"
           },
           "error_y": {
            "type": "data",
            "visible": true
           },
           "globalSeriesType": "column",
           "isAggregationOn": true,
           "legend": {
            "traceorder": "normal"
           },
           "missingValuesAsZero": true,
           "numberFormat": "0,0[.]00000",
           "percentFormat": "0[.]00%",
           "reverseX": false,
           "series": {
            "error_y": {
             "type": "data",
             "visible": true
            },
            "percentValues": true,
            "stacking": "stack"
           },
           "seriesOptions": {
            "Nudity": {
             "color": "#000000"
            },
            "Racing": {
             "color": "#604FE9"
            },
            "column_e293c995237": {
             "name": "count",
             "type": "column",
             "yAxis": 0
            }
           },
           "showDataLabels": false,
           "sizemode": "diameter",
           "sortX": false,
           "sortY": true,
           "swappedAxes": false,
           "textFormat": "",
           "useAggregationsUi": true,
           "valuesOptions": {},
           "version": 2,
           "xAxis": {
            "labels": {
             "enabled": true
            },
            "type": "-"
           },
           "yAxis": [
            {
             "type": "-"
            },
            {
             "opposite": true,
             "type": "-"
            }
           ]
          }
         }
        ]
       },
       "datasetPreviewNameToCmdIdMap": {},
       "diffDeletes": [],
       "diffInserts": [],
       "displayType": "redashChart",
       "error": null,
       "errorDetails": null,
       "errorSummary": null,
       "errorTraceType": null,
       "finishTime": 0,
       "globalVars": {},
       "guid": "",
       "height": "596",
       "hideCommandCode": false,
       "hideCommandResult": false,
       "iPythonMetadata": null,
       "inputWidgets": {},
       "isLockedInExamMode": false,
       "latestUser": "a user",
       "latestUserId": null,
       "listResultMetadata": null,
       "metadata": {
        "byteLimit": 2048000,
        "rowLimit": 10000
       },
       "nuid": "53672afd-d8d9-4197-81e5-8e159619fd42",
       "origId": 0,
       "parentHierarchy": [],
       "pivotAggregation": null,
       "pivotColumns": null,
       "position": 1.0,
       "resultDbfsErrorMessage": null,
       "resultDbfsStatus": "INLINED_IN_TREE",
       "results": null,
       "showCommandTitle": false,
       "startTime": 0,
       "state": "finished",
       "streamStates": {},
       "subcommandOptions": {
        "queryPlan": {
         "groups": [
          {
           "column": "publisher",
           "type": "column"
          },
          {
           "column": "genre",
           "type": "column"
          }
         ],
         "selects": [
          {
           "column": "publisher",
           "type": "column"
          },
          {
           "column": "genre",
           "type": "column"
          },
          {
           "alias": "column_e293c995237",
           "args": [
            {
             "column": "count",
             "type": "column"
            }
           ],
           "function": "SUM",
           "type": "function"
          }
         ]
        }
       },
       "submitTime": 0,
       "subtype": "tableResultSubCmd.visualization",
       "tableResultIndex": 0,
       "useConsistentColors": false,
       "version": "CommandV1",
       "width": "auto",
       "workflows": [],
       "xColumns": null,
       "yColumns": null
      }
     },
     "output_type": "display_data"
    }
   ],
   "source": [
    "\n",
    "df_genres_publisher = df.select('data.publisher', 'data.genre')\\\n",
    "  .withColumn('genre', F.explode(F.split(F.col('genre'), ', ')))\\\n",
    "  .groupBy('publisher', 'genre')\\\n",
    "  .count()\\\n",
    "  .filter(F.col('publisher') != '')\\\n",
    "  .filter(F.col('genre') != '')\\\n",
    "  .orderBy('count', ascending=False)\\\n",
    "\n",
    "top_10_publishers = df_publisher.select('publisher')\n",
    "\n",
    "df_genres_publisher = df_genres_publisher.join(top_10_publishers, 'publisher', 'inner')\\\n",
    "  .filter(F.col('count') >= 10)\n",
    "\n",
    "display(df_genres_publisher)"
   ]
  },
  {
   "cell_type": "markdown",
   "metadata": {
    "application/vnd.databricks.v1+cell": {
     "cellMetadata": {
      "byteLimit": 2048000,
      "rowLimit": 10000
     },
     "inputWidgets": {},
     "nuid": "55d7505b-a2fc-41ae-aac9-c572cc32b84e",
     "showTitle": false,
     "title": ""
    }
   },
   "source": [
    "> Les catégories préférées des éditeurs\n",
    "\n",
    "Les éditeurs sont plus ou moins concentrés sur des catégories. Les concurrents 8floor et Big Fish Games sont eux présents sur peu de catégories (principalement casual et aventure).\n",
    "\n",
    "Ubisoft se démarque en étant présents dans diverses catégories de jeux :\n",
    "- Action\n",
    "- Aventure\n",
    "- Stratégie\n",
    "- RPG\n",
    "- Simulation\n",
    "- Racing\n",
    "- Casual\n",
    "\n",
    "Les éditeurs qui se rapprochent le plus d'Ubisoft sont Square Enix et SEGA, probablement des concurrents de taille.\n",
    "\n",
    "Ubisoft est présent dans les catégories les plus représentées sur Steam, et n'est pas du tout présent dans les logiciels."
   ]
  },
  {
   "cell_type": "markdown",
   "metadata": {
    "application/vnd.databricks.v1+cell": {
     "cellMetadata": {
      "byteLimit": 2048000,
      "rowLimit": 10000
     },
     "inputWidgets": {},
     "nuid": "909c2c24-dc3f-411f-ba42-498834e5ac4e",
     "showTitle": false,
     "title": ""
    }
   },
   "source": [
    "### D) Les catégories les plus rentables"
   ]
  },
  {
   "cell_type": "code",
   "execution_count": 0,
   "metadata": {
    "application/vnd.databricks.v1+cell": {
     "cellMetadata": {
      "byteLimit": 2048000,
      "rowLimit": 10000
     },
     "inputWidgets": {},
     "nuid": "1fb508c9-9ec5-4f7c-977f-0bee2195e4ea",
     "showTitle": false,
     "title": ""
    }
   },
   "outputs": [
    {
     "output_type": "display_data",
     "data": {
      "text/html": [
       "<style scoped>\n",
       "  .table-result-container {\n",
       "    max-height: 300px;\n",
       "    overflow: auto;\n",
       "  }\n",
       "  table, th, td {\n",
       "    border: 1px solid black;\n",
       "    border-collapse: collapse;\n",
       "  }\n",
       "  th, td {\n",
       "    padding: 5px;\n",
       "  }\n",
       "  th {\n",
       "    text-align: left;\n",
       "  }\n",
       "</style><div class='table-result-container'><table class='table-result'><thead style='background-color: white'><tr><th>genre</th><th>count</th><th>sales</th><th>average_owners</th></tr></thead><tbody><tr><td>Action</td><td>23759</td><td>5.8769775E10</td><td>4.77781E9</td></tr><tr><td>Adventure</td><td>21431</td><td>3.726015E10</td><td>2.65988E9</td></tr><tr><td>Indie</td><td>39681</td><td>3.2358145E10</td><td>3.18869E9</td></tr><tr><td>RPG</td><td>9534</td><td>2.7178705E10</td><td>1.746625E9</td></tr><tr><td>Strategy</td><td>10895</td><td>2.015419E10</td><td>1.636135E9</td></tr><tr><td>Simulation</td><td>10836</td><td>1.877436E10</td><td>1.3336E9</td></tr><tr><td>Casual</td><td>22086</td><td>8.09035E9</td><td>1.283345E9</td></tr><tr><td>Massively Multiplayer</td><td>1460</td><td>5.932245E9</td><td>9.6533E8</td></tr><tr><td>Early Access</td><td>6145</td><td>5.46148E9</td><td>4.3593E8</td></tr><tr><td>Sports</td><td>2666</td><td>3.150745E9</td><td>3.2007E8</td></tr></tbody></table></div>"
      ]
     },
     "metadata": {
      "application/vnd.databricks.v1+output": {
       "addedWidgets": {},
       "aggData": [],
       "aggError": "",
       "aggOverflow": false,
       "aggSchema": [],
       "aggSeriesLimitReached": false,
       "aggType": "",
       "arguments": {},
       "columnCustomDisplayInfos": {},
       "data": [
        [
         "Action",
         23759,
         5.8769775E10,
         4.77781E9
        ],
        [
         "Adventure",
         21431,
         3.726015E10,
         2.65988E9
        ],
        [
         "Indie",
         39681,
         3.2358145E10,
         3.18869E9
        ],
        [
         "RPG",
         9534,
         2.7178705E10,
         1.746625E9
        ],
        [
         "Strategy",
         10895,
         2.015419E10,
         1.636135E9
        ],
        [
         "Simulation",
         10836,
         1.877436E10,
         1.3336E9
        ],
        [
         "Casual",
         22086,
         8.09035E9,
         1.283345E9
        ],
        [
         "Massively Multiplayer",
         1460,
         5.932245E9,
         9.6533E8
        ],
        [
         "Early Access",
         6145,
         5.46148E9,
         4.3593E8
        ],
        [
         "Sports",
         2666,
         3.150745E9,
         3.2007E8
        ]
       ],
       "datasetInfos": [],
       "dbfsResultPath": null,
       "isJsonSchema": true,
       "metadata": {},
       "overflow": false,
       "plotOptions": {
        "customPlotOptions": {},
        "displayType": "table",
        "pivotAggregation": null,
        "pivotColumns": null,
        "xColumns": null,
        "yColumns": null
       },
       "removedWidgets": [],
       "schema": [
        {
         "metadata": "{}",
         "name": "genre",
         "type": "\"string\""
        },
        {
         "metadata": "{}",
         "name": "count",
         "type": "\"long\""
        },
        {
         "metadata": "{}",
         "name": "sales",
         "type": "\"double\""
        },
        {
         "metadata": "{}",
         "name": "average_owners",
         "type": "\"double\""
        }
       ],
       "type": "table"
      }
     },
     "output_type": "display_data"
    },
    {
     "output_type": "display_data",
     "data": {
      "text/plain": [
       "Databricks visualization. Run in Databricks to view."
      ]
     },
     "metadata": {
      "application/vnd.databricks.v1.subcommand+json": {
       "bindings": {},
       "collapsed": false,
       "command": "%python\n__backend_agg_display_orig = display\n__backend_agg_dfs = []\ndef __backend_agg_display_new(df):\n    __backend_agg_df_modules = [\"pandas.core.frame\", \"databricks.koalas.frame\", \"pyspark.sql.dataframe\", \"pyspark.pandas.frame\", \"pyspark.sql.connect.dataframe\"]\n    if (type(df).__module__ in __backend_agg_df_modules and type(df).__name__ == 'DataFrame') or isinstance(df, list):\n        __backend_agg_dfs.append(df)\n\ndisplay = __backend_agg_display_new\n\ndef __backend_agg_user_code_fn():\n    import base64\n    exec(base64.standard_b64decode(\"ZGZfcHJvZml0ID0gZGYuc2VsZWN0KCdkYXRhLmdlbnJlJywgJ2RhdGEucHJpY2UnLCAnZGF0YS5vd25lcnMnKVwKICAgIC53aXRoQ29sdW1uKCdnZW5yZScsIEYuZXhwbG9kZShGLnNwbGl0KEYuY29sKCdnZW5yZScpLCAnLCAnKSkpXAogICAgLndpdGhDb2x1bW4oJ3ByaWNlJywgRi5yb3VuZChGLmNvbCgncHJpY2UnKS8xMDApKVwKICAgIC53aXRoQ29sdW1uKCdsb3dlcicsIEYudHJpbShGLnJlZ2V4cF9yZXBsYWNlKEYuc3BsaXQoRi5jb2woJ293bmVycycpLCAnXC5cLicpWzBdLCAnLCcsICcnKSkpXAogICAgLndpdGhDb2x1bW4oJ3VwcGVyJywgRi50cmltKEYucmVnZXhwX3JlcGxhY2UoRi5zcGxpdChGLmNvbCgnb3duZXJzJyksICdcLlwuJylbMV0sICcsJywgJycpKSlcCiAgICAud2l0aENvbHVtbignYXZlcmFnZV9vd25lcnMnLCAoRi5jb2woJ2xvd2VyJykgKyBGLmNvbCgndXBwZXInKSkgLyAyKVwKICAgIC53aXRoQ29sdW1uKCdzYWxlcycsIEYuY29sKCdhdmVyYWdlX293bmVycycpICogRi5jb2woJ3ByaWNlJykpXAogICAgLmdyb3VwQnkoJ2dlbnJlJylcCiAgICAuYWdnKAogICAgICAgIEYuc3VtKEYuY29sKCdzYWxlcycpKS5hbGlhcygnc2FsZXMnKSwKICAgICAgICBGLnN1bShGLmNvbCgnYXZlcmFnZV9vd25lcnMnKSkuYWxpYXMoJ2F2ZXJhZ2Vfb3duZXJzJykKICAgIClcCiAgICAub3JkZXJCeSgnc2FsZXMnLCBhc2NlbmRpbmc9RmFsc2UpXAogICAgLmxpbWl0KDEwKQoKZGlzcGxheShkZl9wcm9maXQp\").decode())\n\ntry:\n    # run user code\n    __backend_agg_user_code_fn()\n\n    #reset display function\n    display = __backend_agg_display_orig\n\n    if len(__backend_agg_dfs) > 0:\n        # create a temp view\n        if type(__backend_agg_dfs[0]).__module__ == \"databricks.koalas.frame\":\n            # koalas dataframe\n            __backend_agg_dfs[0].to_spark().createOrReplaceTempView(\"DatabricksView18a9372\")\n        elif type(__backend_agg_dfs[0]).__module__ == \"pandas.core.frame\" or isinstance(__backend_agg_dfs[0], list):\n            # pandas dataframe\n            spark.createDataFrame(__backend_agg_dfs[0]).createOrReplaceTempView(\"DatabricksView18a9372\")\n        else:\n            __backend_agg_dfs[0].createOrReplaceTempView(\"DatabricksView18a9372\")\n        #run backend agg\n        display(spark.sql(\"\"\"WITH q AS (select * from DatabricksView18a9372) SELECT `genre`,SUM(`sales`) `column_ad691244214` FROM q GROUP BY `genre`\"\"\"))\n    else:\n        displayHTML(\"dataframe no longer exists. If you're using dataframe.display(), use display(dataframe) instead.\")\n\n\nfinally:\n    spark.sql(\"drop view if exists DatabricksView18a9372\")\n    display = __backend_agg_display_orig\n    del __backend_agg_display_new\n    del __backend_agg_display_orig\n    del __backend_agg_dfs\n    del __backend_agg_user_code_fn\n\n",
       "commandTitle": "Top 10 des catégories les plus rentables (par M $)",
       "commandType": "auto",
       "commandVersion": 0,
       "commentThread": [],
       "commentsVisible": false,
       "contentSha256Hex": null,
       "customPlotOptions": {
        "redashChart": [
         {
          "key": "type",
          "value": "CHART"
         },
         {
          "key": "options",
          "value": {
           "alignYAxesAtZero": true,
           "coefficient": 1,
           "columnConfigurationMap": {
            "x": {
             "column": "genre",
             "id": "column_ad691244213"
            },
            "y": [
             {
              "column": "sales",
              "id": "column_ad691244214",
              "transform": "SUM"
             }
            ]
           },
           "dateTimeFormat": "DD/MM/YYYY HH:mm",
           "direction": {
            "type": "counterclockwise"
           },
           "error_y": {
            "type": "data",
            "visible": true
           },
           "globalSeriesType": "column",
           "isAggregationOn": true,
           "legend": {
            "traceorder": "normal"
           },
           "missingValuesAsZero": true,
           "numberFormat": "'0.0 a'",
           "percentFormat": "0[.]00%",
           "series": {
            "error_y": {
             "type": "data",
             "visible": true
            },
            "stacking": null
           },
           "seriesOptions": {
            "column_ad691244214": {
             "name": "sales",
             "yAxis": 0
            }
           },
           "showDataLabels": true,
           "sizemode": "diameter",
           "sortX": false,
           "sortY": true,
           "swappedAxes": false,
           "textFormat": "",
           "useAggregationsUi": true,
           "valuesOptions": {},
           "version": 2,
           "xAxis": {
            "labels": {
             "enabled": true
            },
            "type": "-"
           },
           "yAxis": [
            {
             "type": "-"
            },
            {
             "opposite": true,
             "type": "-"
            }
           ]
          }
         }
        ]
       },
       "datasetPreviewNameToCmdIdMap": {},
       "diffDeletes": [],
       "diffInserts": [],
       "displayType": "redashChart",
       "error": null,
       "errorDetails": null,
       "errorSummary": null,
       "errorTraceType": null,
       "finishTime": 0,
       "globalVars": {},
       "guid": "",
       "height": "632",
       "hideCommandCode": false,
       "hideCommandResult": false,
       "iPythonMetadata": null,
       "inputWidgets": {},
       "isLockedInExamMode": false,
       "latestUser": "a user",
       "latestUserId": null,
       "listResultMetadata": null,
       "metadata": {
        "byteLimit": 2048000,
        "rowLimit": 10000
       },
       "nuid": "f152c221-053d-48d2-85a5-e8f92c1d631c",
       "origId": 0,
       "parentHierarchy": [],
       "pivotAggregation": null,
       "pivotColumns": null,
       "position": 14.5,
       "resultDbfsErrorMessage": null,
       "resultDbfsStatus": "INLINED_IN_TREE",
       "results": null,
       "showCommandTitle": false,
       "startTime": 0,
       "state": "input",
       "streamStates": {},
       "subcommandOptions": {
        "queryPlan": {
         "groups": [
          {
           "column": "genre",
           "type": "column"
          }
         ],
         "selects": [
          {
           "column": "genre",
           "type": "column"
          },
          {
           "alias": "column_ad691244214",
           "args": [
            {
             "column": "sales",
             "type": "column"
            }
           ],
           "function": "SUM",
           "type": "function"
          }
         ]
        }
       },
       "submitTime": 0,
       "subtype": "tableResultSubCmd.visualization",
       "tableResultIndex": 0,
       "useConsistentColors": false,
       "version": "CommandV1",
       "width": "1138",
       "workflows": [],
       "xColumns": null,
       "yColumns": null
      }
     },
     "output_type": "display_data"
    }
   ],
   "source": [
    "df_profit = df.select('data.genre', 'data.price', 'data.owners')\\\n",
    "    .withColumn('genre', F.explode(F.split(F.col('genre'), ', ')))\\\n",
    "    .withColumn('price', F.round(F.col('price')/100))\\\n",
    "    .withColumn('lower', F.trim(F.regexp_replace(F.split(F.col('owners'), '\\.\\.')[0], ',', '')))\\\n",
    "    .withColumn('upper', F.trim(F.regexp_replace(F.split(F.col('owners'), '\\.\\.')[1], ',', '')))\\\n",
    "    .withColumn('average_owners', (F.col('lower') + F.col('upper')) / 2)\\\n",
    "    .withColumn('sales', F.col('average_owners') * F.col('price'))\\\n",
    "    .groupBy('genre')\\\n",
    "    .agg(\n",
    "        F.count(F.col('sales')).alias('count'),\n",
    "        F.sum(F.col('sales')).alias('sales'),\n",
    "        F.sum(F.col('average_owners')).alias('average_owners')\n",
    "    )\\\n",
    "    .orderBy('sales', ascending=False)\\\n",
    "    .limit(10)\n",
    "\n",
    "display(df_profit)"
   ]
  },
  {
   "cell_type": "markdown",
   "metadata": {
    "application/vnd.databricks.v1+cell": {
     "cellMetadata": {
      "byteLimit": 2048000,
      "rowLimit": 10000
     },
     "inputWidgets": {},
     "nuid": "04d390ea-3609-46da-9e0e-c6ff9c7f1aaf",
     "showTitle": false,
     "title": ""
    }
   },
   "source": [
    "> Les catégories les plus rentables\n",
    "\n",
    "En réalité nous ne pouvons pas nous attarder sur la rentabilité (car nous ne connaissons pas les dépenses, ni le chiffre d'affaires exact). Cependant nous allons nous baser sur un produit entre le prix, et le nombre moyen de personne possédant le jeu.\n",
    "\n",
    "En explorant les données des ventes de jeux par catégorie, certaines tendances émergent. Voici quelques points intéressants :\n",
    "\n",
    "- Action domine en termes de ventes totales, surpassant toutes les autres catégories avec un chiffre impressionnant de 58 M. Cela pourrait également être dû à une base d'utilisateurs plus importante.\n",
    "\n",
    "- Adventure, Indie et RPG suivent de près, démontrant une rentabilité notable avec respectivement 37 M , 32 M et 27M en ventes totales.\n",
    "\n",
    "- Strategy et Simulation, bien que légèrement inférieures en ventes totales, mettent tout de même en lumière une base d'utilisateurs fidèles et engagés.\n",
    "\n",
    "Cette analyse permet d'identifier des nuances dans la rentabilité des catégories de jeux, offrant des insights pour les éditeurs et développeurs souhaitant maximiser leur impact financier sur la plateforme."
   ]
  },
  {
   "cell_type": "markdown",
   "metadata": {
    "application/vnd.databricks.v1+cell": {
     "cellMetadata": {
      "byteLimit": 2048000,
      "rowLimit": 10000
     },
     "inputWidgets": {},
     "nuid": "846240b0-78cc-4a49-b12c-1c7b76d7bbef",
     "showTitle": false,
     "title": ""
    }
   },
   "source": [
    "## PARTIE 3 : ANALYSE PAR PLATEFORME"
   ]
  },
  {
   "cell_type": "markdown",
   "metadata": {
    "application/vnd.databricks.v1+cell": {
     "cellMetadata": {
      "byteLimit": 2048000,
      "rowLimit": 10000
     },
     "inputWidgets": {},
     "nuid": "52b4097e-99ce-4d1c-8312-b5b40cbcab52",
     "showTitle": false,
     "title": ""
    }
   },
   "source": [
    "### A) Les disponibilités des jeux selon les systèmes d'exploitation"
   ]
  },
  {
   "cell_type": "code",
   "execution_count": 0,
   "metadata": {
    "application/vnd.databricks.v1+cell": {
     "cellMetadata": {
      "byteLimit": 2048000,
      "rowLimit": 10000
     },
     "inputWidgets": {},
     "nuid": "da8d8ce8-3a20-409a-8be9-c8cb6f4a4f73",
     "showTitle": false,
     "title": ""
    }
   },
   "outputs": [
    {
     "output_type": "display_data",
     "data": {
      "text/html": [
       "<style scoped>\n",
       "  .table-result-container {\n",
       "    max-height: 300px;\n",
       "    overflow: auto;\n",
       "  }\n",
       "  table, th, td {\n",
       "    border: 1px solid black;\n",
       "    border-collapse: collapse;\n",
       "  }\n",
       "  th, td {\n",
       "    padding: 5px;\n",
       "  }\n",
       "  th {\n",
       "    text-align: left;\n",
       "  }\n",
       "</style><div class='table-result-container'><table class='table-result'><thead style='background-color: white'><tr><th>platform</th><th>sum</th><th>ratio</th></tr></thead><tbody><tr><td>linux</td><td>8458</td><td>0.15187373184176978</td></tr><tr><td>mac</td><td>12770</td><td>0.22930096424916055</td></tr><tr><td>windows</td><td>55676</td><td>0.9997306566590652</td></tr></tbody></table></div>"
      ]
     },
     "metadata": {
      "application/vnd.databricks.v1+output": {
       "addedWidgets": {},
       "aggData": [],
       "aggError": "",
       "aggOverflow": false,
       "aggSchema": [],
       "aggSeriesLimitReached": false,
       "aggType": "",
       "arguments": {},
       "columnCustomDisplayInfos": {},
       "data": [
        [
         "linux",
         8458,
         0.15187373184176978
        ],
        [
         "mac",
         12770,
         0.22930096424916055
        ],
        [
         "windows",
         55676,
         0.9997306566590652
        ]
       ],
       "datasetInfos": [],
       "dbfsResultPath": null,
       "isJsonSchema": true,
       "metadata": {},
       "overflow": false,
       "plotOptions": {
        "customPlotOptions": {},
        "displayType": "table",
        "pivotAggregation": null,
        "pivotColumns": null,
        "xColumns": null,
        "yColumns": null
       },
       "removedWidgets": [],
       "schema": [
        {
         "metadata": "{}",
         "name": "platform",
         "type": "\"string\""
        },
        {
         "metadata": "{}",
         "name": "sum",
         "type": "\"long\""
        },
        {
         "metadata": "{}",
         "name": "ratio",
         "type": "\"double\""
        }
       ],
       "type": "table"
      }
     },
     "output_type": "display_data"
    },
    {
     "output_type": "display_data",
     "data": {
      "text/plain": [
       "Databricks visualization. Run in Databricks to view."
      ]
     },
     "metadata": {
      "application/vnd.databricks.v1.subcommand+json": {
       "bindings": {},
       "collapsed": false,
       "command": "%python\n__backend_agg_display_orig = display\n__backend_agg_dfs = []\ndef __backend_agg_display_new(df):\n    __backend_agg_df_modules = [\"pandas.core.frame\", \"databricks.koalas.frame\", \"pyspark.sql.dataframe\", \"pyspark.pandas.frame\", \"pyspark.sql.connect.dataframe\"]\n    if (type(df).__module__ in __backend_agg_df_modules and type(df).__name__ == 'DataFrame') or isinstance(df, list):\n        __backend_agg_dfs.append(df)\n\ndisplay = __backend_agg_display_new\n\ndef __backend_agg_user_code_fn():\n    import base64\n    exec(base64.standard_b64decode(\"ZGZfcGxhdGZvcm1zID0gZGYuc2VsZWN0KCJkYXRhLnBsYXRmb3Jtcy5saW51eCIsICJkYXRhLnBsYXRmb3Jtcy5tYWMiLCAiZGF0YS5wbGF0Zm9ybXMud2luZG93cyIpXAogICAgLndpdGhDb2x1bW4oImxpbnV4IiwgRi5jb2woImxpbnV4IikuY2FzdCgiaW50IikpXAogICAgLndpdGhDb2x1bW4oIm1hYyIsIEYuY29sKCJtYWMiKS5jYXN0KCJpbnQiKSlcCiAgICAud2l0aENvbHVtbigid2luZG93cyIsIEYuY29sKCJ3aW5kb3dzIikuY2FzdCgiaW50IikpXAogICAgLmFnZygKICAgICAgICBGLnN1bSgibGludXgiKS5hbGlhcygibGludXhfc3VtIiksCiAgICAgICAgRi5zdW0oIm1hYyIpLmFsaWFzKCJtYWNfc3VtIiksCiAgICAgICAgRi5zdW0oIndpbmRvd3MiKS5hbGlhcygid2luZG93c19zdW0iKSlcCiAgICAuc2VsZWN0RXhwcigKICAgICAgICAic3RhY2soMywgJ2xpbnV4JywgbGludXhfc3VtLCAnbWFjJywgbWFjX3N1bSwgJ3dpbmRvd3MnLCB3aW5kb3dzX3N1bSkgYXMgKHBsYXRmb3JtLCBzdW0pIgogICAgKVwKICAgIC53aXRoQ29sdW1uKCJyYXRpbyIsIEYuY29sKCJzdW0iKSAvIGRmX2NvdW50KVwKICAgIApkaXNwbGF5KGRmX3BsYXRmb3Jtcyk=\").decode())\n\ntry:\n    # run user code\n    __backend_agg_user_code_fn()\n\n    #reset display function\n    display = __backend_agg_display_orig\n\n    if len(__backend_agg_dfs) > 0:\n        # create a temp view\n        if type(__backend_agg_dfs[0]).__module__ == \"databricks.koalas.frame\":\n            # koalas dataframe\n            __backend_agg_dfs[0].to_spark().createOrReplaceTempView(\"DatabricksViewf0539e8\")\n        elif type(__backend_agg_dfs[0]).__module__ == \"pandas.core.frame\" or isinstance(__backend_agg_dfs[0], list):\n            # pandas dataframe\n            spark.createDataFrame(__backend_agg_dfs[0]).createOrReplaceTempView(\"DatabricksViewf0539e8\")\n        else:\n            __backend_agg_dfs[0].createOrReplaceTempView(\"DatabricksViewf0539e8\")\n        #run backend agg\n        display(spark.sql(\"\"\"WITH q AS (select * from DatabricksViewf0539e8) SELECT `platform`,SUM(`ratio`) `column_ae46c75073` FROM q GROUP BY `platform`\"\"\"))\n    else:\n        displayHTML(\"dataframe no longer exists. If you're using dataframe.display(), use display(dataframe) instead.\")\n\n\nfinally:\n    spark.sql(\"drop view if exists DatabricksViewf0539e8\")\n    display = __backend_agg_display_orig\n    del __backend_agg_display_new\n    del __backend_agg_display_orig\n    del __backend_agg_dfs\n    del __backend_agg_user_code_fn\n\n",
       "commandTitle": "Disponibilité des jeux par système d'exploitation",
       "commandType": "auto",
       "commandVersion": 0,
       "commentThread": [],
       "commentsVisible": false,
       "contentSha256Hex": null,
       "customPlotOptions": {
        "redashChart": [
         {
          "key": "type",
          "value": "CHART"
         },
         {
          "key": "options",
          "value": {
           "alignYAxesAtZero": true,
           "coefficient": 1,
           "columnConfigurationMap": {
            "x": {
             "column": "platform",
             "id": "column_ae46c75075"
            },
            "y": [
             {
              "column": "ratio",
              "id": "column_ae46c75073",
              "transform": "SUM"
             }
            ]
           },
           "dateTimeFormat": "DD/MM/YYYY HH:mm",
           "direction": {
            "type": "counterclockwise"
           },
           "error_y": {
            "type": "data",
            "visible": true
           },
           "globalSeriesType": "column",
           "hideXAxis": false,
           "isAggregationOn": true,
           "legend": {
            "traceorder": "normal"
           },
           "missingValuesAsZero": true,
           "numberFormat": "0,0[.]0000",
           "percentFormat": "0[.]00%",
           "reverseX": true,
           "series": {
            "error_y": {
             "type": "data",
             "visible": true
            },
            "stacking": null
           },
           "seriesOptions": {
            "column_ae46c75073": {
             "name": "ratio",
             "type": "column",
             "yAxis": 0
            }
           },
           "showDataLabels": true,
           "sizemode": "diameter",
           "sortX": true,
           "sortY": true,
           "swappedAxes": true,
           "textFormat": "",
           "useAggregationsUi": true,
           "valuesOptions": {},
           "version": 2,
           "xAxis": {
            "labels": {
             "enabled": true
            },
            "type": "-"
           },
           "yAxis": [
            {
             "type": "-"
            },
            {
             "opposite": true,
             "type": "-"
            }
           ]
          }
         }
        ]
       },
       "datasetPreviewNameToCmdIdMap": {},
       "diffDeletes": [],
       "diffInserts": [],
       "displayType": "redashChart",
       "error": null,
       "errorDetails": null,
       "errorSummary": null,
       "errorTraceType": null,
       "finishTime": 0,
       "globalVars": {},
       "guid": "",
       "height": "auto",
       "hideCommandCode": false,
       "hideCommandResult": false,
       "iPythonMetadata": null,
       "inputWidgets": {},
       "isLockedInExamMode": false,
       "latestUser": "a user",
       "latestUserId": null,
       "listResultMetadata": null,
       "metadata": {
        "byteLimit": 2048000,
        "rowLimit": 10000
       },
       "nuid": "0b4deaaa-1098-4c10-b706-481496cf1fda",
       "origId": 0,
       "parentHierarchy": [],
       "pivotAggregation": null,
       "pivotColumns": null,
       "position": 17.390625,
       "resultDbfsErrorMessage": null,
       "resultDbfsStatus": "INLINED_IN_TREE",
       "results": null,
       "showCommandTitle": false,
       "startTime": 0,
       "state": "finished",
       "streamStates": {},
       "subcommandOptions": {
        "queryPlan": {
         "groups": [
          {
           "column": "platform",
           "type": "column"
          }
         ],
         "selects": [
          {
           "column": "platform",
           "type": "column"
          },
          {
           "alias": "column_ae46c75073",
           "args": [
            {
             "column": "ratio",
             "type": "column"
            }
           ],
           "function": "SUM",
           "type": "function"
          }
         ]
        }
       },
       "submitTime": 0,
       "subtype": "tableResultSubCmd.visualization",
       "tableResultIndex": 0,
       "useConsistentColors": false,
       "version": "CommandV1",
       "width": "auto",
       "workflows": [],
       "xColumns": null,
       "yColumns": null
      }
     },
     "output_type": "display_data"
    }
   ],
   "source": [
    "df_platforms = df.select(\"data.platforms.linux\", \"data.platforms.mac\", \"data.platforms.windows\")\\\n",
    "    .withColumn(\"linux\", F.col(\"linux\").cast(\"int\"))\\\n",
    "    .withColumn(\"mac\", F.col(\"mac\").cast(\"int\"))\\\n",
    "    .withColumn(\"windows\", F.col(\"windows\").cast(\"int\"))\\\n",
    "    .agg(\n",
    "        F.sum(\"linux\").alias(\"linux_sum\"),\n",
    "        F.sum(\"mac\").alias(\"mac_sum\"),\n",
    "        F.sum(\"windows\").alias(\"windows_sum\"))\\\n",
    "    .selectExpr(\n",
    "        \"stack(3, 'linux', linux_sum, 'mac', mac_sum, 'windows', windows_sum) as (platform, sum)\"\n",
    "    )\\\n",
    "    .withColumn(\"ratio\", F.col(\"sum\") / df_count)\\\n",
    "    \n",
    "display(df_platforms)"
   ]
  },
  {
   "cell_type": "markdown",
   "metadata": {
    "application/vnd.databricks.v1+cell": {
     "cellMetadata": {
      "byteLimit": 2048000,
      "rowLimit": 10000
     },
     "inputWidgets": {},
     "nuid": "51ebb25f-ba3a-4943-9a1d-66199fe38c49",
     "showTitle": false,
     "title": ""
    }
   },
   "source": [
    "> Les disponibilités des jeux selon les systèmes d'exploitation\n",
    "\n",
    "Steam, principalement conçu pour Windows, assure une compatibilité quasiment complète avec le système de Microsoft, permettant ainsi de jouer à presque 100% des jeux disponibles (et également d'utilisation des logiciels)\n",
    "\n",
    "Malheureusement, la représentation des compatibilités avec Mac et Linux est nettement moindre, se situant respectivement à 23% et 15%."
   ]
  },
  {
   "cell_type": "markdown",
   "metadata": {
    "application/vnd.databricks.v1+cell": {
     "cellMetadata": {
      "byteLimit": 2048000,
      "rowLimit": 10000
     },
     "inputWidgets": {},
     "nuid": "9f03625e-d267-4090-9274-26c34e249aac",
     "showTitle": false,
     "title": ""
    }
   },
   "source": [
    "### B) L'influence des catégories sur le choix des plateformes"
   ]
  },
  {
   "cell_type": "code",
   "execution_count": 0,
   "metadata": {
    "application/vnd.databricks.v1+cell": {
     "cellMetadata": {
      "byteLimit": 2048000,
      "rowLimit": 10000
     },
     "inputWidgets": {},
     "nuid": "f3e40c9e-d796-41f9-8c4e-990d00f98dae",
     "showTitle": false,
     "title": ""
    }
   },
   "outputs": [],
   "source": [
    "df_platforms_categories = df.select('data.genre', 'data.platforms.linux', 'data.platforms.mac', 'data.platforms.windows')\\\n",
    "  .withColumn('genre', F.explode(F.split(F.col('genre'), ', ')))\\\n",
    "  .filter(~(F.col(\"genre\").contains(\"Movie\") | (F.col(\"genre\") == \"\")))\\\n",
    "  .withColumn(\"linux\", F.col(\"linux\").cast(\"int\"))\\\n",
    "  .withColumn(\"mac\", F.col(\"mac\").cast(\"int\"))\\\n",
    "  .withColumn(\"windows\", F.col(\"windows\").cast(\"int\"))\\\n",
    "  .groupBy('genre')\\\n",
    "  .agg(\n",
    "    (F.sum(\"linux\") / F.count(\"linux\")).alias('linux_ratio'),\n",
    "    (F.sum(\"mac\") / F.count(\"mac\")).alias(\"mac_ratio\"),\n",
    "    (F.sum(\"windows\") / F.count(\"windows\")).alias(\"windows_ratio\"))"
   ]
  },
  {
   "cell_type": "code",
   "execution_count": 0,
   "metadata": {
    "application/vnd.databricks.v1+cell": {
     "cellMetadata": {
      "byteLimit": 2048000,
      "rowLimit": 10000
     },
     "inputWidgets": {},
     "nuid": "23a84130-adb5-4fc5-8892-84bded6645dc",
     "showTitle": false,
     "title": ""
    }
   },
   "outputs": [
    {
     "output_type": "display_data",
     "data": {
      "text/html": [
       "<style scoped>\n",
       "  .table-result-container {\n",
       "    max-height: 300px;\n",
       "    overflow: auto;\n",
       "  }\n",
       "  table, th, td {\n",
       "    border: 1px solid black;\n",
       "    border-collapse: collapse;\n",
       "  }\n",
       "  th, td {\n",
       "    padding: 5px;\n",
       "  }\n",
       "  th {\n",
       "    text-align: left;\n",
       "  }\n",
       "</style><div class='table-result-container'><table class='table-result'><thead style='background-color: white'><tr><th>genre</th><th>linux_ratio</th></tr></thead><tbody><tr><td>Game Development</td><td>0.22012578616352202</td></tr><tr><td>Indie</td><td>0.17585242307401527</td></tr><tr><td>Strategy</td><td>0.16759981642955485</td></tr><tr><td>RPG</td><td>0.15984896161107615</td></tr><tr><td>Nudity</td><td>0.15555555555555556</td></tr><tr><td>Adventure</td><td>0.15407587140124118</td></tr><tr><td>Casual</td><td>0.14964230734401884</td></tr><tr><td>Action</td><td>0.14221979039521865</td></tr><tr><td>Gore</td><td>0.1414141414141414</td></tr><tr><td>Simulation</td><td>0.14138058324104835</td></tr><tr><td>Racing</td><td>0.14106728538283062</td></tr><tr><td>Free to Play</td><td>0.13969938107869143</td></tr><tr><td>Design & Illustration</td><td>0.1330049261083744</td></tr><tr><td>Violent</td><td>0.13095238095238096</td></tr><tr><td>Sexual Content</td><td>0.12962962962962962</td></tr><tr><td>Animation & Modeling</td><td>0.11801242236024845</td></tr><tr><td>Massively Multiplayer</td><td>0.11232876712328767</td></tr><tr><td>Sports</td><td>0.10765191297824456</td></tr><tr><td>Early Access</td><td>0.10284784377542718</td></tr><tr><td>Web Publishing</td><td>0.0898876404494382</td></tr><tr><td>Software Training</td><td>0.07317073170731707</td></tr><tr><td>Utilities</td><td>0.0718475073313783</td></tr><tr><td>Education</td><td>0.05993690851735016</td></tr><tr><td>Photo Editing</td><td>0.0380952380952381</td></tr><tr><td>Audio Production</td><td>0.035897435897435895</td></tr><tr><td>Video Production</td><td>0.024291497975708502</td></tr><tr><td>Accounting</td><td>0.0</td></tr></tbody></table></div>"
      ]
     },
     "metadata": {
      "application/vnd.databricks.v1+output": {
       "addedWidgets": {},
       "aggData": [],
       "aggError": "",
       "aggOverflow": false,
       "aggSchema": [],
       "aggSeriesLimitReached": false,
       "aggType": "",
       "arguments": {},
       "columnCustomDisplayInfos": {},
       "data": [
        [
         "Game Development",
         0.22012578616352202
        ],
        [
         "Indie",
         0.17585242307401527
        ],
        [
         "Strategy",
         0.16759981642955485
        ],
        [
         "RPG",
         0.15984896161107615
        ],
        [
         "Nudity",
         0.15555555555555556
        ],
        [
         "Adventure",
         0.15407587140124118
        ],
        [
         "Casual",
         0.14964230734401884
        ],
        [
         "Action",
         0.14221979039521865
        ],
        [
         "Gore",
         0.1414141414141414
        ],
        [
         "Simulation",
         0.14138058324104835
        ],
        [
         "Racing",
         0.14106728538283062
        ],
        [
         "Free to Play",
         0.13969938107869143
        ],
        [
         "Design & Illustration",
         0.1330049261083744
        ],
        [
         "Violent",
         0.13095238095238096
        ],
        [
         "Sexual Content",
         0.12962962962962962
        ],
        [
         "Animation & Modeling",
         0.11801242236024845
        ],
        [
         "Massively Multiplayer",
         0.11232876712328767
        ],
        [
         "Sports",
         0.10765191297824456
        ],
        [
         "Early Access",
         0.10284784377542718
        ],
        [
         "Web Publishing",
         0.0898876404494382
        ],
        [
         "Software Training",
         0.07317073170731707
        ],
        [
         "Utilities",
         0.0718475073313783
        ],
        [
         "Education",
         0.05993690851735016
        ],
        [
         "Photo Editing",
         0.0380952380952381
        ],
        [
         "Audio Production",
         0.035897435897435895
        ],
        [
         "Video Production",
         0.024291497975708502
        ],
        [
         "Accounting",
         0.0
        ]
       ],
       "datasetInfos": [],
       "dbfsResultPath": null,
       "isJsonSchema": true,
       "metadata": {},
       "overflow": false,
       "plotOptions": {
        "customPlotOptions": {},
        "displayType": "table",
        "pivotAggregation": null,
        "pivotColumns": null,
        "xColumns": null,
        "yColumns": null
       },
       "removedWidgets": [],
       "schema": [
        {
         "metadata": "{}",
         "name": "genre",
         "type": "\"string\""
        },
        {
         "metadata": "{}",
         "name": "linux_ratio",
         "type": "\"double\""
        }
       ],
       "type": "table"
      }
     },
     "output_type": "display_data"
    },
    {
     "output_type": "display_data",
     "data": {
      "text/plain": [
       "Databricks visualization. Run in Databricks to view."
      ]
     },
     "metadata": {
      "application/vnd.databricks.v1.subcommand+json": {
       "bindings": {},
       "collapsed": false,
       "command": "%python\n__backend_agg_display_orig = display\n__backend_agg_dfs = []\ndef __backend_agg_display_new(df):\n    __backend_agg_df_modules = [\"pandas.core.frame\", \"databricks.koalas.frame\", \"pyspark.sql.dataframe\", \"pyspark.pandas.frame\", \"pyspark.sql.connect.dataframe\"]\n    if (type(df).__module__ in __backend_agg_df_modules and type(df).__name__ == 'DataFrame') or isinstance(df, list):\n        __backend_agg_dfs.append(df)\n\ndisplay = __backend_agg_display_new\n\ndef __backend_agg_user_code_fn():\n    import base64\n    exec(base64.standard_b64decode(\"ZGZfcGxhdGZvcm1zX2xpbnV4ID0gZGZfcGxhdGZvcm1zX2NhdGVnb3JpZXMuc2VsZWN0KCdnZW5yZScsICdsaW51eF9yYXRpbycpXAogICAgLnNvcnQoJ2xpbnV4X3JhdGlvJywgYXNjZW5kaW5nPUZhbHNlKQoKZGlzcGxheShkZl9wbGF0Zm9ybXNfbGludXgp\").decode())\n\ntry:\n    # run user code\n    __backend_agg_user_code_fn()\n\n    #reset display function\n    display = __backend_agg_display_orig\n\n    if len(__backend_agg_dfs) > 0:\n        # create a temp view\n        if type(__backend_agg_dfs[0]).__module__ == \"databricks.koalas.frame\":\n            # koalas dataframe\n            __backend_agg_dfs[0].to_spark().createOrReplaceTempView(\"DatabricksView10dafac\")\n        elif type(__backend_agg_dfs[0]).__module__ == \"pandas.core.frame\" or isinstance(__backend_agg_dfs[0], list):\n            # pandas dataframe\n            spark.createDataFrame(__backend_agg_dfs[0]).createOrReplaceTempView(\"DatabricksView10dafac\")\n        else:\n            __backend_agg_dfs[0].createOrReplaceTempView(\"DatabricksView10dafac\")\n        #run backend agg\n        display(spark.sql(\"\"\"WITH q AS (select * from DatabricksView10dafac) SELECT `genre`,SUM(`linux_ratio`) `column_ae46c750229` FROM q GROUP BY `genre`\"\"\"))\n    else:\n        displayHTML(\"dataframe no longer exists. If you're using dataframe.display(), use display(dataframe) instead.\")\n\n\nfinally:\n    spark.sql(\"drop view if exists DatabricksView10dafac\")\n    display = __backend_agg_display_orig\n    del __backend_agg_display_new\n    del __backend_agg_display_orig\n    del __backend_agg_dfs\n    del __backend_agg_user_code_fn\n\n",
       "commandTitle": "Disponibilité des jeux par catégorie sur Linux",
       "commandType": "auto",
       "commandVersion": 0,
       "commentThread": [],
       "commentsVisible": false,
       "contentSha256Hex": null,
       "customPlotOptions": {
        "redashChart": [
         {
          "key": "type",
          "value": "CHART"
         },
         {
          "key": "options",
          "value": {
           "alignYAxesAtZero": true,
           "coefficient": 1,
           "columnConfigurationMap": {
            "x": {
             "column": "genre",
             "id": "column_ae46c750228"
            },
            "y": [
             {
              "column": "linux_ratio",
              "id": "column_ae46c750229",
              "transform": "SUM"
             }
            ]
           },
           "dateTimeFormat": "DD/MM/YYYY HH:mm",
           "direction": {
            "type": "counterclockwise"
           },
           "error_y": {
            "type": "data",
            "visible": true
           },
           "globalSeriesType": "column",
           "isAggregationOn": true,
           "legend": {
            "traceorder": "normal"
           },
           "missingValuesAsZero": true,
           "numberFormat": "0,0[.]00000",
           "percentFormat": "0[.]00%",
           "series": {
            "error_y": {
             "type": "data",
             "visible": true
            },
            "stacking": null
           },
           "seriesOptions": {
            "column_ae46c750229": {
             "name": "linux_ratio",
             "yAxis": 0
            }
           },
           "showDataLabels": false,
           "sizemode": "diameter",
           "sortX": false,
           "sortY": true,
           "swappedAxes": true,
           "textFormat": "",
           "useAggregationsUi": true,
           "valuesOptions": {},
           "version": 2,
           "xAxis": {
            "labels": {
             "enabled": true
            },
            "type": "-"
           },
           "yAxis": [
            {
             "type": "-"
            },
            {
             "opposite": true,
             "type": "-"
            }
           ]
          }
         }
        ]
       },
       "datasetPreviewNameToCmdIdMap": {},
       "diffDeletes": [],
       "diffInserts": [],
       "displayType": "redashChart",
       "error": null,
       "errorDetails": null,
       "errorSummary": null,
       "errorTraceType": null,
       "finishTime": 0,
       "globalVars": {},
       "guid": "",
       "height": "545",
       "hideCommandCode": false,
       "hideCommandResult": false,
       "iPythonMetadata": null,
       "inputWidgets": {},
       "isLockedInExamMode": false,
       "latestUser": "a user",
       "latestUserId": null,
       "listResultMetadata": null,
       "metadata": {
        "byteLimit": 2048000,
        "rowLimit": 10000
       },
       "nuid": "a2f7bf3d-e76c-4c5d-aaa4-0aa0e051a4bd",
       "origId": 0,
       "parentHierarchy": [],
       "pivotAggregation": null,
       "pivotColumns": null,
       "position": 18.75,
       "resultDbfsErrorMessage": null,
       "resultDbfsStatus": "INLINED_IN_TREE",
       "results": null,
       "showCommandTitle": false,
       "startTime": 0,
       "state": "finished",
       "streamStates": {},
       "subcommandOptions": {
        "queryPlan": {
         "groups": [
          {
           "column": "genre",
           "type": "column"
          }
         ],
         "selects": [
          {
           "column": "genre",
           "type": "column"
          },
          {
           "alias": "column_ae46c750229",
           "args": [
            {
             "column": "linux_ratio",
             "type": "column"
            }
           ],
           "function": "SUM",
           "type": "function"
          }
         ]
        }
       },
       "submitTime": 0,
       "subtype": "tableResultSubCmd.visualization",
       "tableResultIndex": 0,
       "useConsistentColors": false,
       "version": "CommandV1",
       "width": "1270",
       "workflows": [],
       "xColumns": null,
       "yColumns": null
      }
     },
     "output_type": "display_data"
    }
   ],
   "source": [
    "df_platforms_linux = df_platforms_categories.select('genre', 'linux_ratio')\\\n",
    "    .sort('linux_ratio', ascending=False)\n",
    "\n",
    "display(df_platforms_linux)"
   ]
  },
  {
   "cell_type": "code",
   "execution_count": 0,
   "metadata": {
    "application/vnd.databricks.v1+cell": {
     "cellMetadata": {
      "byteLimit": 2048000,
      "rowLimit": 10000
     },
     "inputWidgets": {},
     "nuid": "8b88d8b7-7427-4e50-848a-a90b00de8085",
     "showTitle": false,
     "title": ""
    }
   },
   "outputs": [
    {
     "output_type": "display_data",
     "data": {
      "text/html": [
       "<style scoped>\n",
       "  .table-result-container {\n",
       "    max-height: 300px;\n",
       "    overflow: auto;\n",
       "  }\n",
       "  table, th, td {\n",
       "    border: 1px solid black;\n",
       "    border-collapse: collapse;\n",
       "  }\n",
       "  th, td {\n",
       "    padding: 5px;\n",
       "  }\n",
       "  th {\n",
       "    text-align: left;\n",
       "  }\n",
       "</style><div class='table-result-container'><table class='table-result'><thead style='background-color: white'><tr><th>genre</th><th>mac_ratio</th></tr></thead><tbody><tr><td>Game Development</td><td>0.3270440251572327</td></tr><tr><td>Strategy</td><td>0.2758145938503901</td></tr><tr><td>Indie</td><td>0.2503717144225196</td></tr><tr><td>Accounting</td><td>0.25</td></tr><tr><td>Free to Play</td><td>0.24904214559386972</td></tr><tr><td>Design & Illustration</td><td>0.24630541871921183</td></tr><tr><td>Sexual Content</td><td>0.24074074074074073</td></tr><tr><td>RPG</td><td>0.23578770715334593</td></tr><tr><td>Adventure</td><td>0.2351266856422939</td></tr><tr><td>Casual</td><td>0.23227383863080683</td></tr><tr><td>Animation & Modeling</td><td>0.22981366459627328</td></tr><tr><td>Simulation</td><td>0.22508305647840532</td></tr><tr><td>Web Publishing</td><td>0.2247191011235955</td></tr><tr><td>Nudity</td><td>0.2222222222222222</td></tr><tr><td>Audio Production</td><td>0.21025641025641026</td></tr><tr><td>Gore</td><td>0.20202020202020202</td></tr><tr><td>Racing</td><td>0.19675174013921112</td></tr><tr><td>Violent</td><td>0.19642857142857142</td></tr><tr><td>Action</td><td>0.19209562692032492</td></tr><tr><td>Sports</td><td>0.18979744936234058</td></tr><tr><td>Massively Multiplayer</td><td>0.18493150684931506</td></tr><tr><td>Education</td><td>0.17665615141955837</td></tr><tr><td>Software Training</td><td>0.16463414634146342</td></tr><tr><td>Photo Editing</td><td>0.1523809523809524</td></tr><tr><td>Utilities</td><td>0.1495601173020528</td></tr><tr><td>Early Access</td><td>0.14646053702196907</td></tr><tr><td>Video Production</td><td>0.11740890688259109</td></tr></tbody></table></div>"
      ]
     },
     "metadata": {
      "application/vnd.databricks.v1+output": {
       "addedWidgets": {},
       "aggData": [],
       "aggError": "",
       "aggOverflow": false,
       "aggSchema": [],
       "aggSeriesLimitReached": false,
       "aggType": "",
       "arguments": {},
       "columnCustomDisplayInfos": {},
       "data": [
        [
         "Game Development",
         0.3270440251572327
        ],
        [
         "Strategy",
         0.2758145938503901
        ],
        [
         "Indie",
         0.2503717144225196
        ],
        [
         "Accounting",
         0.25
        ],
        [
         "Free to Play",
         0.24904214559386972
        ],
        [
         "Design & Illustration",
         0.24630541871921183
        ],
        [
         "Sexual Content",
         0.24074074074074073
        ],
        [
         "RPG",
         0.23578770715334593
        ],
        [
         "Adventure",
         0.2351266856422939
        ],
        [
         "Casual",
         0.23227383863080683
        ],
        [
         "Animation & Modeling",
         0.22981366459627328
        ],
        [
         "Simulation",
         0.22508305647840532
        ],
        [
         "Web Publishing",
         0.2247191011235955
        ],
        [
         "Nudity",
         0.2222222222222222
        ],
        [
         "Audio Production",
         0.21025641025641026
        ],
        [
         "Gore",
         0.20202020202020202
        ],
        [
         "Racing",
         0.19675174013921112
        ],
        [
         "Violent",
         0.19642857142857142
        ],
        [
         "Action",
         0.19209562692032492
        ],
        [
         "Sports",
         0.18979744936234058
        ],
        [
         "Massively Multiplayer",
         0.18493150684931506
        ],
        [
         "Education",
         0.17665615141955837
        ],
        [
         "Software Training",
         0.16463414634146342
        ],
        [
         "Photo Editing",
         0.1523809523809524
        ],
        [
         "Utilities",
         0.1495601173020528
        ],
        [
         "Early Access",
         0.14646053702196907
        ],
        [
         "Video Production",
         0.11740890688259109
        ]
       ],
       "datasetInfos": [],
       "dbfsResultPath": null,
       "isJsonSchema": true,
       "metadata": {},
       "overflow": false,
       "plotOptions": {
        "customPlotOptions": {},
        "displayType": "table",
        "pivotAggregation": null,
        "pivotColumns": null,
        "xColumns": null,
        "yColumns": null
       },
       "removedWidgets": [],
       "schema": [
        {
         "metadata": "{}",
         "name": "genre",
         "type": "\"string\""
        },
        {
         "metadata": "{}",
         "name": "mac_ratio",
         "type": "\"double\""
        }
       ],
       "type": "table"
      }
     },
     "output_type": "display_data"
    },
    {
     "output_type": "display_data",
     "data": {
      "text/plain": [
       "Databricks visualization. Run in Databricks to view."
      ]
     },
     "metadata": {
      "application/vnd.databricks.v1.subcommand+json": {
       "bindings": {},
       "collapsed": false,
       "command": "%python\n__backend_agg_display_orig = display\n__backend_agg_dfs = []\ndef __backend_agg_display_new(df):\n    __backend_agg_df_modules = [\"pandas.core.frame\", \"databricks.koalas.frame\", \"pyspark.sql.dataframe\", \"pyspark.pandas.frame\", \"pyspark.sql.connect.dataframe\"]\n    if (type(df).__module__ in __backend_agg_df_modules and type(df).__name__ == 'DataFrame') or isinstance(df, list):\n        __backend_agg_dfs.append(df)\n\ndisplay = __backend_agg_display_new\n\ndef __backend_agg_user_code_fn():\n    import base64\n    exec(base64.standard_b64decode(\"ZGZfcGxhdGZvcm1zX21hYyA9IGRmX3BsYXRmb3Jtc19jYXRlZ29yaWVzLnNlbGVjdCgnZ2VucmUnLCAnbWFjX3JhdGlvJylcCiAgICAuc29ydCgnbWFjX3JhdGlvJywgYXNjZW5kaW5nPUZhbHNlKQoKZGlzcGxheShkZl9wbGF0Zm9ybXNfbWFjKQ==\").decode())\n\ntry:\n    # run user code\n    __backend_agg_user_code_fn()\n\n    #reset display function\n    display = __backend_agg_display_orig\n\n    if len(__backend_agg_dfs) > 0:\n        # create a temp view\n        if type(__backend_agg_dfs[0]).__module__ == \"databricks.koalas.frame\":\n            # koalas dataframe\n            __backend_agg_dfs[0].to_spark().createOrReplaceTempView(\"DatabricksView4c52985\")\n        elif type(__backend_agg_dfs[0]).__module__ == \"pandas.core.frame\" or isinstance(__backend_agg_dfs[0], list):\n            # pandas dataframe\n            spark.createDataFrame(__backend_agg_dfs[0]).createOrReplaceTempView(\"DatabricksView4c52985\")\n        else:\n            __backend_agg_dfs[0].createOrReplaceTempView(\"DatabricksView4c52985\")\n        #run backend agg\n        display(spark.sql(\"\"\"WITH q AS (select * from DatabricksView4c52985) SELECT `genre`,SUM(`mac_ratio`) `column_ae46c750243` FROM q GROUP BY `genre`\"\"\"))\n    else:\n        displayHTML(\"dataframe no longer exists. If you're using dataframe.display(), use display(dataframe) instead.\")\n\n\nfinally:\n    spark.sql(\"drop view if exists DatabricksView4c52985\")\n    display = __backend_agg_display_orig\n    del __backend_agg_display_new\n    del __backend_agg_display_orig\n    del __backend_agg_dfs\n    del __backend_agg_user_code_fn\n\n",
       "commandTitle": "Disponibilité des jeux par catégorie sur Mac",
       "commandType": "auto",
       "commandVersion": 0,
       "commentThread": [],
       "commentsVisible": false,
       "contentSha256Hex": null,
       "customPlotOptions": {
        "redashChart": [
         {
          "key": "type",
          "value": "CHART"
         },
         {
          "key": "options",
          "value": {
           "alignYAxesAtZero": true,
           "coefficient": 1,
           "columnConfigurationMap": {
            "x": {
             "column": "genre",
             "id": "column_ae46c750242"
            },
            "y": [
             {
              "column": "mac_ratio",
              "id": "column_ae46c750243",
              "transform": "SUM"
             }
            ]
           },
           "dateTimeFormat": "DD/MM/YYYY HH:mm",
           "direction": {
            "type": "counterclockwise"
           },
           "error_y": {
            "type": "data",
            "visible": true
           },
           "globalSeriesType": "column",
           "isAggregationOn": true,
           "legend": {
            "traceorder": "normal"
           },
           "missingValuesAsZero": true,
           "numberFormat": "0,0[.]00000",
           "percentFormat": "0[.]00%",
           "series": {
            "error_y": {
             "type": "data",
             "visible": true
            },
            "stacking": null
           },
           "seriesOptions": {
            "column_ae46c750243": {
             "name": "mac_ratio",
             "yAxis": 0
            }
           },
           "showDataLabels": false,
           "sizemode": "diameter",
           "sortX": false,
           "sortY": true,
           "swappedAxes": true,
           "textFormat": "",
           "useAggregationsUi": true,
           "valuesOptions": {},
           "version": 2,
           "xAxis": {
            "labels": {
             "enabled": true
            },
            "type": "-"
           },
           "yAxis": [
            {
             "type": "-"
            },
            {
             "opposite": true,
             "type": "-"
            }
           ]
          }
         }
        ]
       },
       "datasetPreviewNameToCmdIdMap": {},
       "diffDeletes": [],
       "diffInserts": [],
       "displayType": "redashChart",
       "error": null,
       "errorDetails": null,
       "errorSummary": null,
       "errorTraceType": null,
       "finishTime": 0,
       "globalVars": {},
       "guid": "",
       "height": "546",
       "hideCommandCode": false,
       "hideCommandResult": false,
       "iPythonMetadata": null,
       "inputWidgets": {},
       "isLockedInExamMode": false,
       "latestUser": "a user",
       "latestUserId": null,
       "listResultMetadata": null,
       "metadata": {
        "byteLimit": 2048000,
        "rowLimit": 10000
       },
       "nuid": "69156166-e027-439e-a864-b237476826d8",
       "origId": 0,
       "parentHierarchy": [],
       "pivotAggregation": null,
       "pivotColumns": null,
       "position": 19.0,
       "resultDbfsErrorMessage": null,
       "resultDbfsStatus": "INLINED_IN_TREE",
       "results": null,
       "showCommandTitle": false,
       "startTime": 0,
       "state": "finished",
       "streamStates": {},
       "subcommandOptions": {
        "queryPlan": {
         "groups": [
          {
           "column": "genre",
           "type": "column"
          }
         ],
         "selects": [
          {
           "column": "genre",
           "type": "column"
          },
          {
           "alias": "column_ae46c750243",
           "args": [
            {
             "column": "mac_ratio",
             "type": "column"
            }
           ],
           "function": "SUM",
           "type": "function"
          }
         ]
        }
       },
       "submitTime": 0,
       "subtype": "tableResultSubCmd.visualization",
       "tableResultIndex": 0,
       "useConsistentColors": false,
       "version": "CommandV1",
       "width": "1274",
       "workflows": [],
       "xColumns": null,
       "yColumns": null
      }
     },
     "output_type": "display_data"
    }
   ],
   "source": [
    "df_platforms_mac = df_platforms_categories.select('genre', 'mac_ratio')\\\n",
    "    .sort('mac_ratio', ascending=False)\n",
    "\n",
    "display(df_platforms_mac)"
   ]
  },
  {
   "cell_type": "markdown",
   "metadata": {
    "application/vnd.databricks.v1+cell": {
     "cellMetadata": {
      "byteLimit": 2048000,
      "rowLimit": 10000
     },
     "inputWidgets": {},
     "nuid": "1a1d74f2-80d5-41d2-88c9-1306ba57587b",
     "showTitle": false,
     "title": ""
    }
   },
   "source": [
    "> L'influence des catégories sur le choix des plateformes\n",
    "\n",
    "Nous allons ici nous concentrer sur Linux et Mac. Sur le système Windows, toutes les catégories sont presques entièrement disponibles, il n'y a pas d'intérêt à l'analyser.\n",
    "\n",
    "Pour les deux systèmes d'exploitation, on retrouve en tête les logiciels de développement de jeux vidéo, suivi par les jeux indépendants et les jeux de stratégies. Les autres catégories sont également assez proche du trio de tête.\n",
    "\n",
    "On remarque également que certains logiciels ne sont pas du tout disponibles sur Linux et peu présents sur Mac, cependant Ubisoft n'est pas concerné par cela.\n",
    "\n",
    "Pour savoir s'il est important de développer des jeux compatibles avec Linux et Mac, il serait utile d'obtenir les chiffres d'utilisation/téléchargement de chaque jeu avec les systèmes d'exploitation."
   ]
  }
 ],
 "metadata": {
  "application/vnd.databricks.v1+notebook": {
   "dashboards": [],
   "language": "python",
   "notebookMetadata": {
    "pythonIndentUnit": 4
   },
   "notebookName": "steam-analysis-pyspark",
   "widgets": {}
  }
 },
 "nbformat": 4,
 "nbformat_minor": 0
}
